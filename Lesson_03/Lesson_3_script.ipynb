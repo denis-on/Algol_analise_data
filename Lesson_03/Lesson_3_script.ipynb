{
 "cells": [
  {
   "cell_type": "markdown",
   "metadata": {
    "id": "-h6E40fAWNJT"
   },
   "source": [
    "### Урок 3. Классификация. Логистическая регрессия"
   ]
  },
  {
   "cell_type": "code",
   "execution_count": 1,
   "metadata": {
    "executionInfo": {
     "elapsed": 4,
     "status": "ok",
     "timestamp": 1649697369653,
     "user": {
      "displayName": "Maxim Gasilin",
      "userId": "15501735730920561422"
     },
     "user_tz": -180
    },
    "id": "zhwkeWtb1O0w"
   },
   "outputs": [],
   "source": [
    "import numpy as np\n",
    "import matplotlib.pyplot as plt"
   ]
  },
  {
   "cell_type": "code",
   "execution_count": 2,
   "metadata": {
    "executionInfo": {
     "elapsed": 254,
     "status": "ok",
     "timestamp": 1649697388927,
     "user": {
      "displayName": "Maxim Gasilin",
      "userId": "15501735730920561422"
     },
     "user_tz": -180
    },
    "id": "FeKFn2yb1To4"
   },
   "outputs": [],
   "source": [
    "X = np.array([[1, 1, 1, 1, 1, 1, 1, 1, 1, 1],\n",
    "              [1, 1, 2, 5, 3, 0, 5, 10, 1, 2],\n",
    "              [500, 700, 750, 600, 1450, 800, 1500, 2000, 450, 1000],\n",
    "              [1, 1, 2, 1, 2,  1, 3, 3, 1, 2]], dtype = np.float64)\n",
    "y = np.array([0, 0, 1, 0, 1, 0, 1, 0, 1, 1], dtype = np.float64)"
   ]
  },
  {
   "cell_type": "code",
   "execution_count": 3,
   "metadata": {
    "colab": {
     "base_uri": "https://localhost:8080/"
    },
    "executionInfo": {
     "elapsed": 237,
     "status": "ok",
     "timestamp": 1649697390308,
     "user": {
      "displayName": "Maxim Gasilin",
      "userId": "15501735730920561422"
     },
     "user_tz": -180
    },
    "id": "yXSj4nbxHsFd",
    "outputId": "f176fb01-a4b9-4b0b-e020-7c4a9a67b21a"
   },
   "outputs": [
    {
     "data": {
      "text/plain": [
       "array([[1.00e+00, 1.00e+00, 1.00e+00, 1.00e+00, 1.00e+00, 1.00e+00,\n",
       "        1.00e+00, 1.00e+00, 1.00e+00, 1.00e+00],\n",
       "       [1.00e+00, 1.00e+00, 2.00e+00, 5.00e+00, 3.00e+00, 0.00e+00,\n",
       "        5.00e+00, 1.00e+01, 1.00e+00, 2.00e+00],\n",
       "       [5.00e+02, 7.00e+02, 7.50e+02, 6.00e+02, 1.45e+03, 8.00e+02,\n",
       "        1.50e+03, 2.00e+03, 4.50e+02, 1.00e+03],\n",
       "       [1.00e+00, 1.00e+00, 2.00e+00, 1.00e+00, 2.00e+00, 1.00e+00,\n",
       "        3.00e+00, 3.00e+00, 1.00e+00, 2.00e+00]])"
      ]
     },
     "execution_count": 3,
     "metadata": {},
     "output_type": "execute_result"
    }
   ],
   "source": [
    "X"
   ]
  },
  {
   "cell_type": "code",
   "execution_count": 4,
   "metadata": {
    "colab": {
     "base_uri": "https://localhost:8080/"
    },
    "executionInfo": {
     "elapsed": 228,
     "status": "ok",
     "timestamp": 1649697391776,
     "user": {
      "displayName": "Maxim Gasilin",
      "userId": "15501735730920561422"
     },
     "user_tz": -180
    },
    "id": "QU0A16vZHugZ",
    "outputId": "11911580-bd60-4758-eca6-f7b33f8f32f5"
   },
   "outputs": [
    {
     "data": {
      "text/plain": [
       "array([0., 0., 1., 0., 1., 0., 1., 0., 1., 1.])"
      ]
     },
     "execution_count": 4,
     "metadata": {},
     "output_type": "execute_result"
    }
   ],
   "source": [
    "y"
   ]
  },
  {
   "cell_type": "code",
   "execution_count": 5,
   "metadata": {
    "executionInfo": {
     "elapsed": 235,
     "status": "ok",
     "timestamp": 1649697393339,
     "user": {
      "displayName": "Maxim Gasilin",
      "userId": "15501735730920561422"
     },
     "user_tz": -180
    },
    "id": "M-aO1NTxOUfo"
   },
   "outputs": [],
   "source": [
    "def calc_std_feat(x):\n",
    "    res = (x - x.mean()) / x.std()\n",
    "    return res"
   ]
  },
  {
   "cell_type": "code",
   "execution_count": 6,
   "metadata": {
    "executionInfo": {
     "elapsed": 380,
     "status": "ok",
     "timestamp": 1649697394660,
     "user": {
      "displayName": "Maxim Gasilin",
      "userId": "15501735730920561422"
     },
     "user_tz": -180
    },
    "id": "D8EL0iGJOVpe"
   },
   "outputs": [],
   "source": [
    "X_st = X.copy()\n",
    "X_st[2, :] = calc_std_feat(X[2, :])"
   ]
  },
  {
   "cell_type": "code",
   "execution_count": 7,
   "metadata": {
    "colab": {
     "base_uri": "https://localhost:8080/"
    },
    "executionInfo": {
     "elapsed": 2,
     "status": "ok",
     "timestamp": 1649697395639,
     "user": {
      "displayName": "Maxim Gasilin",
      "userId": "15501735730920561422"
     },
     "user_tz": -180
    },
    "id": "gviMxz7EOuI3",
    "outputId": "74eb5b00-1615-4f05-fe0b-cfd1e76cbc80"
   },
   "outputs": [
    {
     "data": {
      "text/plain": [
       "array([[ 1.        ,  1.        ,  1.        ,  1.        ,  1.        ,\n",
       "         1.        ,  1.        ,  1.        ,  1.        ,  1.        ],\n",
       "       [ 1.        ,  1.        ,  2.        ,  5.        ,  3.        ,\n",
       "         0.        ,  5.        , 10.        ,  1.        ,  2.        ],\n",
       "       [-0.97958969, -0.56713087, -0.46401617, -0.77336028,  0.97958969,\n",
       "        -0.36090146,  1.08270439,  2.11385144, -1.08270439,  0.05155735],\n",
       "       [ 1.        ,  1.        ,  2.        ,  1.        ,  2.        ,\n",
       "         1.        ,  3.        ,  3.        ,  1.        ,  2.        ]])"
      ]
     },
     "execution_count": 7,
     "metadata": {},
     "output_type": "execute_result"
    }
   ],
   "source": [
    "X_st"
   ]
  },
  {
   "cell_type": "code",
   "execution_count": 8,
   "metadata": {
    "executionInfo": {
     "elapsed": 223,
     "status": "ok",
     "timestamp": 1649697397399,
     "user": {
      "displayName": "Maxim Gasilin",
      "userId": "15501735730920561422"
     },
     "user_tz": -180
    },
    "id": "qMR5pOA38dDw"
   },
   "outputs": [],
   "source": [
    "def calc_logloss(y, y_pred):\n",
    "    err = - np.mean(y * np.log(y_pred) + (1.0 - y) * np.log(1.0 - y_pred))\n",
    "    err = np.sum(err)\n",
    "    return err"
   ]
  },
  {
   "cell_type": "code",
   "execution_count": 9,
   "metadata": {
    "colab": {
     "base_uri": "https://localhost:8080/"
    },
    "executionInfo": {
     "elapsed": 235,
     "status": "ok",
     "timestamp": 1649697400760,
     "user": {
      "displayName": "Maxim Gasilin",
      "userId": "15501735730920561422"
     },
     "user_tz": -180
    },
    "id": "R6zfOHMrBvnX",
    "outputId": "8709db65-9684-4f27-be05-f73b78dc9d8a"
   },
   "outputs": [
    {
     "data": {
      "text/plain": [
       "0.10536051565782628"
      ]
     },
     "execution_count": 9,
     "metadata": {},
     "output_type": "execute_result"
    }
   ],
   "source": [
    "# Пример применения\n",
    "y1 = np.array([1, 0])\n",
    "y_pred1 = np.array([0.9, 0.1])\n",
    "calc_logloss(y1, y_pred1)"
   ]
  },
  {
   "cell_type": "code",
   "execution_count": 10,
   "metadata": {
    "executionInfo": {
     "elapsed": 4,
     "status": "ok",
     "timestamp": 1649697402349,
     "user": {
      "displayName": "Maxim Gasilin",
      "userId": "15501735730920561422"
     },
     "user_tz": -180
    },
    "id": "EEF9rWPNDnss"
   },
   "outputs": [],
   "source": [
    "def sigmoid(z):\n",
    "    res = 1 / (1 + np.exp(-z))\n",
    "    return res"
   ]
  },
  {
   "cell_type": "code",
   "execution_count": 11,
   "metadata": {
    "executionInfo": {
     "elapsed": 223,
     "status": "ok",
     "timestamp": 1649697403563,
     "user": {
      "displayName": "Maxim Gasilin",
      "userId": "15501735730920561422"
     },
     "user_tz": -180
    },
    "id": "_9tN8lBEEeXU"
   },
   "outputs": [],
   "source": [
    "z = np.linspace(-10, 10, 101)"
   ]
  },
  {
   "cell_type": "code",
   "execution_count": 12,
   "metadata": {
    "executionInfo": {
     "elapsed": 234,
     "status": "ok",
     "timestamp": 1649697404932,
     "user": {
      "displayName": "Maxim Gasilin",
      "userId": "15501735730920561422"
     },
     "user_tz": -180
    },
    "id": "nvIe3RpbEp4l"
   },
   "outputs": [],
   "source": [
    "probabilities = sigmoid(z)"
   ]
  },
  {
   "cell_type": "code",
   "execution_count": 13,
   "metadata": {
    "colab": {
     "base_uri": "https://localhost:8080/",
     "height": 265
    },
    "executionInfo": {
     "elapsed": 364,
     "status": "ok",
     "timestamp": 1649697406901,
     "user": {
      "displayName": "Maxim Gasilin",
      "userId": "15501735730920561422"
     },
     "user_tz": -180
    },
    "id": "jQsCfht0Et1V",
    "outputId": "8f634439-1ac3-49b6-c3be-5899e1d10d8d"
   },
   "outputs": [
    {
     "data": {
      "image/png": "[encoded data removed]",
      "text/plain": [
       "<Figure size 432x288 with 1 Axes>"
      ]
     },
     "metadata": {
      "needs_background": "light"
     },
     "output_type": "display_data"
    }
   ],
   "source": [
    "plt.plot(z, probabilities)\n",
    "plt.show()"
   ]
  },
  {
   "cell_type": "markdown",
   "metadata": {
    "colab": {
     "base_uri": "https://localhost:8080/",
     "height": 130
    },
    "executionInfo": {
     "elapsed": 221,
     "status": "error",
     "timestamp": 1649697408808,
     "user": {
      "displayName": "Maxim Gasilin",
      "userId": "15501735730920561422"
     },
     "user_tz": -180
    },
    "id": "e6TH-mkPItb6",
    "outputId": "bc98acdc-54fa-4fbf-d769-2b63624a1d24"
   },
   "source": [
    "Logistic Regression"
   ]
  },
  {
   "cell_type": "code",
   "execution_count": 15,
   "metadata": {
    "executionInfo": {
     "elapsed": 250,
     "status": "ok",
     "timestamp": 1649697412574,
     "user": {
      "displayName": "Maxim Gasilin",
      "userId": "15501735730920561422"
     },
     "user_tz": -180
    },
    "id": "qtgUN3LW-UIq"
   },
   "outputs": [],
   "source": [
    "def eval_model(X, y, iterations, alpha=1e-4):\n",
    "    np.random.seed(42)\n",
    "    W = np.random.randn(X.shape[0])\n",
    "    n = X.shape[1]\n",
    "    for i in range(1, iterations+1):\n",
    "        z = np.dot(W, X)\n",
    "        y_pred = sigmoid(z)\n",
    "        err = calc_logloss(y, y_pred)\n",
    "        W -= alpha * (1/n * np.dot((y_pred - y), X.T))\n",
    "        if i % (iterations / 10) == 0:\n",
    "            print(i, W, err)\n",
    "    return W.copy()"
   ]
  },
  {
   "cell_type": "code",
   "execution_count": 16,
   "metadata": {
    "colab": {
     "base_uri": "https://localhost:8080/"
    },
    "executionInfo": {
     "elapsed": 860,
     "status": "ok",
     "timestamp": 1649697415488,
     "user": {
      "displayName": "Maxim Gasilin",
      "userId": "15501735730920561422"
     },
     "user_tz": -180
    },
    "id": "oqX7loklBmYZ",
    "outputId": "590e6594-44af-490e-87b1-39f3cba83911"
   },
   "outputs": [
    {
     "name": "stdout",
     "output_type": "stream",
     "text": [
      "500 [ 0.47822106 -0.20918419  0.64605995  1.49531432] 1.0559639161585663\n",
      "1000 [ 0.46074241 -0.27647603  0.64395686  1.46891696] 0.945214871179169\n",
      "1500 [ 0.44435675 -0.33951515  0.64152026  1.44406912] 0.8478360281905125\n",
      "2000 [ 0.42913461 -0.39751872  0.63899625  1.42106251] 0.7651177745022372\n",
      "2500 [ 0.41513888 -0.44956784  0.63671032  1.40023024] 0.6981293270105478\n",
      "3000 [ 0.40240136 -0.49488241  0.63498247  1.38184975] 0.6468813805442176\n",
      "3500 [ 0.39088925 -0.53321212  0.63401986  1.36601535] 0.6097021563515638\n",
      "4000 [ 0.38049869 -0.56497213  0.63387116  1.35259671] 0.5836774145473647\n",
      "4500 [ 0.37108342 -0.59102182  0.63446603  1.3413119 ] 0.5657147376221167\n",
      "5000 [ 0.36249064 -0.61234585  0.63568321  1.33183158] 0.5532737788236778\n"
     ]
    }
   ],
   "source": [
    "W = eval_model(X_st, y, iterations=5000, alpha=1e-4)"
   ]
  },
  {
   "cell_type": "markdown",
   "metadata": {
    "id": "MW4rVurIWNKE"
   },
   "source": [
    "## Практическое задание"
   ]
  },
  {
   "cell_type": "markdown",
   "metadata": {
    "id": "OrKTLjzpWNKF"
   },
   "source": [
    "1. Измените функцию calc_logloss так, чтобы нули по возможности не попадали в np.log.\n"
   ]
  },
  {
   "cell_type": "code",
   "execution_count": 17,
   "metadata": {
    "executionInfo": {
     "elapsed": 236,
     "status": "ok",
     "timestamp": 1649700783537,
     "user": {
      "displayName": "Maxim Gasilin",
      "userId": "15501735730920561422"
     },
     "user_tz": -180
    },
    "id": "jp0AQlnkRBWC"
   },
   "outputs": [],
   "source": [
    "def calc_logloss(y, y_pred):\n",
    "    err = - np.mean(y * np.log(y_pred) + (1.0 - y) * np.log(1.0 - y_pred))\n",
    "    err = np.sum(err)\n",
    "    return err\n",
    "\n",
    "def calc_logloss_modify(y, y_pred, shift = 1e-07):\n",
    "    modify_y_pred = np.where(y_pred == 0, y_pred + shift, np.where(y_pred == 1, y_pred - shift, y_pred))\n",
    "    err = - np.mean(y * np.log(modify_y_pred) + (1.0 - y) * np.log(1.0 - modify_y_pred))\n",
    "    return err"
   ]
  },
  {
   "cell_type": "code",
   "execution_count": 18,
   "metadata": {
    "colab": {
     "base_uri": "https://localhost:8080/"
    },
    "executionInfo": {
     "elapsed": 220,
     "status": "ok",
     "timestamp": 1649700802467,
     "user": {
      "displayName": "Maxim Gasilin",
      "userId": "15501735730920561422"
     },
     "user_tz": -180
    },
    "id": "21m_2w5splKO",
    "outputId": "694e5384-4287-4752-fa0b-d939c8a60507"
   },
   "outputs": [
    {
     "name": "stdout",
     "output_type": "stream",
     "text": [
      "Результат работы обычного logloss: nan\n",
      "Результат работы модифицированного logloss: 1.998549246271266\n"
     ]
    },
    {
     "name": "stderr",
     "output_type": "stream",
     "text": [
      "C:\\Users\\miniAsus\\AppData\\Local\\Temp\\ipykernel_27984\\766535070.py:2: RuntimeWarning: divide by zero encountered in log\n",
      "  err = - np.mean(y * np.log(y_pred) + (1.0 - y) * np.log(1.0 - y_pred))\n",
      "C:\\Users\\miniAsus\\AppData\\Local\\Temp\\ipykernel_27984\\766535070.py:2: RuntimeWarning: invalid value encountered in multiply\n",
      "  err = - np.mean(y * np.log(y_pred) + (1.0 - y) * np.log(1.0 - y_pred))\n"
     ]
    }
   ],
   "source": [
    "y_pred_tmp=np.array([0.56505739, 0., 0.73651677, 0.55438552, 1.,\n",
    "       0.57898984, 1, 0.5133091 , 0., 0.7149758 ])\n",
    "\n",
    "print(f'Результат работы обычного logloss: {calc_logloss(y, y_pred_tmp)}')\n",
    "print(f'Результат работы модифицированного logloss: {calc_logloss_modify(y, y_pred_tmp, shift = 1e-07)}')"
   ]
  },
  {
   "cell_type": "markdown",
   "metadata": {
    "id": "29HU72941V6n"
   },
   "source": [
    "2. Подберите аргументы функции eval_model для логистической регрессии таким образом, чтобы log loss был минимальным."
   ]
  },
  {
   "cell_type": "code",
   "execution_count": 19,
   "metadata": {
    "executionInfo": {
     "elapsed": 242,
     "status": "ok",
     "timestamp": 1649702654357,
     "user": {
      "displayName": "Maxim Gasilin",
      "userId": "15501735730920561422"
     },
     "user_tz": -180
    },
    "id": "5XEwcxii1XYl"
   },
   "outputs": [],
   "source": [
    "def eval_model_modify(X, y, iterations, alpha = 1e-4, eps = 1e-5):\n",
    "    \n",
    "    np.random.seed(42)\n",
    "    W = np.random.randn(X.shape[0])\n",
    "    n = X.shape[1]\n",
    "    min_err = float('inf') \n",
    "\n",
    "    i = 0  \n",
    "    iter_flag = True  \n",
    "    while iter_flag:\n",
    "        i += 1\n",
    "        z = np.dot(W, X)\n",
    "        y_pred = sigmoid(z)\n",
    "        err = calc_logloss_modify(y, y_pred, shift = 1e-07) # заменим на модифицированную нами функцию\n",
    "        \n",
    "        if np.abs(min_err - err) > eps:  \n",
    "            min_err = err\n",
    "        else:            \n",
    "            iter_flag = False\n",
    "        \n",
    "        if i >= iterations:\n",
    "            iter_flag = False\n",
    "        \n",
    "        W -= alpha * (1/n * np.dot((y_pred - y), X.T))\n",
    "\n",
    "        if i % (iterations / 10) == 0:\n",
    "            print(f'Выполнено итераций: {i}, веса: {W}, ошибка: {min_err}')\n",
    "\n",
    "    return W.copy(), i, err"
   ]
  },
  {
   "cell_type": "code",
   "execution_count": 20,
   "metadata": {
    "colab": {
     "base_uri": "https://localhost:8080/"
    },
    "executionInfo": {
     "elapsed": 624,
     "status": "ok",
     "timestamp": 1649702670228,
     "user": {
      "displayName": "Maxim Gasilin",
      "userId": "15501735730920561422"
     },
     "user_tz": -180
    },
    "id": "NC0wniHA1n42",
    "outputId": "a7c50b23-c16c-4a71-eded-3cadadcee3fc"
   },
   "outputs": [
    {
     "name": "stdout",
     "output_type": "stream",
     "text": [
      "Выполнено итераций: 5542, веса: [-7.66677608 -1.15333097 -1.44957044  6.71441096], ошибка: 0.26693754191923186\n"
     ]
    }
   ],
   "source": [
    "W, it, err = eval_model_modify(X_st, y, iterations=100000, alpha=0.095)\n",
    "print(f'Выполнено итераций: {it}, веса: {W}, ошибка: {err}')\n"
   ]
  },
  {
   "cell_type": "markdown",
   "metadata": {
    "id": "rFvaBZPp8cve"
   },
   "source": [
    "Подбор параметра $\\alpha$"
   ]
  },
  {
   "cell_type": "code",
   "execution_count": 21,
   "metadata": {
    "executionInfo": {
     "elapsed": 3,
     "status": "ok",
     "timestamp": 1649702791042,
     "user": {
      "displayName": "Maxim Gasilin",
      "userId": "15501735730920561422"
     },
     "user_tz": -180
    },
    "id": "9YD09MuR8t_d"
   },
   "outputs": [],
   "source": [
    "def float_range(start, stop, step): # Генератор дробных значений между start и stop. Для экономии памяти.\n",
    "  while start < stop:\n",
    "    yield float(start)\n",
    "    start = start + step"
   ]
  },
  {
   "cell_type": "code",
   "execution_count": 22,
   "metadata": {
    "colab": {
     "base_uri": "https://localhost:8080/"
    },
    "executionInfo": {
     "elapsed": 22606,
     "status": "ok",
     "timestamp": 1649704636987,
     "user": {
      "displayName": "Maxim Gasilin",
      "userId": "15501735730920561422"
     },
     "user_tz": -180
    },
    "id": "K2ngGZWs8pDt",
    "outputId": "ef5f9a3b-185d-491d-8ff8-e5b391feea7b"
   },
   "outputs": [
    {
     "name": "stdout",
     "output_type": "stream",
     "text": [
      "{'alpha': 0.9800000000000006, 'n': 4899, 'err': 0.1457849507292942}\n"
     ]
    }
   ],
   "source": [
    "best_parameters = {'alpha':np.float64(0.0), 'n':np.float64(100000.09), 'err':float('inf')}\n",
    "iter = float_range(0.01, 0.99, 0.01)\n",
    "\n",
    "cnt = 0\n",
    "while 1:\n",
    "    try: alpha = next(iter)   \n",
    "    except StopIteration:    # Больше нет элементов\n",
    "        break\n",
    "    \n",
    "    cnt += 1\n",
    "\n",
    "    W, it, err = eval_model_modify(X_st, y, iterations=100000, alpha = alpha)\n",
    "    if err < best_parameters['err'] or (err == best_parameters['err'] and it < best_parameters['n']):\n",
    "        best_parameters['alpha'] = alpha\n",
    "        best_parameters['n'] = it\n",
    "        best_parameters['err'] = err\n",
    "\n",
    "    if cnt % 100 == 0:\n",
    "        print(best_parameters)\n",
    "\n",
    "print(best_parameters)\n"
   ]
  },
  {
   "cell_type": "markdown",
   "metadata": {
    "id": "ZPxcWBzkGpk_"
   },
   "source": [
    "Более тонкая настройка $\\alpha$"
   ]
  },
  {
   "cell_type": "code",
   "execution_count": 23,
   "metadata": {
    "colab": {
     "base_uri": "https://localhost:8080/"
    },
    "executionInfo": {
     "elapsed": 44421,
     "status": "ok",
     "timestamp": 1649705418299,
     "user": {
      "displayName": "Maxim Gasilin",
      "userId": "15501735730920561422"
     },
     "user_tz": -180
    },
    "id": "Nmkd4noGFyj2",
    "outputId": "703df857-a9af-490a-adae-6273c5a53de2"
   },
   "outputs": [
    {
     "name": "stdout",
     "output_type": "stream",
     "text": [
      "{'alpha': 0.9798999999999989, 'n': 4899, 'err': 0.14578999621630476}\n",
      "{'alpha': 0.9898999999999978, 'n': 4886, 'err': 0.14541845873487916}\n",
      "{'alpha': 0.9998999999999967, 'n': 4873, 'err': 0.14505297527877684}\n",
      "{'alpha': 0.9999999999999967, 'n': 4873, 'err': 0.14504805092093204}\n"
     ]
    }
   ],
   "source": [
    "best_parameters = {'alpha':np.float64(0.0), 'n':np.float64(100000.09), 'err':float('inf')}\n",
    "iter = float_range(0.97, 1, 0.0001)\n",
    "\n",
    "cnt = 0\n",
    "while 1:\n",
    "    try: alpha = next(iter)   \n",
    "    except StopIteration:    # Больше нет элементов\n",
    "        break\n",
    "    \n",
    "    cnt += 1\n",
    "\n",
    "    W, it, err = eval_model_modify(X_st, y, iterations=100000, alpha = alpha)\n",
    "    if err < best_parameters['err'] or (err == best_parameters['err'] and it < best_parameters['n']):\n",
    "        best_parameters['alpha'] = alpha\n",
    "        best_parameters['n'] = it\n",
    "        best_parameters['err'] = err\n",
    "\n",
    "    if cnt % 100 == 0:\n",
    "        print(best_parameters)\n",
    "\n",
    "print(best_parameters)"
   ]
  },
  {
   "cell_type": "markdown",
   "metadata": {
    "id": "tMgSdBeYG3df"
   },
   "source": [
    "В итоге, лучшее значение параметра $\\alpha$ равно 0.9999. При этом достигается минимальное значение log loss = 0.145048"
   ]
  },
  {
   "cell_type": "markdown",
   "metadata": {
    "id": "8Ug8Mijuq4GW"
   },
   "source": [
    "\n",
    "3. Создайте функцию calc_pred_proba, возвращающую предсказанную вероятность класса 1. На вход подаётся W, который уже посчитан функцией eval_model, и X, на выходе — массив y_pred_proba.\n"
   ]
  },
  {
   "cell_type": "code",
   "execution_count": 24,
   "metadata": {
    "executionInfo": {
     "elapsed": 275,
     "status": "ok",
     "timestamp": 1649708269832,
     "user": {
      "displayName": "Maxim Gasilin",
      "userId": "15501735730920561422"
     },
     "user_tz": -180
    },
    "id": "p8ZOKqTwRjsf"
   },
   "outputs": [],
   "source": [
    "def calc_pred_proba(w, x): \n",
    "    pred_proba = sigmoid(np.dot(w, x))\n",
    "    return pred_proba"
   ]
  },
  {
   "cell_type": "code",
   "execution_count": 25,
   "metadata": {
    "colab": {
     "base_uri": "https://localhost:8080/"
    },
    "executionInfo": {
     "elapsed": 588,
     "status": "ok",
     "timestamp": 1649708428310,
     "user": {
      "displayName": "Maxim Gasilin",
      "userId": "15501735730920561422"
     },
     "user_tz": -180
    },
    "id": "IgS5psWLRrBu",
    "outputId": "6e9fd7ca-318a-4bdf-fd17-1e579aadcb8f"
   },
   "outputs": [
    {
     "name": "stdout",
     "output_type": "stream",
     "text": [
      "Выполнено итераций: 1000, веса: [-10.79341152  -1.38792507  -2.43584261   9.17320302], ошибка: 0.23171909537129656\n",
      "Выполнено итераций: 2000, веса: [-15.46253393  -1.78447228  -3.83915297  12.94603196], ошибка: 0.19321057997090438\n",
      "Выполнено итераций: 3000, веса: [-19.06030494  -2.1026944   -4.89280141  15.87012348], ошибка: 0.17040607901596894\n",
      "Выполнено итераций: 4000, веса: [-22.02257707  -2.36829915  -5.74862278  18.2784113 ], ошибка: 0.15498329356374735\n"
     ]
    }
   ],
   "source": [
    "W, _it, _err  = eval_model_modify(X_st, y, iterations=10000, alpha=0.9999, )"
   ]
  },
  {
   "cell_type": "code",
   "execution_count": 26,
   "metadata": {
    "colab": {
     "base_uri": "https://localhost:8080/"
    },
    "executionInfo": {
     "elapsed": 218,
     "status": "ok",
     "timestamp": 1649708460161,
     "user": {
      "displayName": "Maxim Gasilin",
      "userId": "15501735730920561422"
     },
     "user_tz": -180
    },
    "id": "nwU-VdrjSV7v",
    "outputId": "7f7ce5ab-8886-4384-8e8e-1de6b5c59ab3"
   },
   "outputs": [
    {
     "data": {
      "text/plain": [
       "array([3.83512457e-01, 4.27582125e-02, 9.99998931e-01, 5.74511610e-06,\n",
       "       8.76738241e-01, 1.35109715e-01, 9.99999912e-01, 3.99887082e-02,\n",
       "       5.45818887e-01, 9.99971252e-01])"
      ]
     },
     "execution_count": 26,
     "metadata": {},
     "output_type": "execute_result"
    }
   ],
   "source": [
    "y_pred_prob = calc_pred_proba(W, X_st)\n",
    "y_pred_prob"
   ]
  },
  {
   "cell_type": "markdown",
   "metadata": {
    "id": "QkMGbU9cRi5_"
   },
   "source": [
    "4. Создайте функцию calc_pred, возвращающую предсказанный класс. На вход подаётся W, который уже посчитан функцией eval_model, и X, на выходе — массив y_pred."
   ]
  },
  {
   "cell_type": "code",
   "execution_count": 27,
   "metadata": {
    "executionInfo": {
     "elapsed": 240,
     "status": "ok",
     "timestamp": 1649708684120,
     "user": {
      "displayName": "Maxim Gasilin",
      "userId": "15501735730920561422"
     },
     "user_tz": -180
    },
    "id": "hszCcTAzTMGm"
   },
   "outputs": [],
   "source": [
    "def calc_pred(w,x, prob_lim = 0.5):    # порог вероятности, при превышении которого, объект будет относиться к классу 1\n",
    "    pred_proba = sigmoid(np.dot(w, x))\n",
    "    pred = np.zeros_like(pred_proba)\n",
    "    for idx, prob in enumerate(pred_proba):\n",
    "        if prob > prob_lim:\n",
    "            pred[idx] = 1\n",
    "    return pred"
   ]
  },
  {
   "cell_type": "code",
   "execution_count": 28,
   "metadata": {
    "colab": {
     "base_uri": "https://localhost:8080/"
    },
    "executionInfo": {
     "elapsed": 222,
     "status": "ok",
     "timestamp": 1649708707530,
     "user": {
      "displayName": "Maxim Gasilin",
      "userId": "15501735730920561422"
     },
     "user_tz": -180
    },
    "id": "reUPZnMJTPXu",
    "outputId": "abbef90a-bf16-4460-c929-e9d1f2c13d92"
   },
   "outputs": [
    {
     "data": {
      "text/plain": [
       "array([0., 0., 1., 0., 1., 0., 1., 0., 1., 1.])"
      ]
     },
     "execution_count": 28,
     "metadata": {},
     "output_type": "execute_result"
    }
   ],
   "source": [
    "y_pred=calc_pred(W, X_st)\n",
    "y_pred"
   ]
  },
  {
   "cell_type": "markdown",
   "metadata": {
    "id": "VsnrYla8TBpv"
   },
   "source": [
    "5. Посчитайте Accuracy, матрицу ошибок, точность и полноту, а также F1 score."
   ]
  },
  {
   "cell_type": "code",
   "execution_count": 29,
   "metadata": {
    "executionInfo": {
     "elapsed": 577,
     "status": "ok",
     "timestamp": 1649708798517,
     "user": {
      "displayName": "Maxim Gasilin",
      "userId": "15501735730920561422"
     },
     "user_tz": -180
    },
    "id": "whDv_3HUToFG"
   },
   "outputs": [],
   "source": [
    "from sklearn.metrics import accuracy_score, confusion_matrix, recall_score, precision_score, f1_score"
   ]
  },
  {
   "cell_type": "code",
   "execution_count": 30,
   "metadata": {
    "executionInfo": {
     "elapsed": 217,
     "status": "ok",
     "timestamp": 1649710121069,
     "user": {
      "displayName": "Maxim Gasilin",
      "userId": "15501735730920561422"
     },
     "user_tz": -180
    },
    "id": "06W0tQEPTr3v"
   },
   "outputs": [],
   "source": [
    "def custom_accuracy(real, pred):\n",
    "    trues = np.sum(real-pred == 0) \n",
    "    return trues / len(real) \n",
    "        "
   ]
  },
  {
   "cell_type": "code",
   "execution_count": 31,
   "metadata": {
    "colab": {
     "base_uri": "https://localhost:8080/"
    },
    "executionInfo": {
     "elapsed": 213,
     "status": "ok",
     "timestamp": 1649710061611,
     "user": {
      "displayName": "Maxim Gasilin",
      "userId": "15501735730920561422"
     },
     "user_tz": -180
    },
    "id": "BWydxLs-VxiQ",
    "outputId": "b8946542-de0a-411a-fa30-45705b67ff8f"
   },
   "outputs": [
    {
     "data": {
      "text/plain": [
       "0.0"
      ]
     },
     "execution_count": 31,
     "metadata": {},
     "output_type": "execute_result"
    }
   ],
   "source": [
    "custom_accuracy(y,y_pred) - accuracy_score(y,y_pred)"
   ]
  },
  {
   "cell_type": "code",
   "execution_count": 32,
   "metadata": {
    "executionInfo": {
     "elapsed": 235,
     "status": "ok",
     "timestamp": 1649710477157,
     "user": {
      "displayName": "Maxim Gasilin",
      "userId": "15501735730920561422"
     },
     "user_tz": -180
    },
    "id": "x6g8CpD5Xlvw"
   },
   "outputs": [],
   "source": [
    "def custom_confusion_matrix(real, pred):\n",
    "    n_classes=len(np.unique(real))\n",
    "    all_res=len(real)\n",
    "    conf_matr=np.zeros((n_classes,n_classes), dtype='int')\n",
    "    for i in range(all_res):\n",
    "        conf_matr[int(real[i])][int(pred[i])] += 1\n",
    "    return conf_matr  \n",
    "    "
   ]
  },
  {
   "cell_type": "code",
   "execution_count": 33,
   "metadata": {
    "colab": {
     "base_uri": "https://localhost:8080/"
    },
    "executionInfo": {
     "elapsed": 4,
     "status": "ok",
     "timestamp": 1649710478031,
     "user": {
      "displayName": "Maxim Gasilin",
      "userId": "15501735730920561422"
     },
     "user_tz": -180
    },
    "id": "4pKw-tWWYapv",
    "outputId": "a9d20e4c-c67c-4a82-8f4c-2284baebd3c8"
   },
   "outputs": [
    {
     "data": {
      "text/plain": [
       "array([[0, 0],\n",
       "       [0, 0]], dtype=int64)"
      ]
     },
     "execution_count": 33,
     "metadata": {},
     "output_type": "execute_result"
    }
   ],
   "source": [
    "custom_confusion_matrix(y,y_pred) - confusion_matrix(y,y_pred)"
   ]
  },
  {
   "cell_type": "code",
   "execution_count": 34,
   "metadata": {
    "executionInfo": {
     "elapsed": 200,
     "status": "ok",
     "timestamp": 1649710553240,
     "user": {
      "displayName": "Maxim Gasilin",
      "userId": "15501735730920561422"
     },
     "user_tz": -180
    },
    "id": "fZFPp-UeaG__"
   },
   "outputs": [],
   "source": [
    "def custom_precision_score(real, pred):\n",
    "    tn, fp, fn, tp = custom_confusion_matrix(real, pred).ravel()\n",
    "    return tp/(tp+fp)"
   ]
  },
  {
   "cell_type": "code",
   "execution_count": 35,
   "metadata": {
    "colab": {
     "base_uri": "https://localhost:8080/"
    },
    "executionInfo": {
     "elapsed": 220,
     "status": "ok",
     "timestamp": 1649710554453,
     "user": {
      "displayName": "Maxim Gasilin",
      "userId": "15501735730920561422"
     },
     "user_tz": -180
    },
    "id": "Vs67KqwqaHBJ",
    "outputId": "3a87abee-f04d-4579-f830-027842a254f6"
   },
   "outputs": [
    {
     "data": {
      "text/plain": [
       "0.0"
      ]
     },
     "execution_count": 35,
     "metadata": {},
     "output_type": "execute_result"
    }
   ],
   "source": [
    "custom_precision_score(y,y_pred) - precision_score(y,y_pred)"
   ]
  },
  {
   "cell_type": "code",
   "execution_count": 36,
   "metadata": {
    "executionInfo": {
     "elapsed": 213,
     "status": "ok",
     "timestamp": 1649710601949,
     "user": {
      "displayName": "Maxim Gasilin",
      "userId": "15501735730920561422"
     },
     "user_tz": -180
    },
    "id": "TYOpFqJjaZLP"
   },
   "outputs": [],
   "source": [
    "def custom_recall_score(real, pred):\n",
    "    tn, fp, fn, tp = custom_confusion_matrix(real, pred).ravel()\n",
    "    return tp/(tp+fn)"
   ]
  },
  {
   "cell_type": "code",
   "execution_count": 37,
   "metadata": {
    "colab": {
     "base_uri": "https://localhost:8080/"
    },
    "executionInfo": {
     "elapsed": 213,
     "status": "ok",
     "timestamp": 1649710621781,
     "user": {
      "displayName": "Maxim Gasilin",
      "userId": "15501735730920561422"
     },
     "user_tz": -180
    },
    "id": "ckIACuHnafeX",
    "outputId": "1332640f-3fde-4baf-a100-b78704d8333f"
   },
   "outputs": [
    {
     "data": {
      "text/plain": [
       "0.0"
      ]
     },
     "execution_count": 37,
     "metadata": {},
     "output_type": "execute_result"
    }
   ],
   "source": [
    "custom_recall_score(y,y_pred) - recall_score(y,y_pred)"
   ]
  },
  {
   "cell_type": "code",
   "execution_count": 38,
   "metadata": {
    "executionInfo": {
     "elapsed": 202,
     "status": "ok",
     "timestamp": 1649710716043,
     "user": {
      "displayName": "Maxim Gasilin",
      "userId": "15501735730920561422"
     },
     "user_tz": -180
    },
    "id": "gyuKIfgYarW_"
   },
   "outputs": [],
   "source": [
    "def custom_f1_score(real, pred, beta=1):\n",
    "    return (1+beta**2)*custom_precision_score(real, pred)*custom_recall_score(y,y_pred)/(beta**2*custom_precision_score(real, pred)+custom_recall_score(y,y_pred))"
   ]
  },
  {
   "cell_type": "code",
   "execution_count": 39,
   "metadata": {
    "colab": {
     "base_uri": "https://localhost:8080/"
    },
    "executionInfo": {
     "elapsed": 213,
     "status": "ok",
     "timestamp": 1649710748743,
     "user": {
      "displayName": "Maxim Gasilin",
      "userId": "15501735730920561422"
     },
     "user_tz": -180
    },
    "id": "Ccd44uoya-Uf",
    "outputId": "27d55c8c-bbd0-4895-d138-953569b427fb"
   },
   "outputs": [
    {
     "data": {
      "text/plain": [
       "0.0"
      ]
     },
     "execution_count": 39,
     "metadata": {},
     "output_type": "execute_result"
    }
   ],
   "source": [
    "custom_f1_score(y,y_pred) - f1_score(y,y_pred)"
   ]
  },
  {
   "cell_type": "markdown",
   "metadata": {
    "id": "kAXCZ-4MTDkH"
   },
   "source": [
    "6. Могла ли модель переобучиться? Почему?"
   ]
  },
  {
   "cell_type": "markdown",
   "metadata": {
    "id": "oTm_rghPbh0X"
   },
   "source": [
    "Может, т.к. использует сигмоиду. А сигмоида не имеет максимума и минимума. В результате чего градиентный спуск не сможет достичь оптимального решения."
   ]
  },
  {
   "cell_type": "code",
   "execution_count": null,
   "metadata": {},
   "outputs": [],
   "source": []
  }
 ],
 "metadata": {
  "colab": {
   "collapsed_sections": [],
   "name": "Lesson_3_script.ipynb",
   "provenance": []
  },
  "kernelspec": {
   "display_name": "Python 3 (ipykernel)",
   "language": "python",
   "name": "python3"
  },
  "language_info": {
   "codemirror_mode": {
    "name": "ipython",
    "version": 3
   },
   "file_extension": ".py",
   "mimetype": "text/x-python",
   "name": "python",
   "nbconvert_exporter": "python",
   "pygments_lexer": "ipython3",
   "version": "3.9.12"
  }
 },
 "nbformat": 4,
 "nbformat_minor": 1
}
