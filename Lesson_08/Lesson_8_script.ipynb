{
 "cells": [
  {
   "cell_type": "markdown",
   "metadata": {
    "id": "UIAqr2CPdfJe"
   },
   "source": [
    "# Урок 8. Снижение размерности данных "
   ]
  },
  {
   "cell_type": "markdown",
   "metadata": {
    "id": "oOcLKigsdfJg"
   },
   "source": [
    "Большая размерность данных (под ней понимается размерность пространства признаков, то есть их количество) может серьезно усложнить задачу анализа таких данных и даже стать причиной некорректной работы некоторых алгоритмов. Кроме того, часто в исходных данных могут присутствовать лишние признаки, никак не связанные с целевой переменной. Поэтому часто встает задача понижения количества признаков, оставляя при этом самые значимые (наиболее сильно влияющие на значение целевого параметра) с отсечением менее значимых (наиболее слабо коррелирующих со значением целевого параметра) или с формированием новых признаков на основе старых. То есть ставится задача перехода от пространства большей размерности к пространству меньшей размерности с сохранением максимального количества полезной информации."
   ]
  },
  {
   "cell_type": "markdown",
   "metadata": {
    "id": "_Pa5-7u-dfJh"
   },
   "source": [
    "## Алгоритмы снижения размерности"
   ]
  },
  {
   "cell_type": "markdown",
   "metadata": {
    "id": "zspAp10fdfJi"
   },
   "source": [
    "Алгоритмы снижения размерности пространства признаков делятся на две группы - _отбор признаков_ (то есть отбрасывание наименее важных признаков) и _понижение размерности_ путем формирования новых признаков на основе старых."
   ]
  },
  {
   "cell_type": "markdown",
   "metadata": {
    "id": "Lmvx3YA5dfJj"
   },
   "source": [
    "### Отбор признаков"
   ]
  },
  {
   "cell_type": "markdown",
   "metadata": {
    "id": "isLulqvJdfJk"
   },
   "source": [
    "Самым простым и примитивным методом отбора является _одномерный отбор признаков_. Он заключается в оценке предсказательной силы каждого признака, то есть его информативности - насколько он коррелирует с целевой переменной. Затем отбираются либо заданное количество $k$ признаков, либо те признаки, информативность которых выше некоторого порога."
   ]
  },
  {
   "cell_type": "markdown",
   "metadata": {
    "id": "U547aIwTdfJl"
   },
   "source": [
    "Оценка предсказательной силы признака (или степени связи этого признака и целевой переменной) может проводиться разными методами, например:\n",
    "\n",
    "- в случае регрессии - _корреляция_ $$R_{j} = \\frac{\\sum_{i=1}^{l}(x_{ij} - \\bar{x}_{j})(y_{i} - \\bar{y})}{\\sqrt{\\sum_{i=1}^{l}(x_{ij} - \\bar{x}_{j})^{2}\\sum_{i=1}^{l}(y_{i} - \\bar{y})^{2}}},$$ где $\\bar{x_{j}}$ и $\\bar{y}$ - среднее значение $j$-го признака и целевой переменной, соответственно. Чем больше по модулю корреляция ($\\pm 1$), тем информативнее признак. Следует заметить, что этот метод учитывает только линейную связь между признаком и целевой переменной.\n",
    "\n",
    "\n",
    "- в случае задачи классификации - _взаимная информация (mutual information)_, моделирующая корреляцию между признаками и классами. Она использует в расчете вероятность того, что одновременно значение $j$-го признака $x_{ij}$ равно числу $v$ и значение целевой переменной $y_{i}=k$, или, другими словами, долю таких объектов от общего количества объектов в выборке $P(x=v,y=k)$. Тогда взаимная информация будет находиться как $$MI_{j}=\\sum_{v \\in X}\\sum_{k \\in Y}P(x=v,y=k)\\text{log}\\frac{P(x=v,y=k)}{P(x=v)P(y=k)}.$$ Здесь $P(x=v)$ и $P(y=k)$ - доли объектов, на которых значение признака равно $v$ и значение целевой переменной равно $k$, соответственно. Если признак и целевая переменная независимы, то взаимная информация обращается в ноль. В отличие от предыдущего метода, этот метод позволяет находять произвольные зависимости (в т.ч. нелинейные) в пространстве произвольной размерности.\n",
    "\n",
    "Такие методы позволяют оценить важность исключительно каждого признака отдельно, без учета влияния комбинаций признаков на целевую переменную, поэтому они и называются одномерными. На практике зачастую признаки влияют именно в совокупности, и по отдельности могут ошибочно быть расценены как некоррелирующие с целевой переменной, поэтому одномерные методы отбора не являются оптимальным методом в большинстве случаев."
   ]
  },
  {
   "cell_type": "markdown",
   "metadata": {
    "id": "jvdQlxMpZzVP"
   },
   "source": [
    "Пример 1:\n",
    "\n",
    "Х - случайная величина в диапазоне [0,100]\n",
    "Y = X * C + e, E[e] = 0, C = 100"
   ]
  },
  {
   "cell_type": "code",
   "execution_count": 1,
   "metadata": {
    "colab": {
     "base_uri": "https://localhost:8080/",
     "height": 294
    },
    "executionInfo": {
     "elapsed": 281,
     "status": "ok",
     "timestamp": 1651254302177,
     "user": {
      "displayName": "Maxim Gasilin",
      "userId": "15501735730920561422"
     },
     "user_tz": -180
    },
    "id": "4zg6mmHwZzVQ",
    "outputId": "26d8a2ba-2601-46f5-8d68-7122ce0a19b3"
   },
   "outputs": [
    {
     "data": {
      "image/png": "[encoded data removed]",
      "text/plain": [
       "<Figure size 432x288 with 1 Axes>"
      ]
     },
     "metadata": {
      "needs_background": "light"
     },
     "output_type": "display_data"
    }
   ],
   "source": [
    "import numpy as np\n",
    "\n",
    "import matplotlib.pyplot as plt\n",
    "\n",
    "\n",
    "\n",
    "N=200\n",
    "X1 = np.random.random(N) * 100\n",
    "\n",
    "C = 100\n",
    "Y1 = X1 * C + np.random.randn(N)*C\n",
    "\n",
    "plt.plot(X1,Y1,'ob')\n",
    "plt.title('связь Х, У')\n",
    "plt.xlabel('X')\n",
    "plt.ylabel('Y')\n",
    "plt.show()"
   ]
  },
  {
   "cell_type": "code",
   "execution_count": 2,
   "metadata": {
    "colab": {
     "base_uri": "https://localhost:8080/"
    },
    "executionInfo": {
     "elapsed": 8,
     "status": "ok",
     "timestamp": 1651254302450,
     "user": {
      "displayName": "Maxim Gasilin",
      "userId": "15501735730920561422"
     },
     "user_tz": -180
    },
    "id": "YlzmATsgZzVS",
    "outputId": "7155dc55-21ae-4f7a-9681-b27a0c5ab3d9"
   },
   "outputs": [
    {
     "name": "stdout",
     "output_type": "stream",
     "text": [
      "Ковариация Х,У :  81572.12453790459\n"
     ]
    }
   ],
   "source": [
    "Cov1 = np.dot((X1 - np.mean(X1)),(Y1-np.mean(Y1)))/N\n",
    "print('Ковариация Х,У : ', Cov1)"
   ]
  },
  {
   "cell_type": "code",
   "execution_count": 3,
   "metadata": {
    "colab": {
     "base_uri": "https://localhost:8080/"
    },
    "executionInfo": {
     "elapsed": 7,
     "status": "ok",
     "timestamp": 1651254302450,
     "user": {
      "displayName": "Maxim Gasilin",
      "userId": "15501735730920561422"
     },
     "user_tz": -180
    },
    "id": "8sYtzWF4ZzVT",
    "outputId": "db3d0a11-41ef-4be9-f7f7-a2631dc9841e"
   },
   "outputs": [
    {
     "name": "stdout",
     "output_type": "stream",
     "text": [
      "Ковариация Y1,Х1 :  81572.12453790459\n"
     ]
    }
   ],
   "source": [
    "Cov_1 = np.dot((Y1 - np.mean(Y1)),(X1-np.mean(X1)))/N\n",
    "print('Ковариация Y1,Х1 : ', Cov_1)"
   ]
  },
  {
   "cell_type": "code",
   "execution_count": 4,
   "metadata": {
    "colab": {
     "base_uri": "https://localhost:8080/"
    },
    "executionInfo": {
     "elapsed": 5,
     "status": "ok",
     "timestamp": 1651254302450,
     "user": {
      "displayName": "Maxim Gasilin",
      "userId": "15501735730920561422"
     },
     "user_tz": -180
    },
    "id": "AAwYD5FlZzVT",
    "outputId": "ef26f720-5879-411f-f78a-2a3e6c83eafe"
   },
   "outputs": [
    {
     "name": "stdout",
     "output_type": "stream",
     "text": [
      "Ковариация Х1,X1 :  812.2514384436697\n"
     ]
    }
   ],
   "source": [
    "Cov11 = np.dot((X1 - np.mean(X1)),(X1-np.mean(X1)))/N\n",
    "print('Ковариация Х1,X1 : ', Cov11)"
   ]
  },
  {
   "cell_type": "markdown",
   "metadata": {
    "id": "WiH1ZU0AZzVU"
   },
   "source": [
    "**Пример 2:**\n",
    "\n",
    "    Х - случайная величина в диапазоне [0,100]\n",
    "    Y = случайная величина в диапазоне [0,10000], C = 2000"
   ]
  },
  {
   "cell_type": "code",
   "execution_count": 5,
   "metadata": {
    "colab": {
     "base_uri": "https://localhost:8080/",
     "height": 294
    },
    "executionInfo": {
     "elapsed": 476,
     "status": "ok",
     "timestamp": 1651254302922,
     "user": {
      "displayName": "Maxim Gasilin",
      "userId": "15501735730920561422"
     },
     "user_tz": -180
    },
    "id": "jbY8Gz1AZzVU",
    "outputId": "e12a7250-362c-4ad6-8ca9-2cef07220ccf"
   },
   "outputs": [
    {
     "data": {
      "image/png": "[encoded data removed]",
      "text/plain": [
       "<Figure size 432x288 with 1 Axes>"
      ]
     },
     "metadata": {
      "needs_background": "light"
     },
     "output_type": "display_data"
    }
   ],
   "source": [
    "N=200\n",
    "X2 = np.random.random(N) * 100\n",
    "\n",
    "C = 2000\n",
    "Y2 = np.random.randn(N)*C+C*2\n",
    "\n",
    "plt.plot(X2,Y2,'ob')\n",
    "plt.title('связь Х, У')\n",
    "plt.xlabel('X')\n",
    "plt.ylabel('Y')\n",
    "plt.show()"
   ]
  },
  {
   "cell_type": "code",
   "execution_count": 6,
   "metadata": {
    "colab": {
     "base_uri": "https://localhost:8080/"
    },
    "executionInfo": {
     "elapsed": 9,
     "status": "ok",
     "timestamp": 1651254302923,
     "user": {
      "displayName": "Maxim Gasilin",
      "userId": "15501735730920561422"
     },
     "user_tz": -180
    },
    "id": "CksHJGWeZzVU",
    "outputId": "29eae179-be8d-4e07-a92b-2207e1eda7c1"
   },
   "outputs": [
    {
     "name": "stdout",
     "output_type": "stream",
     "text": [
      "Ковариация Х,У :  -2172.0855254926073\n"
     ]
    }
   ],
   "source": [
    "Cov2 = np.dot((X2 - np.mean(X2)),(Y2-np.mean(Y2)))/N\n",
    "print('Ковариация Х,У : ', Cov2)"
   ]
  },
  {
   "cell_type": "code",
   "execution_count": 7,
   "metadata": {
    "colab": {
     "base_uri": "https://localhost:8080/",
     "height": 294
    },
    "executionInfo": {
     "elapsed": 9,
     "status": "ok",
     "timestamp": 1651254302924,
     "user": {
      "displayName": "Maxim Gasilin",
      "userId": "15501735730920561422"
     },
     "user_tz": -180
    },
    "id": "Te3Fjj80ZzVV",
    "outputId": "bb5cf888-807b-43c8-c61c-4c702cefbce2"
   },
   "outputs": [
    {
     "data": {
      "image/png": "[encoded data removed]",
      "text/plain": [
       "<Figure size 432x288 with 1 Axes>"
      ]
     },
     "metadata": {
      "needs_background": "light"
     },
     "output_type": "display_data"
    }
   ],
   "source": [
    "N=200\n",
    "X3 = np.random.random(N) * 100\n",
    "\n",
    "C = 20\n",
    "Y3 = np.random.randn(N)*C+X3* C\n",
    "\n",
    "plt.plot(X3,Y3,'ob')\n",
    "plt.title('связь Х, У')\n",
    "plt.xlabel('X')\n",
    "plt.ylabel('Y')\n",
    "plt.show()"
   ]
  },
  {
   "cell_type": "code",
   "execution_count": 8,
   "metadata": {
    "colab": {
     "base_uri": "https://localhost:8080/"
    },
    "executionInfo": {
     "elapsed": 7,
     "status": "ok",
     "timestamp": 1651254302924,
     "user": {
      "displayName": "Maxim Gasilin",
      "userId": "15501735730920561422"
     },
     "user_tz": -180
    },
    "id": "_lkej-DmZzVV",
    "outputId": "b44352ce-02d9-4db8-8ad3-cb64177b35fe"
   },
   "outputs": [
    {
     "name": "stdout",
     "output_type": "stream",
     "text": [
      "Корреляция Х1, У1:  0.9993707738593715\n",
      "Корреляция Х2, У2:  -0.0366334287438221\n",
      "Корреляция Х3, У3:  0.9994001604624326\n"
     ]
    }
   ],
   "source": [
    "def correl(X,Y):\n",
    "    s1 =np.mean((X-np.mean(X))**2)\n",
    "    s2 =np.mean((Y-np.mean(Y))**2)\n",
    "    return np.dot((X - np.mean(X)),(Y-np.mean(Y)))/np.sqrt(s1*s2)/X.shape[0]\n",
    "\n",
    "Cor1 = correl(X1,Y1)\n",
    "print('Корреляция Х1, У1: ', Cor1)\n",
    "Cor2 = correl(X2,Y2)\n",
    "print('Корреляция Х2, У2: ', Cor2)\n",
    "Cor3 = correl(X3,Y3)\n",
    "print('Корреляция Х3, У3: ', Cor3)"
   ]
  },
  {
   "cell_type": "markdown",
   "metadata": {
    "id": "DV5E5PnadfJl"
   },
   "source": [
    "Отдельной группой методов можно назвать так называемые _переборные методы_, которые дискретно оценивают качество модели, обученной на различных подмножествах признаков. При этом происходит полный перебор всех возможных вариантов. Обычно такие алгоритмы делятся на _жадные (greedy)_ и _нежадные (non-greedy)_. Полный список их можно найти в дополнительных материалах."
   ]
  },
  {
   "cell_type": "markdown",
   "metadata": {
    "id": "EOjQFkTgdfJm"
   },
   "source": [
    "Жадность алгоритмов заключаются в том, что если один из признаков включен в подмножество (или исключен в случае исключающего метода), в следующих итерациях поиска он уже не учитывается, так что алгоритм работает на меньшем объеме данных. Известные алгоритмы этого типа - _жадное включение_ и _жадное исключение_. В случае жадного включения на первой итерации аналогично одномерному отбору признаков находится признак, обладающий наибольшей предсказательной силой и добавляется в формирующуееся подмножество $\\{i_{1}\\}$. Далее происходит перебор оставшихся признаков с попеременным добавлением каждого из них в подмножество к первому и оценкой качества получаемой модели, обученной на подмножестве из этих двух признаков $\\{i_{1}, i_{2}\\}$. В итоге в подмножестве остается тот признак, при добавлении которого получается наилучшее качество. Далее эта процедура повторяется до момента, пока ошибка получаемой модели уменьшается. На каждой итерации в подмножество добавляется один признак, максимально улучшающий работу модели. Если на какой-то итерации при добавлении признаков ошибка не уменьшается, процесс останавливается.\n",
    "\n",
    "Плюсом такого алгоритма является относительная быстрота и возможность учета некоторых взаимодействий между признаками (как раз то, чего лишен одномерный отбор). Минусом же можно назвать вероятность застрять в локальном минимуме ошибки, если такой есть. В случае же когда есть единственный глобальный минимум, алгоритм найдет оптимальное решение.\n",
    "\n",
    "Есть также модификации этого алгоритма с многократным проходом по выборке и поочередным включением/исключением признаков из подмножества для учета совокупного влияния признаков."
   ]
  },
  {
   "cell_type": "markdown",
   "metadata": {
    "id": "Q5TOTIM4dfJo"
   },
   "source": [
    "Примером нежадного алгоритма может быть простой последовательный полный перебор всех возможных подмножеств признаков. Такой подбор позволяет найти наиболее оптимальное подмножество признаков, но, очевидно, он является достаточно трудоемким (нужно перебрать $2^{n}$ вариантов, где $n$ - число признаков), поэтому подходит только для датасетов с небольшим количеством признаков."
   ]
  },
  {
   "cell_type": "markdown",
   "metadata": {
    "id": "kqDrhuvidfJp"
   },
   "source": [
    "Еще одна группа методов отбора признаков - _встроенные в модели_. Они используют эвристики, заложенные в обучающие модели, для оценки важности признаков.\n",
    "\n",
    "- Например, в случае работы с линейными моделями мы имеем зависимость целевой переменной от взвешенной суммы признаков $$a(x) = \\sum_{i=1}^{n}w_{i}x^{i}.$$ Здесь, если признаки масштабированы, веса будут являться показателями информативности признаков: чем больше вес, тем больший вклад данный признак вносит в значение целевой переменной. На основе этого показателя можно проводить отбор признаков. Также, вспоминая уроки по линейным моделям, можно упомянуть, что использование $L_{1}$-регуляризации приводит к занулению весов наименее важных признаков, то есть к их отбрасыванию, при этом больший коэффициент регуляризации будет приводить к большему количеству зануленных весов."
   ]
  },
  {
   "cell_type": "markdown",
   "metadata": {
    "id": "iMFGIpqQdfJr"
   },
   "source": [
    "- В случае использования решающих деревьев и их композиций, где в каждой вершине происходит разбиение на два поддерева путем сравнивания значения одного признака с некоторым значением порога, важность признака можно оценивать по тому, насколько он уменьшает значение критерия информативности, по которому оценивается качество разбиения: $$Q(X_{m}, j, t) = H(X_{m}) - \\frac{|X_{l}|}{|X_{m}|}H(X_{l}) - \\frac{|X_{r}|}{|X_{m}|}H(X_{r}),$$ где $X_{m}$ - множество объектов, попавших в вершину на данном шаге, $X_{l}$ и $X_{r}$ - множества, попадающие в левое и правое поддерево, соответственно, после разбиения. $H(X)$ - критерий информативности. \n",
    "    \n",
    "    Чем сильнее падает критерий информативности при разбиении по данному признаку (то есть чем выше $Q$), тем этот признак важнее. Таким образом, важность $j$-го признака можно оценить путем вычисления суммы уменьшений критерия информативности по всем вершинам, в которых делалось разбиение по данному признаку. Чем больше эта сумма, тем важнее данный признак был при построении дерева. В случае композиций деревьев этот показатель суммируется по всем деревьям."
   ]
  },
  {
   "cell_type": "markdown",
   "metadata": {
    "id": "suyYET13dfJr"
   },
   "source": [
    "### Понижение размерности"
   ]
  },
  {
   "cell_type": "markdown",
   "metadata": {
    "id": "8w8aSllUdfJs"
   },
   "source": [
    "Кроме отбора признаков, который не всегда оптимален в плане сохранения максимума полезной информации, существуют еще методы понижения размерности путем формирования новых признаков на основе старых. Новых признаков при использовании такого метода должно быть меньше, чем исходных, при условии сохранения максимально возможного количества информации из исходных признаков. Например, объединение нескольких признаков в линейную комбинацию:\n",
    "\n",
    "$$z_{ij}=\\sum_{k=1}^{n}w_{jk}x_{ik},$$\n",
    "\n",
    "где $x_{ij}$ - исходные признаки, $z_{ij}$ - новые принаки."
   ]
  },
  {
   "cell_type": "markdown",
   "metadata": {
    "id": "U2iJ7XBhdfJt"
   },
   "source": [
    "Простейшим методов такого понижения размерности является метод _случайных проекций_, который заключается в преобразованиях, сохраняющих расстояния и снижающих размерности. Существование таких преобразований доказано для выборок, в которых объектов меньше, чем признаков. Веса при всех признаках в таком методе можно выбирать случайно. При этом не факт, что мы попадем в оптимальное преобразование, но практика показывает, что метод работает, если размерность нового пространства признаков\n",
    "\n",
    "$$d > \\frac{8\\text{ln}l}{\\varepsilon^{2}},$$\n",
    "\n",
    "где $l$ - количество объектов, $\\varepsilon$ - максимальное изменение расстояния между объектами (лемма о малом искажении или лемма Джонсона-Линденштрауса)."
   ]
  },
  {
   "cell_type": "markdown",
   "metadata": {
    "id": "7RKYQxgMdfJu"
   },
   "source": [
    "### Метод главных компонент (PCA)"
   ]
  },
  {
   "cell_type": "markdown",
   "metadata": {
    "id": "A7frA6OrdfJv"
   },
   "source": [
    "Одним из наиболее известных и широко применяемых методов понижения размерности является _метод главных компонент (principal component analysis, PCA)_. Он заключается в приближении матрицы признаков матрицей меньшего ранга - так называемом низкоранговом приближении.\n",
    "\n",
    "Запишем показанную ранее формулу линейного преобразования признаков в матричном виде:\n",
    "\n",
    "$$Z = XW^{T},$$\n",
    "\n",
    "где $X$ - матрица \"объекты-признаки\", где по строкам отложены объекты, а по столбцам - значения признаков, $Z$ - матрица новых признаков, $W^{T}$ - транспонированная матрица весов. Приближение заключается формировании новой матрицы признаков $\\tilde{X}=ZW\\approx X$ с возможностью восстанавливания старых признаков по новым с максимальным уровнем точности, или, если говорить иначе, чтобы их различие было минимальным:\n",
    "\n",
    "$$\\|ZW - X\\|^{2} \\rightarrow \\underset{Z, W}{\\text{min}}.$$"
   ]
  },
  {
   "cell_type": "markdown",
   "metadata": {
    "id": "6oGhpkBfdfJv"
   },
   "source": [
    "При этом метод главных компонент предполагает, что матрица весов должна быть ортогональной, то есть произведение $WW^{T}$ должно равняться единичной матрице. Восстановленная матрица $ZW$ может иметь ранг меньший, чем исходная $X$, поэтому приближение будет называться низкоранговым."
   ]
  },
  {
   "cell_type": "markdown",
   "metadata": {
    "id": "P45TTDjedfJw"
   },
   "source": [
    "Геометрически метод можно представить как проецирование признаков на гиперплоскость с максимизацией дисперсии получаемой выборки."
   ]
  },
  {
   "cell_type": "markdown",
   "metadata": {
    "id": "3dV8i8cDdfJx"
   },
   "source": [
    "Если ранг матрицы исходных признаков $rank(X) \\geq d$, где $d$ - число новых признаков, то минимум функционала различия, описанного выше, достигается тогда, когда в качестве строк матрицы $W$ используются собственные векторы матрицы $X^{T}X$ , соответствующие максимальным собственным значениям $\\lambda_{1},...,\\lambda_{d}$. Максимальные собственные значения и называются __главными компонентами__, от чего пошло название метода. Первая главная компонента соответствует максимальному собственному значению и т.д."
   ]
  },
  {
   "cell_type": "markdown",
   "metadata": {
    "id": "VvLN4XJLdfJx"
   },
   "source": [
    "Некоторые полезные свойства метода:\n",
    "\n",
    "- Матрица $Z$ при этом будет такой, что $Z^{T}Z = \\Lambda = diag(\\lambda_{1},...,\\lambda_{d})$.\n",
    "\n",
    "\n",
    "- Минимизированный функционал ошибки будет равен $$\\|ZW - X\\|^{2} = \\|X\\|^{2} - tr\\Lambda,$$ где $tr\\Lambda,$ - след матрицы $\\Lambda$, то есть сумма всех собственных значений $\\lambda_{1},...,\\lambda_{d}$, а $\\|X\\|^{2}$ - сумма всех собственных значений исходной матрицы $\\lambda_{1},...,\\lambda_{n}$, таким образом $$\\|ZW - X\\|^{2} = \\sum_{j=d+1}^{n}\\lambda_{j},$$ то есть значение функционала ошибки будет равно сумме собственных значений, которые не были взяты в получаемое разложение. Поэтому логично брать в разложение максимальные собственные значения, оставляя минимальные.\n",
    "\n",
    "\n",
    "- Матрица $X^{T}X$ - матрица ковариации, то есть матрица, которая характеризует дисперсию выборки. Дисперсия выборки после проецирования будет равна собственному значению $\\lambda$, поэтому логично, что первым берется собственный вектор, соответствующий максимальному собственному значению - нам нужно сохранить максимум дисперсии."
   ]
  },
  {
   "cell_type": "markdown",
   "metadata": {
    "id": "-pPzjbW8dfJy"
   },
   "source": [
    "Таким образом, для реализации метода главных компонент нужно :\n",
    "- найти собственные значения матрицы $X^{T}X$;\n",
    "- отобрать $d$ максимальных;\n",
    "- составить матрицу $W^{T}$, столбцы которой будут являться собственными векторами, соответствующими отобранным собственным значениям, расположенным в порядке убывания;\n",
    "- получить новую матрицу \"объекты-признаки\", умножив исходную матрицу $X$ на матрицу весов $W$:\n",
    "\n",
    "$$Z=XW.$$"
   ]
  },
  {
   "cell_type": "markdown",
   "metadata": {
    "id": "LnYvDiOadfJz"
   },
   "source": [
    "### Сингулярное разложение (SVD) "
   ]
  },
  {
   "cell_type": "markdown",
   "metadata": {
    "id": "Thkg-tSXdfJ0"
   },
   "source": [
    "Сформулировав принцип реализации метода главных компонент, нельзя не заметить его родство с _сингулярным разложением матриц (singular value decomposition, SVD)_. Вспомним, что сингулярное разложение матрицы - это разложение вида\n",
    "\n",
    "$$X=UDV^{T},$$\n",
    "\n",
    "где столбцы ортогональной матрицы $U$ - это собственные векторы матрицы $XX^{T}$, столбцы ортогональной матрицы $V$ - собственные векторы матрицы $X^{T}X$, а на главной диагонали диагональной матрицы $D$ расположены собственные значения матриц $XX^{T}$ и $X^{T}X$ (они равны и также называются сингулярными числами матрицы $X$).\n",
    "\n",
    "Если число новых признаков $d$ равно старому числу признаков $n$, то можно приравнять разложения\n",
    "\n",
    "$$X=ZW=UDV^{T}.$$\n",
    "\n",
    "При этом матрицы $W$ и $V^{T}$ состоят из собственных векторов матрицы $X^{T}X$, то есть они равны при $Z=UD$."
   ]
  },
  {
   "cell_type": "markdown",
   "metadata": {
    "id": "8tzfpn9zdfJ0"
   },
   "source": [
    "Получается, что метод опорных векторов - в своем роде \"урезанная версия\" сингулярного разложения, из которого убрали минимальные собственные значения с соответствующими собственными векторами. \n",
    "Таким образом, для реализации понижения размерности методом опорных векторов с помощью SVD нужно:\n",
    "- найти сингулярное разложение вектора $X$;\n",
    "- сформировать из столбцов матрицы $V$, соответствующих $d$ наибольшим сингулярным числам, матрицу весов $W$;\n",
    "- получить новую матрицу \"объекты-признаки\", умножив исходную матрицу $X$ на матрицу весов $W$:\n",
    "\n",
    "$$Z=XW.$$"
   ]
  },
  {
   "cell_type": "markdown",
   "metadata": {
    "id": "dWEQalcAdfJ1"
   },
   "source": [
    "Для закрепления теории реализуем PCA с помощью Python."
   ]
  },
  {
   "cell_type": "code",
   "execution_count": 9,
   "metadata": {
    "id": "kSmUQy4ZdfJ2"
   },
   "outputs": [],
   "source": [
    "import numpy as np\n",
    "from sklearn import datasets\n",
    "import matplotlib.pyplot as plt"
   ]
  },
  {
   "cell_type": "code",
   "execution_count": 10,
   "metadata": {
    "colab": {
     "base_uri": "https://localhost:8080/"
    },
    "executionInfo": {
     "elapsed": 273,
     "status": "ok",
     "timestamp": 1651255917917,
     "user": {
      "displayName": "Maxim Gasilin",
      "userId": "15501735730920561422"
     },
     "user_tz": -180
    },
    "id": "m3d93Gx2dfJ6",
    "outputId": "2636d488-d117-45e7-fdd8-f38093cf6308"
   },
   "outputs": [
    {
     "data": {
      "text/plain": [
       "(150, 4)"
      ]
     },
     "execution_count": 10,
     "metadata": {},
     "output_type": "execute_result"
    }
   ],
   "source": [
    "# Загрузим игрушечный датасет из sklearn\n",
    "iris = datasets.load_iris()\n",
    "X = iris.data\n",
    "X.shape"
   ]
  },
  {
   "cell_type": "code",
   "execution_count": 11,
   "metadata": {
    "id": "eE6X-RyIdfJ-"
   },
   "outputs": [],
   "source": [
    "# Для начала отмасштабируем выборку\n",
    "X_ = X.astype(float)\n",
    "\n",
    "rows, cols = X_.shape\n",
    "\n",
    "# центрирование - вычитание из каждого значения среднего по строке\n",
    "means = X_.mean(0)\n",
    "for i in range(rows):\n",
    "    for j in range(cols):\n",
    "        X_[i, j] -= means[j]\n",
    "\n",
    "# деление каждого значения на стандартное отклонение\n",
    "std = np.std(X_, axis=0)\n",
    "for i in range(cols):\n",
    "    for j in range(rows):\n",
    "        X_[j][i] /= std[i]"
   ]
  },
  {
   "cell_type": "code",
   "execution_count": 12,
   "metadata": {
    "colab": {
     "base_uri": "https://localhost:8080/"
    },
    "executionInfo": {
     "elapsed": 273,
     "status": "ok",
     "timestamp": 1651255924082,
     "user": {
      "displayName": "Maxim Gasilin",
      "userId": "15501735730920561422"
     },
     "user_tz": -180
    },
    "id": "ItFOmLW9dfKB",
    "outputId": "a0f8b225-3cd6-4726-fc48-fdbda6f23bb1"
   },
   "outputs": [
    {
     "name": "stdout",
     "output_type": "stream",
     "text": [
      "Собственные значения в порядке убывания:\n",
      "(437.77467247979905, array([ 0.52106591, -0.26934744,  0.5804131 ,  0.56485654]))\n",
      "(137.1045707202107, array([-0.37741762, -0.92329566, -0.02449161, -0.06694199]))\n",
      "(22.01353133569719, array([-0.71956635,  0.24438178,  0.14212637,  0.63427274]))\n",
      "(3.107225464292897, array([ 0.26128628, -0.12350962, -0.80144925,  0.52359713]))\n"
     ]
    }
   ],
   "source": [
    "# Найдем собственные векторы и собственные значения (англ. Eigenvalues)\n",
    " \n",
    "covariance_matrix = X_.T.dot(X_)\n",
    "\n",
    "eig_values, eig_vectors = np.linalg.eig(covariance_matrix)\n",
    "\n",
    "# сформируем список кортежей (собственное значение, собственный вектор)\n",
    "eig_pairs = [(np.abs(eig_values[i]), eig_vectors[:, i]) for i in range(len(eig_values))]\n",
    "\n",
    "# и отсортируем список по убыванию собственных значений\n",
    "eig_pairs.sort(key=lambda x: x[0], reverse=True)\n",
    "\n",
    "print('Собственные значения в порядке убывания:')\n",
    "for i in eig_pairs:\n",
    "    print(i)"
   ]
  },
  {
   "cell_type": "markdown",
   "metadata": {
    "id": "9mdEDwm2dfKD"
   },
   "source": [
    "Оценим долю дисперсии, которая описывается найденными компонентами."
   ]
  },
  {
   "cell_type": "code",
   "execution_count": 13,
   "metadata": {
    "colab": {
     "base_uri": "https://localhost:8080/"
    },
    "executionInfo": {
     "elapsed": 250,
     "status": "ok",
     "timestamp": 1651255926744,
     "user": {
      "displayName": "Maxim Gasilin",
      "userId": "15501735730920561422"
     },
     "user_tz": -180
    },
    "id": "Ct-1I70mdfKE",
    "outputId": "5c6c5b9c-8a4a-4b74-a838-c63b27c09eae"
   },
   "outputs": [
    {
     "name": "stdout",
     "output_type": "stream",
     "text": [
      "Доля дисперсии, описываемая каждой из компонент \n",
      "[72.96244541329986, 22.85076178670179, 3.668921889282866, 0.517870910715483]\n",
      "Кумулятивная доля дисперсии по компонентам \n",
      "[ 72.96244541  95.8132072   99.48212909 100.        ]\n"
     ]
    }
   ],
   "source": [
    "eig_sum = sum(eig_values)\n",
    "var_exp = [(i / eig_sum) * 100 for i in sorted(eig_values, reverse=True)]\n",
    "cum_var_exp = np.cumsum(var_exp)\n",
    "print(f'Доля дисперсии, описываемая каждой из компонент \\n{var_exp}')\n",
    "\n",
    "# а теперя оценим кумулятивную (то есть накапливаемую) дисперсию при учитывании каждой из компонент\n",
    "print(f'Кумулятивная доля дисперсии по компонентам \\n{cum_var_exp}')"
   ]
  },
  {
   "cell_type": "markdown",
   "metadata": {
    "id": "NE15sfLtdfKH"
   },
   "source": [
    "Таким образом, первая главная компонента описывает почти 73% информации, а первые две в сумме - 95.8%. В то же время последняя компонента описывает всего 0.5% и может быть отброжена без страха значительных потерь в качестве нашего анализа. Мы отбросим последние две компоненты, оставив первые две."
   ]
  },
  {
   "cell_type": "code",
   "execution_count": 14,
   "metadata": {
    "colab": {
     "base_uri": "https://localhost:8080/"
    },
    "executionInfo": {
     "elapsed": 262,
     "status": "ok",
     "timestamp": 1651255932166,
     "user": {
      "displayName": "Maxim Gasilin",
      "userId": "15501735730920561422"
     },
     "user_tz": -180
    },
    "id": "z4xcGvf7dfKI",
    "outputId": "e782eccc-d75e-4fab-eb65-e96c48e0bc6d"
   },
   "outputs": [
    {
     "name": "stdout",
     "output_type": "stream",
     "text": [
      "Матрица весов W:\n",
      " [[ 0.52106591 -0.37741762]\n",
      " [-0.26934744 -0.92329566]\n",
      " [ 0.5804131  -0.02449161]\n",
      " [ 0.56485654 -0.06694199]]\n"
     ]
    }
   ],
   "source": [
    "# Сформируем вектор весов из собственных векторов, соответствующих первым двум главным компонентам\n",
    "W = np.hstack((eig_pairs[0][1].reshape(4,1), eig_pairs[1][1].reshape(4,1)))\n",
    "\n",
    "print(f'Матрица весов W:\\n', W)"
   ]
  },
  {
   "cell_type": "code",
   "execution_count": 15,
   "metadata": {
    "id": "n04tyd6xdfKL"
   },
   "outputs": [],
   "source": [
    "# Сформируем новую матрицу \"объекты-признаки\"\n",
    "Z = X_.dot(W)"
   ]
  },
  {
   "cell_type": "code",
   "execution_count": 16,
   "metadata": {
    "colab": {
     "base_uri": "https://localhost:8080/",
     "height": 294
    },
    "executionInfo": {
     "elapsed": 298,
     "status": "ok",
     "timestamp": 1651255937422,
     "user": {
      "displayName": "Maxim Gasilin",
      "userId": "15501735730920561422"
     },
     "user_tz": -180
    },
    "id": "CBqTYO6udfKO",
    "outputId": "35808200-9dbd-4f8c-92b5-10da86beb1c4"
   },
   "outputs": [
    {
     "data": {
      "image/png": "[encoded data removed]",
      "text/plain": [
       "<Figure size 432x288 with 1 Axes>"
      ]
     },
     "metadata": {
      "needs_background": "light"
     },
     "output_type": "display_data"
    }
   ],
   "source": [
    "plt.figure()\n",
    "y = iris.target\n",
    "for c, i in zip(\"rgb\", [0, 1, 2]):\n",
    "    plt.scatter(Z[y==i, 0], Z[y==i, 1], c=c)\n",
    "plt.xlabel('Главная компонента 1')\n",
    "plt.ylabel('Главная компонента 2')\n",
    "plt.title('PCA датасета IRIS')\n",
    "plt.show()"
   ]
  },
  {
   "cell_type": "markdown",
   "metadata": {
    "id": "Y7P4Be8PdfKQ"
   },
   "source": [
    "Таким образом, мы перешли от четырехмерного пространства признаков к двумерному и при этом классы остались разделимы в пространстве, то есть классификация возможна."
   ]
  },
  {
   "cell_type": "markdown",
   "metadata": {
    "id": "q896KWx0dfKR"
   },
   "source": [
    "PCA наиболее хорошо работает, когда собственные значения $\\lambda$ на каком-то участке графика распределения убывают скачкообразно (критерий крутого склона), другими словами, если существуют предпосылки к тому, что следует решать задачу в пространстве меньшей размерности. Если же они убывают монотонно, следует рассмотреть вариант использования других методов работы с пространством признаков."
   ]
  },
  {
   "cell_type": "code",
   "execution_count": 17,
   "metadata": {
    "id": "tBLA9TPJZzVc"
   },
   "outputs": [],
   "source": [
    "from sklearn.decomposition import PCA, TruncatedSVD, FactorAnalysis\n",
    "from sklearn.manifold import TSNE"
   ]
  },
  {
   "cell_type": "code",
   "execution_count": 18,
   "metadata": {
    "id": "-UfgdlPwZzVc"
   },
   "outputs": [],
   "source": [
    "pca_my = PCA(n_components=3)"
   ]
  },
  {
   "cell_type": "code",
   "execution_count": 19,
   "metadata": {
    "colab": {
     "base_uri": "https://localhost:8080/",
     "height": 294
    },
    "executionInfo": {
     "elapsed": 305,
     "status": "ok",
     "timestamp": 1651254303702,
     "user": {
      "displayName": "Maxim Gasilin",
      "userId": "15501735730920561422"
     },
     "user_tz": -180
    },
    "id": "CE9BD35qZzVd",
    "outputId": "24022c50-18c4-4208-e48f-0a987cbce81f"
   },
   "outputs": [
    {
     "data": {
      "image/png": "[encoded data removed]",
      "text/plain": [
       "<Figure size 432x288 with 1 Axes>"
      ]
     },
     "metadata": {
      "needs_background": "light"
     },
     "output_type": "display_data"
    }
   ],
   "source": [
    "X_pca=pca_my.fit_transform(X)\n",
    "\n",
    "plt.figure()\n",
    "y = iris.target\n",
    "for c, i in zip(\"rgb\", [0, 1, 2]):\n",
    "    plt.scatter(X_pca[y==i, 0], X_pca[y==i, 1], c=c)\n",
    "plt.xlabel('Главная компонента 1')\n",
    "plt.ylabel('Главная компонента 2')\n",
    "plt.title('PCA датасета IRIS')\n",
    "plt.show()"
   ]
  },
  {
   "cell_type": "markdown",
   "metadata": {
    "id": "y6YHvcPvdfKS"
   },
   "source": [
    "## Литература"
   ]
  },
  {
   "cell_type": "markdown",
   "metadata": {
    "id": "pQKbma5FdfKT"
   },
   "source": [
    "1. [Методы отбора признаков](https://habr.com/ru/company/aligntechnology/blog/303750/)\n",
    "2. [Взаимная информация](https://ru.wikipedia.org/wiki/%D0%92%D0%B7%D0%B0%D0%B8%D0%BC%D0%BD%D0%B0%D1%8F_%D0%B8%D0%BD%D1%84%D0%BE%D1%80%D0%BC%D0%B0%D1%86%D0%B8%D1%8F)\n",
    "3. [Методы понижения размерности](http://www.machinelearning.ru/wiki/images/0/06/SLT%2C_lecture_8.pdf)\n",
    "4. [Лемма о малом искажении](https://ru.wikipedia.org/wiki/%D0%9B%D0%B5%D0%BC%D0%BC%D0%B0_%D0%BE_%D0%BC%D0%B0%D0%BB%D0%BE%D0%BC_%D0%B8%D1%81%D0%BA%D0%B0%D0%B6%D0%B5%D0%BD%D0%B8%D0%B8)\n",
    "5. [PCA from Scratch in Python](https://github.com/bhattbhavesh91/pca-from-scratch-iris-dataset)"
   ]
  },
  {
   "cell_type": "markdown",
   "metadata": {
    "id": "_nBcJPxaZzVd"
   },
   "source": [
    "## Summary"
   ]
  },
  {
   "cell_type": "markdown",
   "metadata": {
    "id": "iHQjwZfdZzVd"
   },
   "source": [
    "* Снижать размерность данных можно за счет\n",
    "    * отбора признаков (корреляция, взаимная информация, вес коэфф. регрессии, feature_importances_ и др.)\n",
    "    * снижения размерности (случайные проекции, PCA, ICA (Independent Component Analysis), NMF (Non-negative Matrix Factorization) и др.)\n",
    "* Уменьшение размерности \n",
    "    * ускоряет работу моделей\n",
    "    * улучшает интерпретируемость решения\n",
    "    * упрощает поддержку решения\n",
    "    * улучшает точность модели, если были удалены шумовые и нерелевантные признаки\n",
    "* В основе PCA используется понятие [_собственного вектора_](https://ru.wikipedia.org/wiki/%D0%A1%D0%BE%D0%B1%D1%81%D1%82%D0%B2%D0%B5%D0%BD%D0%BD%D1%8B%D0%B9_%D0%B2%D0%B5%D0%BA%D1%82%D0%BE%D1%80) - это вектор, умножение которого на матрицу даёт коллинеарный вектор - тот же вектор, умноженный на некоторое число, называемое _собственным значением_"
   ]
  },
  {
   "cell_type": "markdown",
   "metadata": {
    "id": "GAKktUiWZzVd"
   },
   "source": [
    "## Д/з"
   ]
  },
  {
   "cell_type": "markdown",
   "metadata": {
    "id": "aFTiojQBZzVe"
   },
   "source": [
    "1. Обучить любую модель классификации на датасете IRIS до применения PCA и после него. Сравнить качество классификации по отложенной выборке.\n",
    "2. Написать свою реализацию метода главных компонент с помощью сингулярного разложения с использованием функции numpy.linalg.svd()"
   ]
  },
  {
   "cell_type": "markdown",
   "metadata": {
    "id": "V0VOMxf1ZzVe"
   },
   "source": [
    "## Q&A"
   ]
  },
  {
   "cell_type": "markdown",
   "metadata": {
    "id": "Z64NUWGdZzVe"
   },
   "source": [
    "__1. Можно ли отобрать наиболее значимые признаки с помощью PCA?__"
   ]
  },
  {
   "cell_type": "markdown",
   "metadata": {
    "id": "lMqEjXWtZzVe"
   },
   "source": [
    "Да, но следует помнить, что PCA не выбирает из имеющихся признаков наиболее значимые, а строит новые, которые \"учтут максимум информации\" из имеющихся признаков, создав тем самым новое уменьшенное признаковое пространство."
   ]
  },
  {
   "cell_type": "markdown",
   "metadata": {
    "id": "WMoAF2UAZzVe"
   },
   "source": [
    "__2. Какие применения на практике есть у матричных разложений, например, SVD?__"
   ]
  },
  {
   "cell_type": "markdown",
   "metadata": {
    "id": "E_UB7gXYZzVe"
   },
   "source": [
    "Сингулярное разложение широко применяется, в частности, при сжатии данных, обработке сигналов, численных итерационных методах для работы с матрицами, латентно-семантическом анализе, а также в _рекомендательных системах_. Так, имея разреженную матрицу \"Users\"-\"Movies\" с оценками фильмов пользователями, мы хотим рекомендовать пользователям новые фильмы, предсказывая оценку i-го пользователя j-му фильму. Для этого мы можем сделать SVD разложение этой матрицы и затем вектор, описывающий i-го пользователя, умножить на вектор, описывающий j-ый фильм. Так мы предскажем оценку, которую данный пользователь поставит этому фильму. Значит, можем сделать это для всех пользователей/фильмов? :)\n",
    "\n",
    "Материалы на тему: [ссылка 1](https://habr.com/ru/company/yandex/blog/241455/), [ссылка 2](https://habr.com/ru/company/surfingbird/blog/139863/), [ссылка 3](https://habr.com/ru/company/okko/blog/454224/)."
   ]
  },
  {
   "cell_type": "markdown",
   "metadata": {
    "id": "VQWLa2z9ZzVe"
   },
   "source": [
    "__3. Как вручную найти собственные вектора и собственные значения?__"
   ]
  },
  {
   "cell_type": "markdown",
   "metadata": {
    "id": "dDOq0qOdZzVf"
   },
   "source": [
    "Рассмотрим эту задачу на примере следующей матрицы:"
   ]
  },
  {
   "cell_type": "markdown",
   "metadata": {
    "id": "2WjElbFXZzVf"
   },
   "source": [
    "$$A = \\begin{Vmatrix}4 & -3 & 3\\\\1 & 2 & 1\\\\1 & 1 & 2\\end{Vmatrix}$$"
   ]
  },
  {
   "cell_type": "markdown",
   "metadata": {
    "id": "0nTN4CVsZzVf"
   },
   "source": [
    "Составим характеристическое уравнение:\n",
    "$$det(A-\\lambda E) = \\begin{Vmatrix}4-\\lambda & -3 & 3\\\\1 & 2-\\lambda & 1\\\\1 & 1 & 2-\\lambda\\end{Vmatrix} = 0$$"
   ]
  },
  {
   "cell_type": "markdown",
   "metadata": {
    "id": "N6_PNZPlZzVf"
   },
   "source": [
    "Расписываем детерминант (определить) матрицы:\n",
    "\n",
    "$$(4-\\lambda)(2-\\lambda)^2-3-3-(4-\\lambda)+3(2-\\lambda)+3(2-\\lambda) = 0$$\n",
    "$$(\\lambda-1)(\\lambda^2-7\\lambda-18) = 0$$\n",
    "\n",
    "Отсюда получаем совокупность уравнений:"
   ]
  },
  {
   "cell_type": "markdown",
   "metadata": {
    "id": "Pwhf0YJpZzVf"
   },
   "source": [
    "$$\\left[ \n",
    "    \\begin{gathered}\n",
    "        \\lambda-1 = 0 \\Rightarrow \\lambda = 1\n",
    "        \\\\\n",
    "        \\lambda^2-7\\lambda-18 = 0 \\Rightarrow D = (-7)^2-4*18=-23 < 0\n",
    "    \\end{gathered}\n",
    "\\right.$$\n",
    "\n",
    "Получили, что характеристическое уравнение имеет только один действительный корень $\\lambda=1$, а матрица $A$ только одно собственное значение."
   ]
  },
  {
   "cell_type": "markdown",
   "metadata": {
    "id": "kZy5F0eVZzVf"
   },
   "source": [
    "Найдём собственный вектор для полученного собственного значения, решая уравнение:\n",
    "\n",
    "$$\\begin{Vmatrix}4-\\lambda & -3 & 3\\\\1 & 2-\\lambda & 1\\\\1 & 1 & 2-\\lambda\\end{Vmatrix} * \\begin{Vmatrix}x_1\\\\x_2\\\\x_3\\end{Vmatrix} = \\begin{Vmatrix}0\\\\0\\\\0\\end{Vmatrix}$$\n",
    "\n",
    "Его можно решать в матричном виде, а можно, подставив найденное значение $\\lambda = 1$, переписать в виде системы уравнений:\n",
    "\n",
    "$$\n",
    "\\begin{cases}\n",
    "    3 x_1 - 3 x_2 - 3x_3 = 0,\n",
    "    \\\\\n",
    "    x_1 + x_2 + x_3 = 0,\n",
    "    \\\\\n",
    "    x_1 + x_2 + x_3 = 0.\n",
    "    \\end{cases}\n",
    "$$\n",
    "\n",
    "Отсюда получаем решение системы:\n",
    "\n",
    "$$\n",
    "\\begin{cases}\n",
    "    x_1 = 0,\n",
    "    \\\\\n",
    "    x_3 = -x_2.\n",
    "    \\end{cases}\n",
    "$$\n",
    "\n",
    "Собственный вектор равен:\n",
    "\n",
    "$$\\overrightarrow{x} = \\begin{Vmatrix}0\\\\x_2\\\\-x_2\\end{Vmatrix} = C*\\begin{Vmatrix}0\\\\1\\\\-1\\end{Vmatrix}$$"
   ]
  },
  {
   "cell_type": "markdown",
   "metadata": {
    "id": "URDDEUXSZzVg"
   },
   "source": [
    "__4. Какими свойствами обладают собственные вектора?__"
   ]
  },
  {
   "cell_type": "markdown",
   "metadata": {
    "id": "EgRWsucWZzVg"
   },
   "source": [
    "Пусть $A: X_n → X_n$ — линейный оператор.\n",
    "\n",
    "1. Все собственные векторы линейного оператора, соответствующие одному и тому же собственному значению, вместе с нулевым вектором образуют линейное пространство.\n",
    "2. Собственные векторы линейного оператора, соответствующие различным собственным значениям, линейно независимы.\n",
    "3. Если линейный оператор $A: X_n → X_n$ имеет n различных (вещественных) собственных значений, то собственные векторы, соответствующие этим собственным значениям, образуют базис в $X_n$. Такой базис называется собственным базисом линейного оператора $A$.\n",
    "4. Матрица $A$ линейного оператора $A: X_n → X_n$ в некотором базисе $x_1, x_2, ..., x_n$ имеет диагональный вид тогда и только тогда, когда этот базис собственный, причем диагональные элементы этой матрицы — собственные значения оператора $λ_1, λ_2, ..., λ_n$."
   ]
  },
  {
   "cell_type": "markdown",
   "metadata": {
    "id": "SAX0lUfoZzVg"
   },
   "source": [
    "__5. С отбором признаков понятно, но что с предобработкой данных, напомните, есть какой-то \"джентльменский набор\"?__"
   ]
  },
  {
   "cell_type": "markdown",
   "metadata": {
    "id": "fqqWKHWxZzVg"
   },
   "source": [
    "Методы предварительной обработки данных:\n",
    "\n",
    "- __очистка данных__ - является процессом обнаружения и исправления или удаления ошибочных записей данных\n",
    "- __нормализация данных__ - используется для стандартизации диапазона значений независимых переменных или признаков данных (сведение к интервалам [0, 1] или [-1, +1])\n",
    "- __преобразование данных__ - является процессом приведения данных в формат, который ожидают люди\n",
    "- __выделение признаков__ - является процессом преобразования входных данных в набор признаков, которые могут хорошо представлять входные данные\n",
    "- __уплотнение данных__ - является преобразованием числовых данных в исправленный, упорядоченный и упрощённый вид, что приводит к уменьшению количества или размерности данных\n",
    "\n",
    "Методы обнаружения выбросов:\n",
    "\n",
    "- __статистические подходы__ (box-plot, гистограмма и т.д.)\n",
    "- __модельные тесты__ (строим модель, описывающую данные, те объекты, что сильно выбиваются - выбросы)\n",
    "- __метрические методы__ (мерой аномальности может служить, например «расстояние до k-го соседа»)\n",
    "- __методы машинного обучения__\n",
    "    - __AdaBoost__ - выбросы набирают вес при построении новых моделей, решение - исключаем объекты из выборки, которые быстро набирают вес\n",
    "    - __метод опорных векторов для одного класса (OneClassSVM)__ - скорее алгоритм поиска новизны, а не выбросов, т.к. «затачивается» под обучающую выборку\n",
    "    - __изолирующий лес (IsolationForest)__ - одна из вариаций случайного леса, каждое дерево строится до исчерпании выборки, при разбиении выбирается случайные признак и расщепление, для каждого объекта мера его нормальности – среднее арифметическое глубин листьев, в которые он попал (изолировался)\n",
    "    - __эллипсоидальная аппроксимация данных (EllipticEnvelope)__ - облако точек моделируется как внутренность эллипсоида, метод хорошо работает только на одномодальных данных, а совсем хорошо – на нормально распределённых    \n",
    "\n",
    "Восстановление данных - заполнение пропусков:\n",
    "\n",
    "- __\"средние\"__: мат. ожидание, медиана, мода\n",
    "- __предсказание моделью__ (например, линейная регрессия)"
   ]
  },
  {
   "cell_type": "markdown",
   "metadata": {
    "id": "7o2MjQ-lZzVg"
   },
   "source": [
    "__6. Какие способы подбора гиперпараметров существуют, помимо простого перебора?__"
   ]
  },
  {
   "cell_type": "markdown",
   "metadata": {
    "id": "OPaQKwHbZzVg"
   },
   "source": [
    "- \"Эль Классико\"\n",
    "    - __GridSearchCV__ - поиск по решетке, все комбинации\n",
    "    - __RandomizedSearchCV__ - случайный поиск\n",
    "- Продвинутые методы\n",
    "    - __байесовская оптимизация__ - стохастическая модель функции отображения из значений гиперпараметра в целевую функцию, ищется оптимальный набор гиперпараметров\n",
    "    - __оптимизация на основе градиентов__ - вычисление градиента гиперпараметров и оптимизация их с помощью градиентного спуска\n",
    "    - __эволюционные алгоритмы__ - начинаем со случайных, оцениваем пригодность, \"скрещиваем\" и \"мутируем\" слабые, повторяем до сходимости\n",
    "\n",
    "Популярные библиотеки:\n",
    "\n",
    "- __HyperOpt__ - автоматическая оптимизация гиперпараметров - https://github.com/hyperopt/hyperopt\n",
    "- __AutoML__ - автоматизирование workflow ML задач - http://docs.h2o.ai/h2o/latest-stable/h2o-docs/automl.html\n",
    "- __Spearmint__ и __BayesOpt__ - байесовская оптимизация - https://github.com/HIPS/Spearmint, https://rmcantin.bitbucket.io/html/"
   ]
  },
  {
   "cell_type": "markdown",
   "metadata": {
    "id": "DIJBlu_nZ5_F"
   },
   "source": [
    "# Решение ДЗ"
   ]
  },
  {
   "cell_type": "markdown",
   "metadata": {
    "id": "hfd48mjJaEvl"
   },
   "source": [
    "1. Обучить любую модель классификации на датасете IRIS до применения PCA и после него. Сравнить качество классификации по отложенной выборке.\n"
   ]
  },
  {
   "cell_type": "code",
   "execution_count": 20,
   "metadata": {
    "executionInfo": {
     "elapsed": 1438,
     "status": "ok",
     "timestamp": 1651731178458,
     "user": {
      "displayName": "Maxim Gasilin",
      "userId": "15501735730920561422"
     },
     "user_tz": -180
    },
    "id": "8jnfLj-XbCMu"
   },
   "outputs": [],
   "source": [
    "import numpy as np\n",
    "import pandas as pd\n",
    "\n",
    "from sklearn import datasets\n",
    "import matplotlib.pyplot as plt\n",
    "\n",
    "from sklearn.datasets import load_iris\n",
    "from sklearn.model_selection import train_test_split\n",
    "\n",
    "from sklearn.metrics import accuracy_score\n",
    "\n",
    "from sklearn.ensemble import RandomForestClassifier as RFC\n",
    "from sklearn.ensemble import AdaBoostClassifier as ABC\n",
    "from sklearn.ensemble import BaggingClassifier as BC\n",
    "from sklearn.ensemble import GradientBoostingClassifier as GBC\n"
   ]
  },
  {
   "cell_type": "code",
   "execution_count": 21,
   "metadata": {
    "executionInfo": {
     "elapsed": 1033,
     "status": "ok",
     "timestamp": 1651731182396,
     "user": {
      "displayName": "Maxim Gasilin",
      "userId": "15501735730920561422"
     },
     "user_tz": -180
    },
    "id": "5EuAOwWakP11"
   },
   "outputs": [],
   "source": [
    "# Процедура собрана из материалов лекции.\n",
    "\n",
    "def PCA_Custom(X, verbose = False):\n",
    "\n",
    "    # Для начала отмасштабируем выборку\n",
    "    X_ = X.astype(float)\n",
    "\n",
    "    rows, cols = X_.shape\n",
    "\n",
    "    # центрирование - вычитание из каждого значения среднего по строке\n",
    "    means = X_.mean(0)\n",
    "    for i in range(rows):\n",
    "        for j in range(cols):\n",
    "            X_[i, j] -= means[j]\n",
    "\n",
    "    # деление каждого значения на стандартное отклонение\n",
    "    std = np.std(X_, axis=0)\n",
    "    for i in range(cols):\n",
    "        for j in range(rows):\n",
    "            X_[j][i] /= std[i]\n",
    "\n",
    "    # Найдем собственные векторы и собственные значения (англ. Eigenvalues)\n",
    "    covariance_matrix = X_.T.dot(X_)\n",
    "    eig_values, eig_vectors = np.linalg.eig(covariance_matrix)\n",
    "\n",
    "    # сформируем список кортежей (собственное значение, собственный вектор)\n",
    "    eig_pairs = [(np.abs(eig_values[i]), eig_vectors[:, i]) for i in range(len(eig_values))]\n",
    "\n",
    "    # и отсортируем список по убыванию собственных значений\n",
    "    eig_pairs.sort(key=lambda x: x[0], reverse=True)\n",
    "\n",
    "    if verbose:\n",
    "        print('Собственные значения в порядке убывания:')\n",
    "        for i in eig_pairs:\n",
    "            print(i)  \n",
    "\n",
    "    # Оценим долю дисперсии, которая описывается найденными компонентами.\n",
    "    eig_sum = sum(eig_values)\n",
    "    var_exp = [(i / eig_sum) * 100 for i in sorted(eig_values, reverse=True)]\n",
    "    cum_var_exp = np.cumsum(var_exp)\n",
    "    if verbose:\n",
    "        print(f'Доля дисперсии, описываемая каждой из компонент \\n{var_exp}')\n",
    "\n",
    "    # а теперя оценим кумулятивную (то есть накапливаемую) дисперсию при учитывании каждой из компонент\n",
    "    if verbose:\n",
    "        print(f'Кумулятивная доля дисперсии по компонентам \\n{cum_var_exp}')\n",
    "\n",
    "    # Сформируем вектор весов из собственных векторов, соответствующих первым двум главным компонентам\n",
    "    W = np.hstack((eig_pairs[0][1].reshape(4,1), eig_pairs[1][1].reshape(4,1)))\n",
    "\n",
    "    if verbose:\n",
    "        print(f'Матрица весов W:\\n', W)\n",
    "\n",
    "    # Сформируем новую матрицу \"объекты-признаки\"\n",
    "    Z = X_.dot(W)    \n",
    "    \n",
    "    if verbose:\n",
    "        plt.figure()\n",
    "        y = iris.target\n",
    "        for c, i in zip(\"rgb\", [0, 1, 2]):\n",
    "            plt.scatter(Z[y==i, 0], Z[y==i, 1], c=c)\n",
    "        plt.xlabel('Главная компонента 1')\n",
    "        plt.ylabel('Главная компонента 2')\n",
    "        plt.title('PCA датасета IRIS')\n",
    "        plt.show()    \n",
    "\n",
    "    return Z"
   ]
  },
  {
   "cell_type": "code",
   "execution_count": 22,
   "metadata": {
    "executionInfo": {
     "elapsed": 454,
     "status": "ok",
     "timestamp": 1651731186954,
     "user": {
      "displayName": "Maxim Gasilin",
      "userId": "15501735730920561422"
     },
     "user_tz": -180
    },
    "id": "HE6nSFRXbD02"
   },
   "outputs": [],
   "source": [
    "X, y = load_iris(return_X_y=True)"
   ]
  },
  {
   "cell_type": "code",
   "execution_count": 23,
   "metadata": {
    "executionInfo": {
     "elapsed": 2,
     "status": "ok",
     "timestamp": 1651731188700,
     "user": {
      "displayName": "Maxim Gasilin",
      "userId": "15501735730920561422"
     },
     "user_tz": -180
    },
    "id": "FwSjLVkY699p"
   },
   "outputs": [],
   "source": [
    "X_PCA = PCA_Custom(X)"
   ]
  },
  {
   "cell_type": "code",
   "execution_count": 24,
   "metadata": {
    "executionInfo": {
     "elapsed": 4,
     "status": "ok",
     "timestamp": 1651731190182,
     "user": {
      "displayName": "Maxim Gasilin",
      "userId": "15501735730920561422"
     },
     "user_tz": -180
    },
    "id": "pY_eU88g5W2B"
   },
   "outputs": [],
   "source": [
    "# Чтобы при дальнейшем сравнении выборки обычных данных \n",
    "# и данных после применения метода главных компонент\n",
    "# перемешам индексы выборок X и X_PCA. А затем создадим трэйн и тест сеты\n",
    "# на основании перемешанных индексов.\n",
    "\n",
    "index_list = list(range(X.shape[0]))\n",
    "X_train_index, X_test_index, y_train, y_test = train_test_split(index_list, y, test_size = 0.3)"
   ]
  },
  {
   "cell_type": "code",
   "execution_count": 25,
   "metadata": {
    "executionInfo": {
     "elapsed": 2,
     "status": "ok",
     "timestamp": 1651731191708,
     "user": {
      "displayName": "Maxim Gasilin",
      "userId": "15501735730920561422"
     },
     "user_tz": -180
    },
    "id": "5we_oWMD7FFP"
   },
   "outputs": [],
   "source": [
    "X_Train = list(map(lambda i:X[i], X_train_index))\n",
    "X_test  = list(map(lambda i:X[i], X_test_index))\n",
    "\n",
    "X_Train_PCA = list(map(lambda i:X_PCA[i], X_train_index))\n",
    "X_test_PCA  = list(map(lambda i:X_PCA[i], X_test_index))\n",
    "\n",
    "# for i in range(len(X_train_index)):\n",
    "#     print(i, X_train_index[i], X[X_train_index[i]], X_Train[i])"
   ]
  },
  {
   "cell_type": "markdown",
   "metadata": {
    "id": "YwTD8HA_ikzs"
   },
   "source": [
    "Далее обучим несколько распространенных моделей и \"совершим\" предсказание. При этом понимая, что методу главных компонент подверглись только данных из X_train и X_test. А значения в y_train и y_test не изменились."
   ]
  },
  {
   "cell_type": "markdown",
   "metadata": {
    "id": "tyQckZ-7D1nf"
   },
   "source": [
    "1. Методом Random Forest"
   ]
  },
  {
   "cell_type": "code",
   "execution_count": 26,
   "metadata": {
    "executionInfo": {
     "elapsed": 1490,
     "status": "ok",
     "timestamp": 1651731196661,
     "user": {
      "displayName": "Maxim Gasilin",
      "userId": "15501735730920561422"
     },
     "user_tz": -180
    },
    "id": "GtcYBJ-FikHl"
   },
   "outputs": [],
   "source": [
    "clf = RFC(n_jobs=-1).fit(X_Train, y_train)\n",
    "clf_PCA = RFC(n_jobs=-1).fit(X_Train_PCA, y_train)\n",
    "\n",
    "predict = clf.predict(X_test)\n",
    "predict_PCA = clf_PCA.predict(X_test_PCA)\n",
    "\n",
    "acc_rfc     = accuracy_score(y_test, predict)\n",
    "acc_rfc_PCA = accuracy_score(y_test, predict_PCA)"
   ]
  },
  {
   "cell_type": "markdown",
   "metadata": {
    "id": "t8JRGjywD9Fe"
   },
   "source": [
    "2. Методом AdaBoost"
   ]
  },
  {
   "cell_type": "code",
   "execution_count": 27,
   "metadata": {
    "executionInfo": {
     "elapsed": 1069,
     "status": "ok",
     "timestamp": 1651731198936,
     "user": {
      "displayName": "Maxim Gasilin",
      "userId": "15501735730920561422"
     },
     "user_tz": -180
    },
    "id": "h0RGcr0OD8VW"
   },
   "outputs": [],
   "source": [
    "clf = ABC().fit(X_Train, y_train)\n",
    "clf_PCA = ABC().fit(X_Train_PCA, y_train)\n",
    "\n",
    "predict = clf.predict(X_test)\n",
    "predict_PCA = clf_PCA.predict(X_test_PCA)\n",
    "\n",
    "acc_abc     = accuracy_score(y_test, predict)\n",
    "acc_abc_PCA = accuracy_score(y_test, predict_PCA)"
   ]
  },
  {
   "cell_type": "markdown",
   "metadata": {
    "id": "txZouO_-Eaue"
   },
   "source": [
    "3. Методом Bagging"
   ]
  },
  {
   "cell_type": "code",
   "execution_count": 28,
   "metadata": {
    "executionInfo": {
     "elapsed": 4403,
     "status": "ok",
     "timestamp": 1651731204636,
     "user": {
      "displayName": "Maxim Gasilin",
      "userId": "15501735730920561422"
     },
     "user_tz": -180
    },
    "id": "f5FCxZU2AzDQ"
   },
   "outputs": [],
   "source": [
    "clf = BC(n_jobs=-1).fit(X_Train, y_train)\n",
    "clf_PCA = BC(n_jobs=-1).fit(X_Train_PCA, y_train)\n",
    "\n",
    "predict = clf.predict(X_test)\n",
    "predict_PCA = clf_PCA.predict(X_test_PCA)\n",
    "\n",
    "acc_bc     = accuracy_score(y_test, predict)\n",
    "acc_bc_PCA = accuracy_score(y_test, predict_PCA)"
   ]
  },
  {
   "cell_type": "markdown",
   "metadata": {
    "id": "g_2dovA8ErYG"
   },
   "source": [
    "4. Методом Gradient Boosting"
   ]
  },
  {
   "cell_type": "code",
   "execution_count": 29,
   "metadata": {
    "executionInfo": {
     "elapsed": 2310,
     "status": "ok",
     "timestamp": 1651731208319,
     "user": {
      "displayName": "Maxim Gasilin",
      "userId": "15501735730920561422"
     },
     "user_tz": -180
    },
    "id": "g18cRKEnBqz4"
   },
   "outputs": [],
   "source": [
    "clf = GBC().fit(X_Train, y_train)\n",
    "clf_PCA = GBC().fit(X_Train_PCA, y_train)\n",
    "\n",
    "predict = clf.predict(X_test)\n",
    "predict_PCA = clf_PCA.predict(X_test_PCA)\n",
    "\n",
    "acc_gbc     = accuracy_score(y_test, predict)\n",
    "acc_gbc_PCA = accuracy_score(y_test, predict_PCA)"
   ]
  },
  {
   "cell_type": "code",
   "execution_count": 30,
   "metadata": {
    "colab": {
     "base_uri": "https://localhost:8080/",
     "height": 175
    },
    "executionInfo": {
     "elapsed": 6,
     "status": "ok",
     "timestamp": 1651731209915,
     "user": {
      "displayName": "Maxim Gasilin",
      "userId": "15501735730920561422"
     },
     "user_tz": -180
    },
    "id": "jjT83opMa1U2",
    "outputId": "ccf16f53-3ace-413d-9c4e-c349f7464a95"
   },
   "outputs": [
    {
     "data": {
      "text/html": [
       "<div>\n",
       "<style scoped>\n",
       "    .dataframe tbody tr th:only-of-type {\n",
       "        vertical-align: middle;\n",
       "    }\n",
       "\n",
       "    .dataframe tbody tr th {\n",
       "        vertical-align: top;\n",
       "    }\n",
       "\n",
       "    .dataframe thead th {\n",
       "        text-align: right;\n",
       "    }\n",
       "</style>\n",
       "<table border=\"1\" class=\"dataframe\">\n",
       "  <thead>\n",
       "    <tr style=\"text-align: right;\">\n",
       "      <th></th>\n",
       "      <th>methods</th>\n",
       "      <th>accuracy</th>\n",
       "      <th>accuracy после PCA</th>\n",
       "    </tr>\n",
       "  </thead>\n",
       "  <tbody>\n",
       "    <tr>\n",
       "      <th>0</th>\n",
       "      <td>RandomForestClassifier</td>\n",
       "      <td>0.955556</td>\n",
       "      <td>0.866667</td>\n",
       "    </tr>\n",
       "    <tr>\n",
       "      <th>1</th>\n",
       "      <td>AdaBoostClassifier</td>\n",
       "      <td>0.955556</td>\n",
       "      <td>0.755556</td>\n",
       "    </tr>\n",
       "    <tr>\n",
       "      <th>2</th>\n",
       "      <td>BaggingClassifier</td>\n",
       "      <td>0.977778</td>\n",
       "      <td>0.866667</td>\n",
       "    </tr>\n",
       "    <tr>\n",
       "      <th>3</th>\n",
       "      <td>GradientBoostingClassifier</td>\n",
       "      <td>0.977778</td>\n",
       "      <td>0.866667</td>\n",
       "    </tr>\n",
       "  </tbody>\n",
       "</table>\n",
       "</div>"
      ],
      "text/plain": [
       "                      methods  accuracy  accuracy после PCA\n",
       "0      RandomForestClassifier  0.955556            0.866667\n",
       "1          AdaBoostClassifier  0.955556            0.755556\n",
       "2           BaggingClassifier  0.977778            0.866667\n",
       "3  GradientBoostingClassifier  0.977778            0.866667"
      ]
     },
     "execution_count": 30,
     "metadata": {},
     "output_type": "execute_result"
    }
   ],
   "source": [
    "df=pd.DataFrame(\n",
    "    {\n",
    "        'methods':['RandomForestClassifier', 'AdaBoostClassifier','BaggingClassifier','GradientBoostingClassifier']\n",
    "        ,'accuracy':[acc_rfc, acc_abc, acc_bc, acc_gbc]\n",
    "        ,'accuracy после PCA': [acc_rfc_PCA, acc_abc_PCA, acc_bc_PCA, acc_gbc_PCA]\n",
    "    }\n",
    ")\n",
    "df"
   ]
  },
  {
   "cell_type": "markdown",
   "metadata": {
    "id": "BSVaiTe-GUGO"
   },
   "source": [
    "**Вывод:** В среднем известные классификаторы дают менее хороший результат на данных, после применения PCA. Чаще всего различие не существенно. Но бывают и исключения. По хорошему, нужно проверить на большом количестве данных. И засечь время выполнения. Скорее всего выигрыш в скорости будет существеннее проигрыша в качестве. "
   ]
  },
  {
   "cell_type": "markdown",
   "metadata": {
    "id": "9QwfI4c3aG6Q"
   },
   "source": [
    "2. Написать свою реализацию метода главных компонент с помощью сингулярного разложения с использованием функции numpy.linalg.svd()"
   ]
  },
  {
   "cell_type": "code",
   "execution_count": 31,
   "metadata": {
    "executionInfo": {
     "elapsed": 454,
     "status": "ok",
     "timestamp": 1651731360737,
     "user": {
      "displayName": "Maxim Gasilin",
      "userId": "15501735730920561422"
     },
     "user_tz": -180
    },
    "id": "DbPc7YtOH42F"
   },
   "outputs": [],
   "source": [
    "def PCA_with_svd(X, n_components=None):\n",
    "    X_ = X.astype(float)\n",
    "    X_std = (X_ - np.mean(X_, axis=0))/np.std(X_, axis=0)\n",
    "    U, D, Vt = np.linalg.svd(X_std)\n",
    "    W = Vt[:, 0:n_components]\n",
    "    return X_std.dot(W)"
   ]
  },
  {
   "cell_type": "code",
   "execution_count": 32,
   "metadata": {
    "executionInfo": {
     "elapsed": 407,
     "status": "ok",
     "timestamp": 1651731758196,
     "user": {
      "displayName": "Maxim Gasilin",
      "userId": "15501735730920561422"
     },
     "user_tz": -180
    },
    "id": "Alaue24J2tz5"
   },
   "outputs": [],
   "source": [
    "X_PCA_SVD = PCA_with_svd(X)"
   ]
  },
  {
   "cell_type": "code",
   "execution_count": 33,
   "metadata": {
    "executionInfo": {
     "elapsed": 3,
     "status": "ok",
     "timestamp": 1651731759999,
     "user": {
      "displayName": "Maxim Gasilin",
      "userId": "15501735730920561422"
     },
     "user_tz": -180
    },
    "id": "EFRxBcZ33KWy"
   },
   "outputs": [],
   "source": [
    "X_Train_PCA_SVD = list(map(lambda i:X_PCA_SVD[i], X_train_index))\n",
    "X_test_PCA_SVD  = list(map(lambda i:X_PCA_SVD[i], X_test_index))"
   ]
  },
  {
   "cell_type": "markdown",
   "metadata": {
    "id": "XCHjmesr3Uxx"
   },
   "source": [
    "Далее обучим несколько распространенных моделей и \"совершим\" предсказание. При этом понимая, что методу главных компонент подверглись только данных из X_train и X_test. А значения в y_train и y_test не изменились."
   ]
  },
  {
   "cell_type": "markdown",
   "metadata": {
    "id": "PoQsLzFM3Z-Z"
   },
   "source": [
    "1. Методом Random Forest"
   ]
  },
  {
   "cell_type": "code",
   "execution_count": 34,
   "metadata": {
    "executionInfo": {
     "elapsed": 920,
     "status": "ok",
     "timestamp": 1651731784027,
     "user": {
      "displayName": "Maxim Gasilin",
      "userId": "15501735730920561422"
     },
     "user_tz": -180
    },
    "id": "SNAZd8mn3eYR"
   },
   "outputs": [],
   "source": [
    "# clf = RFC(n_jobs=-1).fit(X_Train, y_train)\n",
    "clf_PCA_SVD = RFC(n_jobs=-1).fit(X_Train_PCA_SVD, y_train)\n",
    "\n",
    "# predict = clf.predict(X_test)\n",
    "predict_PCA_SVD = clf_PCA_SVD.predict(X_test_PCA_SVD)\n",
    "\n",
    "# acc_rfc     = accuracy_score(y_test, predict)\n",
    "acc_rfc_PCA_SVD = accuracy_score(y_test, predict_PCA_SVD)"
   ]
  },
  {
   "cell_type": "markdown",
   "metadata": {
    "id": "_8Kk-EIX4yGy"
   },
   "source": [
    "2. Методом AdaBoost"
   ]
  },
  {
   "cell_type": "code",
   "execution_count": 35,
   "metadata": {
    "executionInfo": {
     "elapsed": 433,
     "status": "ok",
     "timestamp": 1651731892576,
     "user": {
      "displayName": "Maxim Gasilin",
      "userId": "15501735730920561422"
     },
     "user_tz": -180
    },
    "id": "nsVch15z4zy3"
   },
   "outputs": [],
   "source": [
    "clf_PCA_SVD = ABC().fit(X_Train_PCA_SVD, y_train)\n",
    "predict_PCA_SVD = clf_PCA_SVD.predict(X_test_PCA_SVD)\n",
    "acc_abc_PCA_SVD = accuracy_score(y_test, predict_PCA_SVD)"
   ]
  },
  {
   "cell_type": "markdown",
   "metadata": {
    "id": "88rB3X015MOx"
   },
   "source": [
    "3. Методом Bagging"
   ]
  },
  {
   "cell_type": "code",
   "execution_count": 36,
   "metadata": {
    "executionInfo": {
     "elapsed": 2445,
     "status": "ok",
     "timestamp": 1651731951329,
     "user": {
      "displayName": "Maxim Gasilin",
      "userId": "15501735730920561422"
     },
     "user_tz": -180
    },
    "id": "3RutxxJ55Qo7"
   },
   "outputs": [],
   "source": [
    "clf_PCA_SVD = BC(n_jobs=-1).fit(X_Train_PCA_SVD, y_train)\n",
    "predict_PCA_SVD = clf_PCA_SVD.predict(X_test_PCA_SVD)\n",
    "acc_bc_PCA_SVD = accuracy_score(y_test, predict_PCA_SVD)"
   ]
  },
  {
   "cell_type": "markdown",
   "metadata": {
    "id": "Ud1KaOIh5faA"
   },
   "source": [
    "4. Методом Gradient Boosting"
   ]
  },
  {
   "cell_type": "code",
   "execution_count": 37,
   "metadata": {
    "executionInfo": {
     "elapsed": 915,
     "status": "ok",
     "timestamp": 1651732014391,
     "user": {
      "displayName": "Maxim Gasilin",
      "userId": "15501735730920561422"
     },
     "user_tz": -180
    },
    "id": "4izFXm1z5e0B"
   },
   "outputs": [],
   "source": [
    "clf_PCA_SVD = GBC().fit(X_Train_PCA_SVD, y_train)\n",
    "predict_PCA_SVD = clf_PCA_SVD.predict(X_test_PCA_SVD)\n",
    "acc_gbc_PCA_SVD = accuracy_score(y_test, predict_PCA_SVD)"
   ]
  },
  {
   "cell_type": "code",
   "execution_count": 38,
   "metadata": {
    "colab": {
     "base_uri": "https://localhost:8080/",
     "height": 175
    },
    "executionInfo": {
     "elapsed": 529,
     "status": "ok",
     "timestamp": 1651732075562,
     "user": {
      "displayName": "Maxim Gasilin",
      "userId": "15501735730920561422"
     },
     "user_tz": -180
    },
    "id": "oAOKcCJP5ofq",
    "outputId": "b543f0cd-15d4-48b5-abd1-5dcd43b6d995"
   },
   "outputs": [
    {
     "data": {
      "text/html": [
       "<div>\n",
       "<style scoped>\n",
       "    .dataframe tbody tr th:only-of-type {\n",
       "        vertical-align: middle;\n",
       "    }\n",
       "\n",
       "    .dataframe tbody tr th {\n",
       "        vertical-align: top;\n",
       "    }\n",
       "\n",
       "    .dataframe thead th {\n",
       "        text-align: right;\n",
       "    }\n",
       "</style>\n",
       "<table border=\"1\" class=\"dataframe\">\n",
       "  <thead>\n",
       "    <tr style=\"text-align: right;\">\n",
       "      <th></th>\n",
       "      <th>methods</th>\n",
       "      <th>accuracy</th>\n",
       "      <th>accuracy после PCA</th>\n",
       "      <th>accuracy после PCA with SVD</th>\n",
       "    </tr>\n",
       "  </thead>\n",
       "  <tbody>\n",
       "    <tr>\n",
       "      <th>0</th>\n",
       "      <td>RandomForestClassifier</td>\n",
       "      <td>0.955556</td>\n",
       "      <td>0.866667</td>\n",
       "      <td>0.977778</td>\n",
       "    </tr>\n",
       "    <tr>\n",
       "      <th>1</th>\n",
       "      <td>AdaBoostClassifier</td>\n",
       "      <td>0.955556</td>\n",
       "      <td>0.755556</td>\n",
       "      <td>0.866667</td>\n",
       "    </tr>\n",
       "    <tr>\n",
       "      <th>2</th>\n",
       "      <td>BaggingClassifier</td>\n",
       "      <td>0.977778</td>\n",
       "      <td>0.866667</td>\n",
       "      <td>0.955556</td>\n",
       "    </tr>\n",
       "    <tr>\n",
       "      <th>3</th>\n",
       "      <td>GradientBoostingClassifier</td>\n",
       "      <td>0.977778</td>\n",
       "      <td>0.866667</td>\n",
       "      <td>0.977778</td>\n",
       "    </tr>\n",
       "  </tbody>\n",
       "</table>\n",
       "</div>"
      ],
      "text/plain": [
       "                      methods  accuracy  accuracy после PCA  \\\n",
       "0      RandomForestClassifier  0.955556            0.866667   \n",
       "1          AdaBoostClassifier  0.955556            0.755556   \n",
       "2           BaggingClassifier  0.977778            0.866667   \n",
       "3  GradientBoostingClassifier  0.977778            0.866667   \n",
       "\n",
       "   accuracy после PCA with SVD  \n",
       "0                     0.977778  \n",
       "1                     0.866667  \n",
       "2                     0.955556  \n",
       "3                     0.977778  "
      ]
     },
     "execution_count": 38,
     "metadata": {},
     "output_type": "execute_result"
    }
   ],
   "source": [
    "df=pd.DataFrame(\n",
    "    {\n",
    "        'methods':['RandomForestClassifier', 'AdaBoostClassifier','BaggingClassifier','GradientBoostingClassifier']\n",
    "        ,'accuracy':[acc_rfc, acc_abc, acc_bc, acc_gbc]\n",
    "        ,'accuracy после PCA': [acc_rfc_PCA, acc_abc_PCA, acc_bc_PCA, acc_gbc_PCA]\n",
    "        ,'accuracy после PCA with SVD': [acc_rfc_PCA_SVD, acc_abc_PCA_SVD, acc_bc_PCA_SVD, acc_gbc_PCA_SVD]\n",
    "    }\n",
    ")\n",
    "df"
   ]
  },
  {
   "cell_type": "markdown",
   "metadata": {
    "id": "lYs7OFqe5-gZ"
   },
   "source": [
    "**Вывод:** В среднем после применения SVD результат больше похож на работу моделей классификации на полном наборе параметров. Но не всегда. AdaBoost на Ирисовом датасете после применения SVD стал показывать результат еще хуже, чем PCA из лекции. "
   ]
  }
 ],
 "metadata": {
  "colab": {
   "collapsed_sections": [
    "Lmvx3YA5dfJj",
    "7RKYQxgMdfJu",
    "y6YHvcPvdfKS",
    "_nBcJPxaZzVd"
   ],
   "name": "Lesson_8_script.ipynb",
   "provenance": []
  },
  "kernelspec": {
   "display_name": "Python 3 (ipykernel)",
   "language": "python",
   "name": "python3"
  },
  "language_info": {
   "codemirror_mode": {
    "name": "ipython",
    "version": 3
   },
   "file_extension": ".py",
   "mimetype": "text/x-python",
   "name": "python",
   "nbconvert_exporter": "python",
   "pygments_lexer": "ipython3",
   "version": "3.9.12"
  }
 },
 "nbformat": 4,
 "nbformat_minor": 1
}
