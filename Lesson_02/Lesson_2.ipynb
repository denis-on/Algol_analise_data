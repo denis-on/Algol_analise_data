{
 "cells": [
  {
   "cell_type": "markdown",
   "metadata": {
    "id": "JkQFTgKJiqsy"
   },
   "source": [
    "# Урок 2. Масштабирование признаков. Регуляризация. Стохастический градиентный спуск."
   ]
  },
  {
   "cell_type": "markdown",
   "metadata": {
    "id": "JLVfsJXviqs1"
   },
   "source": [
    "## Масштабирование признаков"
   ]
  },
  {
   "cell_type": "markdown",
   "metadata": {
    "id": "Eu5ocQDMiqs2"
   },
   "source": [
    "В машинном обучении при работе с линейными моделями полезной является практика _масштабирования признаков_. Многие методы машинного обучения, в том числе и линейные, наиболее эффективны в том случае, когда признаки имеют одинаковый масштаб. По сути масштабирование означает приведение признаков к какой-то единой шкале. "
   ]
  },
  {
   "cell_type": "markdown",
   "metadata": {
    "id": "Gsw78QW7iqs3"
   },
   "source": [
    "Существует большое количество методов масштабирования, наиболее популярными из которых являются _нормализация_ и _стандартизация_.\n",
    "\n",
    "Метод нормализации заколючается в приведении признаков к масштабу в диапазоне [0-1].\n",
    "\n",
    "Для его реализации необходимо найти минимальное $min_{j} (x^{j}_{i})$ и максимальное $max_{j} (x^{j}_{i})$ значение признака на обучающей выборке. При этом отмасштабированное значение признака будет находиться по формуле\n",
    "\n",
    "$$x^{j}_{i} = \\frac{x^{j}_{i} - min_{j} (x^{j}_{i})}{max_{j} (x^{j}_{i})-min_{j} (x^{j}_{i})}.$$\n",
    "\n",
    "После преобразования значений признаков минимальное значение превратится в 0, а максимальное - в 1.\n",
    "\n",
    "Стандартизация заключается в получении своего рода значения сдвига каждого признака от среднего. Для ее реализации необходимо вычислить среднее значение признака \n",
    "\n",
    "$$\\mu_{j} = \\frac{1}{l}\\sum^{l}_{i=1}x^{j}_{i}$$\n",
    "\n",
    "и стандартное отклонение, которое находится путем суммирования квадратов отклонения значений признака на объектах выборки от среднего $\\mu_{j}$ и делением на число объектов выборки с последующим извлечением корня:\n",
    "\n",
    "$$\\sigma_{j} = \\sqrt{\\frac{1}{l}\\sum^{l}_{i=1}(x^{j}_{i}-\\mu_{j})^{2}}$$\n",
    "\n",
    "Чтобы отмасштабировать признак, каждое его значение преобразуется по формуле\n",
    "\n",
    "$$x^{j}_{i}=\\frac{x^{j}_{i} - \\mu_{j}}{\\sigma_{j}}.$$"
   ]
  },
  {
   "cell_type": "markdown",
   "metadata": {
    "id": "s32Rv-eFiqs4"
   },
   "source": [
    "Масштабирование является важным этапом подготовки данных перед применением методов машинного обучения. \n",
    "\n",
    "Важным и последним свойством масштабирования является факт, что после масштабирования признаков в линейных моделях веса при них могут интерпретироваться как мера значимости этих признаков.\n",
    "\n",
    "Существуют различные ситуации, когда целесообразно применять тот или иной метод масштабирования. Нормализовать полезно признаки, опирающиеся на величину значений - такие как расстояние. Стандартизировать полезно признаки для модели, которая опирается на распределение. В общем случае, когда выбор метода неочевиден, полезной практикой считается создавать масштабированные копии набора данных, с которыми работает специалист, и сравнивать друг с другом полученные после применения модели результаты для выявления оптимального метода масштабирования для имеющейся ситуации."
   ]
  },
  {
   "cell_type": "code",
   "execution_count": 1,
   "metadata": {
    "executionInfo": {
     "elapsed": 1,
     "status": "ok",
     "timestamp": 1649362765817,
     "user": {
      "displayName": "Maxim Gasilin",
      "userId": "15501735730920561422"
     },
     "user_tz": -180
    },
    "id": "c7NGnJrtiqs_"
   },
   "outputs": [],
   "source": [
    "import numpy as np\n",
    "from sklearn import datasets\n",
    "import matplotlib.pyplot as plt\n",
    "\n",
    "import warnings\n",
    "warnings.filterwarnings('ignore')\n",
    "\n",
    "%matplotlib inline"
   ]
  },
  {
   "cell_type": "code",
   "execution_count": 2,
   "metadata": {
    "executionInfo": {
     "elapsed": 3,
     "status": "ok",
     "timestamp": 1649362766070,
     "user": {
      "displayName": "Maxim Gasilin",
      "userId": "15501735730920561422"
     },
     "user_tz": -180
    },
    "id": "L92vtZuDiqtD"
   },
   "outputs": [],
   "source": [
    "# сгенерируем набор данных\n",
    "data1, target, coef = datasets.make_regression(n_samples=100, n_features = 2, n_informative = 2, n_targets = 1, \n",
    "                                              noise = 5, coef = True, random_state = 2)\n",
    "data1[:,0] = data1[:,0]*10\n"
   ]
  },
  {
   "cell_type": "code",
   "execution_count": 3,
   "metadata": {
    "colab": {
     "base_uri": "https://localhost:8080/",
     "height": 521
    },
    "executionInfo": {
     "elapsed": 818,
     "status": "ok",
     "timestamp": 1649362766885,
     "user": {
      "displayName": "Maxim Gasilin",
      "userId": "15501735730920561422"
     },
     "user_tz": -180
    },
    "id": "AeC8LeqpAmwu",
    "outputId": "bb08960a-40e6-40f9-ab21-cbd879650872"
   },
   "outputs": [
    {
     "data": {
      "image/png": "[encoded data removed]",
      "text/plain": [
       "<Figure size 432x288 with 1 Axes>"
      ]
     },
     "metadata": {
      "needs_background": "light"
     },
     "output_type": "display_data"
    },
    {
     "data": {
      "image/png": "[encoded data removed]",
      "text/plain": [
       "<Figure size 432x288 with 2 Axes>"
      ]
     },
     "metadata": {
      "needs_background": "light"
     },
     "output_type": "display_data"
    }
   ],
   "source": [
    "plt.plot(data1[:,0],data1[:,1], '.')\n",
    "plt.xlim((-40,40))\n",
    "plt.ylim((-40,40))\n",
    "plt.grid(True)\n",
    "plt.show()\n",
    "plt.subplot(1,2,1)\n",
    "plt.plot(data1[:,0],target, '.')\n",
    "plt.xlim((-40,40))\n",
    "plt.ylim((-40,40))\n",
    "plt.grid(True)\n",
    "plt.subplot(1,2,2)\n",
    "plt.plot(data1[:,1],target, '.')\n",
    "plt.xlim((-4,4))\n",
    "plt.ylim((-40,40))\n",
    "plt.grid(True)\n",
    "\n",
    "plt.show()"
   ]
  },
  {
   "cell_type": "code",
   "execution_count": 4,
   "metadata": {
    "executionInfo": {
     "elapsed": 10,
     "status": "ok",
     "timestamp": 1649362766886,
     "user": {
      "displayName": "Maxim Gasilin",
      "userId": "15501735730920561422"
     },
     "user_tz": -180
    },
    "id": "rOKEKtFKiqtG"
   },
   "outputs": [],
   "source": [
    "# Получим средние значения и стандартное отклонение по столбцам\n",
    " \n",
    "means = np.mean(data1, axis=0)\n",
    "stds = np.std(data1, axis=0)\n",
    "# параметр axis указывается для вычисления значений по столбцам, а не по всему массиву\n",
    "#(см. документацию в разделе источников)\n",
    "data = data1.copy() \n",
    "# вычтем каждое значение признака из среднего и поделим на стандартное отклонение\n",
    "for i in range(data1.shape[0]):\n",
    "    for j in range(data1.shape[1]):\n",
    "        data[i][j] = (data[i][j] - means[j])/stds[j]"
   ]
  },
  {
   "cell_type": "code",
   "execution_count": 5,
   "metadata": {
    "colab": {
     "base_uri": "https://localhost:8080/",
     "height": 521
    },
    "executionInfo": {
     "elapsed": 10,
     "status": "ok",
     "timestamp": 1649362766887,
     "user": {
      "displayName": "Maxim Gasilin",
      "userId": "15501735730920561422"
     },
     "user_tz": -180
    },
    "id": "ym-3C6n5AGly",
    "outputId": "4485c3ca-e0b8-41a0-9ef2-460b71c2d465"
   },
   "outputs": [
    {
     "data": {
      "image/png": "[encoded data removed]",
      "text/plain": [
       "<Figure size 432x288 with 1 Axes>"
      ]
     },
     "metadata": {
      "needs_background": "light"
     },
     "output_type": "display_data"
    },
    {
     "data": {
      "image/png": "[encoded data removed]",
      "text/plain": [
       "<Figure size 432x288 with 1 Axes>"
      ]
     },
     "metadata": {
      "needs_background": "light"
     },
     "output_type": "display_data"
    }
   ],
   "source": [
    "plt.plot(data[:,0],data[:,1], '.')\n",
    "plt.xlim((-4,4))\n",
    "plt.ylim((-4,4))\n",
    "plt.grid(True)\n",
    "plt.show()\n",
    "plt.plot(data[:,1],target, '.')\n",
    "plt.xlim((-4,4))\n",
    "plt.ylim((-40,40))\n",
    "plt.grid(True)\n",
    "plt.show()"
   ]
  },
  {
   "cell_type": "code",
   "execution_count": 6,
   "metadata": {
    "executionInfo": {
     "elapsed": 9,
     "status": "ok",
     "timestamp": 1649362766887,
     "user": {
      "displayName": "Maxim Gasilin",
      "userId": "15501735730920561422"
     },
     "user_tz": -180
    },
    "id": "z1cORZMhCvWc"
   },
   "outputs": [],
   "source": [
    "from sklearn.preprocessing import StandardScaler, Normalizer\n",
    "from sklearn.linear_model import LinearRegression"
   ]
  },
  {
   "cell_type": "code",
   "execution_count": 7,
   "metadata": {
    "executionInfo": {
     "elapsed": 8,
     "status": "ok",
     "timestamp": 1649362766887,
     "user": {
      "displayName": "Maxim Gasilin",
      "userId": "15501735730920561422"
     },
     "user_tz": -180
    },
    "id": "vl7QiXhCn2zG"
   },
   "outputs": [],
   "source": [
    "data1_test, target_test, _ = datasets.make_regression(n_samples=100, n_features = 2, n_informative = 2, n_targets = 1, \n",
    "                                              noise = 5, coef = True, random_state = 20)\n",
    "data1_test[:,0] = data1_test[:,0]*10\n",
    "data_test = data1_test.copy() \n",
    "# вычтем каждое значение признака из среднего и поделим на стандартное отклонение\n",
    "for i in range(data1_test.shape[0]):\n",
    "    for j in range(data1_test.shape[1]):\n",
    "        data_test[i][j] = (data_test[i][j] - means[j])/stds[j]"
   ]
  },
  {
   "cell_type": "code",
   "execution_count": 8,
   "metadata": {
    "colab": {
     "base_uri": "https://localhost:8080/",
     "height": 265
    },
    "executionInfo": {
     "elapsed": 446,
     "status": "ok",
     "timestamp": 1649362767325,
     "user": {
      "displayName": "Maxim Gasilin",
      "userId": "15501735730920561422"
     },
     "user_tz": -180
    },
    "id": "Sn66i2nNn2zH",
    "outputId": "ea4a4211-8968-4f2e-a861-a3bc7cffb3d0"
   },
   "outputs": [
    {
     "data": {
      "image/png": "[encoded data removed]",
      "text/plain": [
       "<Figure size 432x288 with 1 Axes>"
      ]
     },
     "metadata": {
      "needs_background": "light"
     },
     "output_type": "display_data"
    }
   ],
   "source": [
    "c_lr1 = LinearRegression().fit(data1,target)\n",
    "c_lr = LinearRegression().fit(data,target)\n",
    "\n",
    "y1 = c_lr1.predict(data1_test[:100,:])\n",
    "y = c_lr.predict(data_test[:100,:])\n",
    "\n",
    "plt.plot(y,target_test[:100],'or', label = 'scaled x')\n",
    "plt.plot(y1,target_test[:100],'^g', label = 'no scaled x')\n",
    "plt.legend()\n",
    "plt.grid(True)\n",
    "plt.show()\n"
   ]
  },
  {
   "cell_type": "code",
   "execution_count": 9,
   "metadata": {
    "colab": {
     "base_uri": "https://localhost:8080/"
    },
    "executionInfo": {
     "elapsed": 8,
     "status": "ok",
     "timestamp": 1649362767325,
     "user": {
      "displayName": "Maxim Gasilin",
      "userId": "15501735730920561422"
     },
     "user_tz": -180
    },
    "id": "2c7K2zMYn2zH",
    "outputId": "7e31fb01-2910-46e8-c2d9-4767443e9463"
   },
   "outputs": [
    {
     "data": {
      "text/plain": [
       "(26.61122648720033, 26.61122648720032)"
      ]
     },
     "execution_count": 9,
     "metadata": {},
     "output_type": "execute_result"
    }
   ],
   "source": [
    "e1 = np.mean(np.abs(y-target_test))\n",
    "e = np.mean(np.abs(y1-target_test))\n",
    "e,e1"
   ]
  },
  {
   "cell_type": "code",
   "execution_count": 10,
   "metadata": {
    "colab": {
     "base_uri": "https://localhost:8080/"
    },
    "executionInfo": {
     "elapsed": 6,
     "status": "ok",
     "timestamp": 1649362767325,
     "user": {
      "displayName": "Maxim Gasilin",
      "userId": "15501735730920561422"
     },
     "user_tz": -180
    },
    "id": "DtlRuGOhn2zI",
    "outputId": "933879e5-b363-418c-d2da-501840a60c16"
   },
   "outputs": [
    {
     "data": {
      "text/plain": [
       "(array([ 3.82268182, 17.53259014]), array([43.27070664, 17.94069306]))"
      ]
     },
     "execution_count": 10,
     "metadata": {},
     "output_type": "execute_result"
    }
   ],
   "source": [
    "c_lr1.coef_, c_lr.coef_"
   ]
  },
  {
   "cell_type": "markdown",
   "metadata": {
    "id": "SMcddg8niqs5"
   },
   "source": [
    "## Стохастический градиентный спуск"
   ]
  },
  {
   "cell_type": "markdown",
   "metadata": {
    "id": "HkzFJVniiqs6"
   },
   "source": [
    "Вспомним метод градиентного спуска, рассмотренный ранее.\n",
    "\n",
    "На каждой итерации приближение получается вычитанием из предыдущего вектора градиента, умноженного на некоторый шаг:\n",
    "\n",
    "\n",
    "$$w^{k} = w^{k-1} - \\eta_{k}\\nabla Q(w^{k-1}, X).$$\n",
    "\n",
    "При этом выражение градиента в матричной форме выглядит так:\n",
    "\n",
    "$$\\nabla_{w}Q(w,X) = \\frac{2}{l}X^{T}(Xw-y).$$\n",
    "\n",
    "Если расписать $j$-ю компонетну этого градиента, то получим\n",
    "\n",
    "$$\\frac{\\partial Q}{\\partial w_{j}} = \\frac{2}{l}\\sum^{l}_{i=1}x^{j}_{i}(\\left \\langle w,x_{i} \\right \\rangle - y_{i}),$$\n",
    "\n",
    "то есть суммирование по всем $l$ объектам обучающей выборки. Здесь выражение под суммой показывает, как нужно изменить $j$-й вес, чтобы как можно сильнее улучшить качество __на объекте $x_{i}$__, а вся сумма показывает, как нужно изменить вес, чтобы улучшить качество на __всей выборке__.\n",
    "\n",
    "В этой формуле отражен один из главных недостатков градиентного спуска: если выборка большая по объему, то даже один шаг градиентного спуска будет занимать много вычислительных ресурсов и времени."
   ]
  },
  {
   "cell_type": "markdown",
   "metadata": {
    "id": "Xlcthp9Uiqs7"
   },
   "source": [
    "Стремление к оптимизации процесса привело к появлению _стохастического градиентного спуска_ (Stochastic gradient descent, SGD). Идея его основана на том, что на одной итерации мы вычитаем не вектор градиента, вычисленный по всей выборке, а вместо этого случайно выбираем один объект из обучающей выборки $x_{i}$ и вычисляем градиент только на этом объекте, то есть градиент только одного слагаемого в функционале ошибки и вычитаем именно этот градиент из текущего приближения вектора весов:\n",
    "\n",
    "$$w^{k} = w^{k-1} - \\eta_{k}\\nabla Q(w^{k-1}, \\{x_{i}\\}),$$\n",
    "\n",
    "то есть $\\nabla Q(w^{k-1}, X)$ заменяется на $\\nabla Q(w^{k-1}, \\{x_{i}\\})$."
   ]
  },
  {
   "cell_type": "markdown",
   "metadata": {
    "id": "2mKZbftTiqs9"
   },
   "source": [
    "Если в случае градиентного спуска мы стараемся на каждой итерации уменьшить ошибку на всей выборке, и по мере увеличения числа итераций ошибка падает монотонно, то в случае стохастического градиентного спуска мы уменьшаем на каждой итерации ошибку только на одном объекте, но при этом есть вероятность увеличить ее на другом объекте, поэтому график изменения ошибки может получаться немонотонным, и даже иметь пики (см. пример по ссылке [1] из списка литературы). То есть на какой-то итерации мы можем даже увеличить ошибку, но при этом в целом по ходу метода ошибка снижается, и рано или поздно мы выходим на нормальный уровень."
   ]
  },
  {
   "cell_type": "markdown",
   "metadata": {
    "id": "-BBJDLSQiqs-"
   },
   "source": [
    "Реализуем стохастический градиентный спуск своими руками."
   ]
  },
  {
   "cell_type": "markdown",
   "metadata": {
    "id": "4mq1B_FniqtF"
   },
   "source": [
    "Отмасштабируем получившиеся признаки методом стандартизации."
   ]
  },
  {
   "cell_type": "code",
   "execution_count": 11,
   "metadata": {
    "executionInfo": {
     "elapsed": 247,
     "status": "ok",
     "timestamp": 1649365811477,
     "user": {
      "displayName": "Maxim Gasilin",
      "userId": "15501735730920561422"
     },
     "user_tz": -180
    },
    "id": "8BMCZ7uNiqtJ"
   },
   "outputs": [],
   "source": [
    "# реализуем функцию, определяющую среднеквадратичную ошибку\n",
    "def mserror(X, w, y_pred):\n",
    "    y = X.dot(w)\n",
    "    return (sum((y - y_pred)**2)) / len(y)"
   ]
  },
  {
   "cell_type": "markdown",
   "metadata": {
    "id": "oFPTJccEiqtO"
   },
   "source": [
    "Подготовка данных и средств проверки закончена. Далее реализуем сам стохастический градиентный спуск."
   ]
  },
  {
   "cell_type": "code",
   "execution_count": 12,
   "metadata": {
    "colab": {
     "base_uri": "https://localhost:8080/",
     "height": 321
    },
    "executionInfo": {
     "elapsed": 312,
     "status": "error",
     "timestamp": 1649365812053,
     "user": {
      "displayName": "Maxim Gasilin",
      "userId": "15501735730920561422"
     },
     "user_tz": -180
    },
    "id": "hwIeP5Y4iqtQ",
    "outputId": "c92093ee-949f-45bb-bdf6-333827258860"
   },
   "outputs": [
    {
     "name": "stdout",
     "output_type": "stream",
     "text": [
      "В случае использования стохастического градиентного спуска функционал ошибки составляет 24.4208\n"
     ]
    }
   ],
   "source": [
    "# инициализируем начальный вектор весов\n",
    "w = np.random.randn(2) # Это частный случай\n",
    " \n",
    "# список векторов весов после каждой итерации\n",
    "w_list = [w.copy()]\n",
    " \n",
    "# список значений ошибок после каждой итерации\n",
    "errors = []\n",
    " \n",
    "# шаг градиентного спуска\n",
    "eta = 0.1\n",
    " \n",
    "# максимальное число итераций\n",
    "max_iter = 1e5\n",
    " \n",
    "# критерий сходимости (разница весов, при которой алгоритм останавливается)\n",
    "min_weight_dist = 1e-8\n",
    " \n",
    "# зададим начальную разницу весов большим числом\n",
    "weight_dist = np.inf\n",
    " \n",
    "# счетчик итераций\n",
    "iter_num = 0\n",
    "lamb = 0.01 \n",
    "np.random.seed(1234)\n",
    "\n",
    "Q = [mserror(data, w, target)]  \n",
    "# ход градиентного спуска\n",
    "while weight_dist > min_weight_dist and iter_num < max_iter:\n",
    "    \n",
    "    # генерируем случайный индекс объекта выборки\n",
    "    train_ind = np.random.randint(data.shape[0])\n",
    "    \n",
    "    new_w = w - 2 * eta/(i+1) * np.dot(data[train_ind].T, (np.dot(data[train_ind], w) - target[train_ind])) #/ target.shape[0]\n",
    " \n",
    "    weight_dist = np.linalg.norm(new_w - w, ord=2)\n",
    "    \n",
    "    w_list.append(new_w.copy())\n",
    "    errors.append(mserror(data, new_w, target))\n",
    "    Q.append(Q[-1]*(1-lamb)+lamb*(np.dot(data[train_ind], w) - target[train_ind])**2)\n",
    "    iter_num += 1\n",
    "    w = new_w\n",
    "    \n",
    "w_list = np.array(w_list)\n",
    " \n",
    "print(f'В случае использования стохастического градиентного спуска функционал ошибки составляет {round(errors[-1], 4)}')"
   ]
  },
  {
   "cell_type": "markdown",
   "metadata": {
    "id": "B-cN_umsiqtU"
   },
   "source": [
    "Для стохастического градиентного спуска мы увеличили максимальное число итераций (max_iter) до 10000, что естественно, так как из-за специфики метода для достижения сходимости нужно большее количество шагов."
   ]
  },
  {
   "cell_type": "code",
   "execution_count": 13,
   "metadata": {
    "executionInfo": {
     "elapsed": 4,
     "status": "aborted",
     "timestamp": 1649365812050,
     "user": {
      "displayName": "Maxim Gasilin",
      "userId": "15501735730920561422"
     },
     "user_tz": -180
    },
    "id": "EvuYjoYLZ8P7"
   },
   "outputs": [
    {
     "data": {
      "image/png": "[encoded data removed]",
      "text/plain": [
       "<Figure size 936x432 with 1 Axes>"
      ]
     },
     "metadata": {
      "needs_background": "light"
     },
     "output_type": "display_data"
    }
   ],
   "source": [
    "# Визуализируем изменение весов (красной точкой обозначены истинные веса, сгенерированные вначале)\n",
    "plt.figure(figsize=(13, 6))\n",
    "plt.title('Stochastic gradient descent')\n",
    "plt.xlabel('t')\n",
    "plt.ylabel('Q')\n",
    "\n",
    "plt.plot(Q)\n",
    "\n",
    "\n",
    "\n",
    "plt.show()"
   ]
  },
  {
   "cell_type": "code",
   "execution_count": 14,
   "metadata": {
    "executionInfo": {
     "elapsed": 5,
     "status": "aborted",
     "timestamp": 1649365812051,
     "user": {
      "displayName": "Maxim Gasilin",
      "userId": "15501735730920561422"
     },
     "user_tz": -180
    },
    "id": "Mq8gHc1iiqtU"
   },
   "outputs": [
    {
     "data": {
      "image/png": "[encoded data removed]",
      "text/plain": [
       "<Figure size 936x432 with 1 Axes>"
      ]
     },
     "metadata": {
      "needs_background": "light"
     },
     "output_type": "display_data"
    }
   ],
   "source": [
    "# Визуализируем изменение весов (красной точкой обозначены истинные веса, сгенерированные вначале)\n",
    "plt.figure(figsize=(13, 6))\n",
    "plt.title('Stochastic gradient descent')\n",
    "plt.xlabel(r'$w_1$')\n",
    "plt.ylabel(r'$w_2$')\n",
    "\n",
    "plt.scatter(w_list[:, 0], w_list[:, 1])\n",
    "plt.scatter(coef[0], coef[1], c='r')\n",
    "# plt.plot(w_list[:, 0], w_list[:, 1])\n",
    "\n",
    "plt.show()"
   ]
  },
  {
   "cell_type": "code",
   "execution_count": 15,
   "metadata": {
    "executionInfo": {
     "elapsed": 5,
     "status": "aborted",
     "timestamp": 1649365812051,
     "user": {
      "displayName": "Maxim Gasilin",
      "userId": "15501735730920561422"
     },
     "user_tz": -180
    },
    "id": "MXCKz_wliqtZ"
   },
   "outputs": [
    {
     "data": {
      "text/plain": [
       "Text(0, 0.5, 'MSE')"
      ]
     },
     "execution_count": 15,
     "metadata": {},
     "output_type": "execute_result"
    },
    {
     "data": {
      "image/png": "[encoded data removed]",
      "text/plain": [
       "<Figure size 432x288 with 1 Axes>"
      ]
     },
     "metadata": {
      "needs_background": "light"
     },
     "output_type": "display_data"
    }
   ],
   "source": [
    "# Визуализируем изменение функционала ошибки\n",
    "plt.plot(range(len(errors)-1), errors[1:])\n",
    "plt.plot(Q[1:],'r.')\n",
    "plt.title('MSE')\n",
    "plt.xlabel('Iteration number')\n",
    "plt.ylabel('MSE')"
   ]
  },
  {
   "cell_type": "markdown",
   "metadata": {
    "id": "QchXLomyiqte"
   },
   "source": [
    "Как и в случае градиентного спуска, вектор весов приближается к истинному. При этом падает и ошибка. Сравнить скорость ее падения для двух методов вам предстоит в домашнем задании.\n",
    "\n",
    "Добиться лучшей скорости сходимости в методе стохастического градиентного спуска можно варьируя величину шага или используя методы, подбирающие ее адаптивно."
   ]
  },
  {
   "cell_type": "markdown",
   "metadata": {
    "id": "a_19JViDiqtg"
   },
   "source": [
    "Среди преимуществ SGD можно выделить гораздо более быстрое вычисление одного шага по сравнению с обычным градиентным спуском и отсутствие необходимости хранить всю выборку в памяти при работе метода, что в свою очередь позволяет работать с очень большими выборками, которые невозможно поместить в память."
   ]
  },
  {
   "cell_type": "code",
   "execution_count": 16,
   "metadata": {
    "executionInfo": {
     "elapsed": 6,
     "status": "aborted",
     "timestamp": 1649365812053,
     "user": {
      "displayName": "Maxim Gasilin",
      "userId": "15501735730920561422"
     },
     "user_tz": -180
    },
    "id": "57dD-EMP9LXe"
   },
   "outputs": [],
   "source": [
    "from  sklearn.linear_model import SGDClassifier , SGDRegressor"
   ]
  },
  {
   "cell_type": "markdown",
   "metadata": {
    "id": "pZXExx-Yiqth"
   },
   "source": [
    "## Переобучение и методы борьбы с ним"
   ]
  },
  {
   "cell_type": "markdown",
   "metadata": {
    "id": "JB93X534iqth"
   },
   "source": [
    "Чтобы понять смысл переобучения и недообучения, начнем с примера. Допустим, у нас есть исходная известная зависимость 3-го порядка:\n",
    "\n",
    "$$f(x) = 0.6 - 13.2x - 5.3 x^{2} - 4.17x^{3}.$$\n",
    "\n",
    "Реализуем ее в виде python-функции и построим график."
   ]
  },
  {
   "cell_type": "code",
   "execution_count": 17,
   "metadata": {
    "executionInfo": {
     "elapsed": 7,
     "status": "ok",
     "timestamp": 1649361797306,
     "user": {
      "displayName": "Maxim Gasilin",
      "userId": "15501735730920561422"
     },
     "user_tz": -180
    },
    "id": "-x7O02fBiqti"
   },
   "outputs": [],
   "source": [
    "def f(x):\n",
    "    return 0.6 - 13.2 * x - 5.3 * x ** 2 - 4.17 * x ** 3"
   ]
  },
  {
   "cell_type": "code",
   "execution_count": 18,
   "metadata": {
    "colab": {
     "base_uri": "https://localhost:8080/",
     "height": 0
    },
    "executionInfo": {
     "elapsed": 740,
     "status": "ok",
     "timestamp": 1649361798039,
     "user": {
      "displayName": "Maxim Gasilin",
      "userId": "15501735730920561422"
     },
     "user_tz": -180
    },
    "id": "iZU05q4miqtk",
    "outputId": "c4e827b7-a0cb-437f-a7ee-48d1f9e911bd"
   },
   "outputs": [
    {
     "data": {
      "text/plain": [
       "[<matplotlib.lines.Line2D at 0x27ded743a60>]"
      ]
     },
     "execution_count": 18,
     "metadata": {},
     "output_type": "execute_result"
    },
    {
     "data": {
      "image/png": "[encoded data removed]",
      "text/plain": [
       "<Figure size 432x288 with 1 Axes>"
      ]
     },
     "metadata": {
      "needs_background": "light"
     },
     "output_type": "display_data"
    }
   ],
   "source": [
    "dots = np.linspace(-10, 10, 100)\n",
    "plt.xlabel('x')\n",
    "plt.ylabel('f(x)')\n",
    "plt.ylim(-5000, 5000)\n",
    "plt.xlim(-10,10)\n",
    "\n",
    "plt.plot(dots, f(dots), color='g')"
   ]
  },
  {
   "cell_type": "markdown",
   "metadata": {
    "id": "RY1HQExXiqtn"
   },
   "source": [
    "Теперь сгенерируем датасет из десяти случайных точек, подчиняющихся этой зависимости, с добавлением шума и нанесем на график."
   ]
  },
  {
   "cell_type": "code",
   "execution_count": 19,
   "metadata": {
    "executionInfo": {
     "elapsed": 8,
     "status": "ok",
     "timestamp": 1649361798039,
     "user": {
      "displayName": "Maxim Gasilin",
      "userId": "15501735730920561422"
     },
     "user_tz": -180
    },
    "id": "D8aLmQt2iqto"
   },
   "outputs": [],
   "source": [
    "np.random.seed(16)\n",
    "x_data = np.random.uniform(-10, 10, 10)\n",
    "f_data = [f(i) for i in x_data] + np.random.uniform(-1000, 1000, 10)"
   ]
  },
  {
   "cell_type": "code",
   "execution_count": 20,
   "metadata": {
    "colab": {
     "base_uri": "https://localhost:8080/"
    },
    "executionInfo": {
     "elapsed": 8,
     "status": "ok",
     "timestamp": 1649361798040,
     "user": {
      "displayName": "Maxim Gasilin",
      "userId": "15501735730920561422"
     },
     "user_tz": -180
    },
    "id": "nLgZXYlWo21x",
    "outputId": "5febe4b8-a361-4848-c4b3-96c2b3adfd4d"
   },
   "outputs": [
    {
     "data": {
      "text/plain": [
       "array([-5.53417842,  0.46326683,  1.01402913, -9.087961  , -2.78542329,\n",
       "       -5.53838117,  3.77452324, -6.7253715 , -8.59350266,  8.8202172 ])"
      ]
     },
     "execution_count": 20,
     "metadata": {},
     "output_type": "execute_result"
    }
   ],
   "source": [
    "x_data"
   ]
  },
  {
   "cell_type": "code",
   "execution_count": null,
   "metadata": {
    "executionInfo": {
     "elapsed": 7,
     "status": "ok",
     "timestamp": 1649361798040,
     "user": {
      "displayName": "Maxim Gasilin",
      "userId": "15501735730920561422"
     },
     "user_tz": -180
    },
    "id": "0jmZo89ko9pP"
   },
   "outputs": [],
   "source": []
  },
  {
   "cell_type": "code",
   "execution_count": 21,
   "metadata": {
    "colab": {
     "base_uri": "https://localhost:8080/"
    },
    "executionInfo": {
     "elapsed": 7,
     "status": "ok",
     "timestamp": 1649361798041,
     "user": {
      "displayName": "Maxim Gasilin",
      "userId": "15501735730920561422"
     },
     "user_tz": -180
    },
    "id": "Owxfodm0o9r3",
    "outputId": "8017f551-6fd3-40d8-a33d-d273597c110f"
   },
   "outputs": [
    {
     "data": {
      "text/plain": [
       "array([[-5.53417842,  0.46326683],\n",
       "       [ 1.01402913, -9.087961  ],\n",
       "       [-2.78542329, -5.53838117],\n",
       "       [ 3.77452324, -6.7253715 ],\n",
       "       [-8.59350266,  8.8202172 ]])"
      ]
     },
     "execution_count": 21,
     "metadata": {},
     "output_type": "execute_result"
    }
   ],
   "source": [
    "np.reshape(x_data, (5, -1))"
   ]
  },
  {
   "cell_type": "code",
   "execution_count": null,
   "metadata": {
    "executionInfo": {
     "elapsed": 6,
     "status": "ok",
     "timestamp": 1649361798041,
     "user": {
      "displayName": "Maxim Gasilin",
      "userId": "15501735730920561422"
     },
     "user_tz": -180
    },
    "id": "dlP6oKzCo9vA"
   },
   "outputs": [],
   "source": []
  },
  {
   "cell_type": "code",
   "execution_count": 22,
   "metadata": {
    "colab": {
     "base_uri": "https://localhost:8080/",
     "height": 0
    },
    "executionInfo": {
     "elapsed": 495,
     "status": "ok",
     "timestamp": 1649361798530,
     "user": {
      "displayName": "Maxim Gasilin",
      "userId": "15501735730920561422"
     },
     "user_tz": -180
    },
    "id": "OtY-zFVaiqtq",
    "outputId": "3892840b-cddf-4a52-df03-65287e4d7ce4"
   },
   "outputs": [
    {
     "data": {
      "text/plain": [
       "<matplotlib.collections.PathCollection at 0x27ded87a670>"
      ]
     },
     "execution_count": 22,
     "metadata": {},
     "output_type": "execute_result"
    },
    {
     "data": {
      "image/png": "[encoded data removed]",
      "text/plain": [
       "<Figure size 432x288 with 1 Axes>"
      ]
     },
     "metadata": {
      "needs_background": "light"
     },
     "output_type": "display_data"
    }
   ],
   "source": [
    "plt.xlabel('x')\n",
    "plt.ylabel('f(x)')\n",
    "plt.ylim(-5000, 5000)\n",
    "plt.xlim(-10,10)\n",
    "\n",
    "plt.plot(dots, f(dots), color='g')\n",
    "plt.scatter(x_data, f_data)"
   ]
  },
  {
   "cell_type": "markdown",
   "metadata": {
    "id": "zMHWU0yAiqt0"
   },
   "source": [
    "Теперь попробуем создать модель, способную восстановить исходную зависимость. Самым примитивным так называемый __константный алгоритм__, то есть модель вида \n",
    "\n",
    "$$a(x) = w_{0}.$$\n",
    "\n",
    "Зависимость такой модели от признаков будет иметь вид горизонтальной прямой, что, очевидно, не обобщает нашу зависимость в должном виде (см. график ниже)."
   ]
  },
  {
   "cell_type": "code",
   "execution_count": 23,
   "metadata": {
    "colab": {
     "base_uri": "https://localhost:8080/",
     "height": 0
    },
    "executionInfo": {
     "elapsed": 7,
     "status": "ok",
     "timestamp": 1649361798531,
     "user": {
      "displayName": "Maxim Gasilin",
      "userId": "15501735730920561422"
     },
     "user_tz": -180
    },
    "id": "8mYrEwYtiqt0",
    "outputId": "d1e2649c-fa56-4c19-b01d-bec8328ab202"
   },
   "outputs": [
    {
     "data": {
      "image/png": "[encoded data removed]",
      "text/plain": [
       "<Figure size 432x288 with 1 Axes>"
      ]
     },
     "metadata": {
      "needs_background": "light"
     },
     "output_type": "display_data"
    }
   ],
   "source": [
    "plt.xlabel('x')\n",
    "plt.ylabel('f(x)')\n",
    "plt.ylim(-5000, 5000)\n",
    "plt.xlim(-10,10)\n",
    "\n",
    "plt.plot(dots, f(dots), color='g')\n",
    "plt.scatter(x_data, f_data)\n",
    "plt.plot(dots, [dots.mean()]*len(dots), color='r')\n",
    "plt.show()"
   ]
  },
  {
   "cell_type": "markdown",
   "metadata": {
    "id": "JGkSELuTiqt3"
   },
   "source": [
    "Далее усложним семейство алгоритмов, применив линейную регрессию, которая в случае одного признака будет иметь вид \n",
    "\n",
    "$$a(x) = w_{0} + w_{1}x.$$\n",
    "\n",
    "Обучим соответствующую модель, применив для этого методы python \"из коробки\" для работы с линейной регрессией."
   ]
  },
  {
   "cell_type": "code",
   "execution_count": 24,
   "metadata": {
    "colab": {
     "base_uri": "https://localhost:8080/"
    },
    "executionInfo": {
     "elapsed": 352,
     "status": "ok",
     "timestamp": 1649361798877,
     "user": {
      "displayName": "Maxim Gasilin",
      "userId": "15501735730920561422"
     },
     "user_tz": -180
    },
    "id": "XIhKhnC0iqt4",
    "outputId": "144a9e69-5053-48c6-c425-45b2e6a18e14"
   },
   "outputs": [
    {
     "data": {
      "text/plain": [
       "LinearRegression()"
      ]
     },
     "execution_count": 24,
     "metadata": {},
     "output_type": "execute_result"
    }
   ],
   "source": [
    "\n",
    "from sklearn.linear_model import LinearRegression\n",
    "# создадим модель\n",
    "linear_regressor = LinearRegression( )\n",
    "\n",
    "# обучим ее\n",
    "linear_regressor.fit(np.reshape(x_data, (-1, 1)), f_data)"
   ]
  },
  {
   "cell_type": "code",
   "execution_count": 25,
   "metadata": {
    "colab": {
     "base_uri": "https://localhost:8080/"
    },
    "executionInfo": {
     "elapsed": 13,
     "status": "ok",
     "timestamp": 1649361798878,
     "user": {
      "displayName": "Maxim Gasilin",
      "userId": "15501735730920561422"
     },
     "user_tz": -180
    },
    "id": "zFLiACBZiqt7",
    "outputId": "5e131707-ee0d-41b2-a401-3401362795f0"
   },
   "outputs": [
    {
     "name": "stdout",
     "output_type": "stream",
     "text": [
      "-237.82400777158773 -411.9249993231067\n"
     ]
    }
   ],
   "source": [
    "# выведем полученный вес при признаке и свободный коэффициент\n",
    "print(linear_regressor.coef_[0], linear_regressor.intercept_)"
   ]
  },
  {
   "cell_type": "markdown",
   "metadata": {
    "id": "1TEVNRsgiquB"
   },
   "source": [
    "Нанесем полученную после обучения модель на график"
   ]
  },
  {
   "cell_type": "code",
   "execution_count": 26,
   "metadata": {
    "colab": {
     "base_uri": "https://localhost:8080/",
     "height": 0
    },
    "executionInfo": {
     "elapsed": 12,
     "status": "ok",
     "timestamp": 1649361798879,
     "user": {
      "displayName": "Maxim Gasilin",
      "userId": "15501735730920561422"
     },
     "user_tz": -180
    },
    "id": "TmbR6vRniquD",
    "outputId": "220d9f86-356f-4238-dfc9-d50720441c37"
   },
   "outputs": [
    {
     "data": {
      "text/plain": [
       "[<matplotlib.lines.Line2D at 0x27dedae1dc0>]"
      ]
     },
     "execution_count": 26,
     "metadata": {},
     "output_type": "execute_result"
    },
    {
     "data": {
      "image/png": "[encoded data removed]",
      "text/plain": [
       "<Figure size 432x288 with 1 Axes>"
      ]
     },
     "metadata": {
      "needs_background": "light"
     },
     "output_type": "display_data"
    }
   ],
   "source": [
    "plt.xlabel('x')\n",
    "plt.ylabel('f(x)')\n",
    "plt.ylim(-5000, 5000)\n",
    "plt.xlim(-10,10)\n",
    "\n",
    "plt.plot(dots, f(dots), color='g')\n",
    "plt.scatter(x_data, f_data)\n",
    "plt.plot(dots, linear_regressor.predict(np.reshape(dots, (-1, 1))), color='r')"
   ]
  },
  {
   "cell_type": "markdown",
   "metadata": {
    "id": "OVSKKmTmiquJ"
   },
   "source": [
    "Мы обучили линейную модель, и видимо, что она, как и константная, плохо восстанавливает исходную зависимость. В данном случае можно говорить о __недообучении__. Хороший алгоритм не был построен, поскольку с помощью выбранного семейства алгоритмов невозможно восстановить исходную закономерность."
   ]
  },
  {
   "cell_type": "markdown",
   "metadata": {
    "id": "km9OjqjGiquK"
   },
   "source": [
    "Усложним используемое семейство алгоритмов до кубической зависимости \n",
    "\n",
    "$$a(x) = w_{0} + w_{1}x + w_{2}x^{2} + w_{3}x^{3}.$$\n",
    "\n",
    "Сделаем это путем искусственной генерации новой матрицы признаков, состоящей из исходных $x$, возведенных в степени до 3, используя `sklearn.preprocessing.PolynomialFeatures`. "
   ]
  },
  {
   "cell_type": "code",
   "execution_count": 27,
   "metadata": {
    "colab": {
     "base_uri": "https://localhost:8080/"
    },
    "executionInfo": {
     "elapsed": 11,
     "status": "ok",
     "timestamp": 1649361798880,
     "user": {
      "displayName": "Maxim Gasilin",
      "userId": "15501735730920561422"
     },
     "user_tz": -180
    },
    "id": "iDLG2XuViquL",
    "outputId": "c60ff5a4-3545-483a-a989-1a7e8c948a59"
   },
   "outputs": [
    {
     "data": {
      "text/plain": [
       "Pipeline(steps=[('polynomialfeatures', PolynomialFeatures(degree=3)),\n",
       "                ('linearregression', LinearRegression())])"
      ]
     },
     "execution_count": 27,
     "metadata": {},
     "output_type": "execute_result"
    }
   ],
   "source": [
    "from sklearn.preprocessing import PolynomialFeatures\n",
    "from sklearn.pipeline import make_pipeline\n",
    "\n",
    "# создадим новую кубическую модель\n",
    "third_degree_regressor = make_pipeline(PolynomialFeatures(degree=3), LinearRegression())\n",
    "\n",
    "# обучим ее\n",
    "third_degree_regressor.fit(np.reshape(x_data, (-1, 1)), f_data)"
   ]
  },
  {
   "cell_type": "code",
   "execution_count": 28,
   "metadata": {
    "colab": {
     "base_uri": "https://localhost:8080/"
    },
    "executionInfo": {
     "elapsed": 4,
     "status": "ok",
     "timestamp": 1649361799150,
     "user": {
      "displayName": "Maxim Gasilin",
      "userId": "15501735730920561422"
     },
     "user_tz": -180
    },
    "id": "9kY0H8KPiquS",
    "outputId": "300527ca-7d3d-45ab-ff06-da1bfc184231"
   },
   "outputs": [
    {
     "name": "stdout",
     "output_type": "stream",
     "text": [
      "[ 0.         21.09882775 -7.90436131 -4.26313079]\n",
      "-55.95265093706246\n"
     ]
    }
   ],
   "source": [
    "# выведем полученные веса при признаках и свободный коэффициент\n",
    "print(third_degree_regressor.named_steps.linearregression.coef_)\n",
    "print(third_degree_regressor.named_steps.linearregression.intercept_)\n"
   ]
  },
  {
   "cell_type": "markdown",
   "metadata": {
    "id": "OBKM6B6wiquV"
   },
   "source": [
    "Нанесем полученную в итоге зависимость на график."
   ]
  },
  {
   "cell_type": "code",
   "execution_count": 29,
   "metadata": {
    "colab": {
     "base_uri": "https://localhost:8080/",
     "height": 0
    },
    "executionInfo": {
     "elapsed": 548,
     "status": "ok",
     "timestamp": 1649361799695,
     "user": {
      "displayName": "Maxim Gasilin",
      "userId": "15501735730920561422"
     },
     "user_tz": -180
    },
    "id": "6rKHJTjJiquW",
    "outputId": "32ee1c8d-9c48-4e63-ee0e-3ce24cec5d08"
   },
   "outputs": [
    {
     "data": {
      "text/plain": [
       "[<matplotlib.lines.Line2D at 0x27ded980880>]"
      ]
     },
     "execution_count": 29,
     "metadata": {},
     "output_type": "execute_result"
    },
    {
     "data": {
      "image/png": "[encoded data removed]",
      "text/plain": [
       "<Figure size 432x288 with 1 Axes>"
      ]
     },
     "metadata": {
      "needs_background": "light"
     },
     "output_type": "display_data"
    }
   ],
   "source": [
    "plt.xlabel('x')\n",
    "plt.ylabel('f(x)')\n",
    "plt.ylim(-5000, 5000)\n",
    "plt.xlim(-10,10)\n",
    "\n",
    "plt.plot(dots, f(dots), color='g')\n",
    "plt.scatter(x_data, f_data)\n",
    "plt.plot(dots, third_degree_regressor.predict(np.reshape(dots, (-1, 1))), color='r')"
   ]
  },
  {
   "cell_type": "markdown",
   "metadata": {
    "id": "9VJdL3rhiquY"
   },
   "source": [
    "Полученный алгоритм достаточно хорошо описывает данные, но не идеально. И в реальных условиях может возникнуть вопрос, можно ли добиться лучшего совпадения увеличением сложности алгоритма.\n",
    "\n",
    "Проиллюстрируем, что происходит в случае использования многочлена 8-й степени."
   ]
  },
  {
   "cell_type": "code",
   "execution_count": 30,
   "metadata": {
    "colab": {
     "base_uri": "https://localhost:8080/"
    },
    "executionInfo": {
     "elapsed": 8,
     "status": "ok",
     "timestamp": 1649361799695,
     "user": {
      "displayName": "Maxim Gasilin",
      "userId": "15501735730920561422"
     },
     "user_tz": -180
    },
    "id": "Vc8pOjbOiquZ",
    "outputId": "41601e5c-c7b1-418a-e717-bac460df42b2"
   },
   "outputs": [
    {
     "data": {
      "text/plain": [
       "Pipeline(steps=[('polynomialfeatures', PolynomialFeatures(degree=8)),\n",
       "                ('linearregression', LinearRegression())])"
      ]
     },
     "execution_count": 30,
     "metadata": {},
     "output_type": "execute_result"
    }
   ],
   "source": [
    "# создадим модель 8-й степени\n",
    "eighth_degree_regressor = make_pipeline(PolynomialFeatures(degree=8), LinearRegression())\n",
    "\n",
    "# обучим ее\n",
    "eighth_degree_regressor.fit(np.reshape(x_data, (-1, 1)), f_data)"
   ]
  },
  {
   "cell_type": "markdown",
   "metadata": {
    "id": "y8dlT6n5iquc"
   },
   "source": [
    "Покажем получившийся график зависимости."
   ]
  },
  {
   "cell_type": "code",
   "execution_count": 31,
   "metadata": {
    "colab": {
     "base_uri": "https://localhost:8080/",
     "height": 0
    },
    "executionInfo": {
     "elapsed": 536,
     "status": "ok",
     "timestamp": 1649361800225,
     "user": {
      "displayName": "Maxim Gasilin",
      "userId": "15501735730920561422"
     },
     "user_tz": -180
    },
    "id": "VW7kvdoFiqud",
    "outputId": "9b44a9f6-9328-447f-81af-63f167197ea4",
    "scrolled": true
   },
   "outputs": [
    {
     "data": {
      "text/plain": [
       "[<matplotlib.lines.Line2D at 0x27ded1763a0>]"
      ]
     },
     "execution_count": 31,
     "metadata": {},
     "output_type": "execute_result"
    },
    {
     "data": {
      "image/png": "[encoded data removed]",
      "text/plain": [
       "<Figure size 432x288 with 1 Axes>"
      ]
     },
     "metadata": {
      "needs_background": "light"
     },
     "output_type": "display_data"
    }
   ],
   "source": [
    "plt.xlabel('x')\n",
    "plt.ylabel('f(x)')\n",
    "plt.ylim(-5000, 5000)\n",
    "plt.xlim(-10,10)\n",
    "\n",
    "plt.plot(dots, f(dots), color='g')\n",
    "plt.scatter(x_data, f_data)\n",
    "plt.plot(dots, eighth_degree_regressor.predict(np.reshape(dots, (-1, 1))), color='r')"
   ]
  },
  {
   "cell_type": "code",
   "execution_count": 32,
   "metadata": {
    "colab": {
     "base_uri": "https://localhost:8080/"
    },
    "executionInfo": {
     "elapsed": 8,
     "status": "ok",
     "timestamp": 1649361800228,
     "user": {
      "displayName": "Maxim Gasilin",
      "userId": "15501735730920561422"
     },
     "user_tz": -180
    },
    "id": "0NRT8eUJjGpk",
    "outputId": "d66ad1c5-37e0-4a8a-a9c4-19dcf3bf7782"
   },
   "outputs": [
    {
     "name": "stdout",
     "output_type": "stream",
     "text": [
      "[ 0.00000000e+00  1.07116178e+03  8.76325214e+02  4.03130193e+01\n",
      " -5.61701731e+01 -9.81320833e+00  9.56286203e-02  1.16554743e-01\n",
      "  6.21060017e-03]\n",
      "-1536.793905494531\n"
     ]
    }
   ],
   "source": [
    "print(eighth_degree_regressor.named_steps.linearregression.coef_)\n",
    "print(eighth_degree_regressor.named_steps.linearregression.intercept_)"
   ]
  },
  {
   "cell_type": "markdown",
   "metadata": {
    "id": "JkFoaeMCiquk"
   },
   "source": [
    "Видно, что новая модель лучше описывает имеющиеся в обучающей выборке данные и дает фактически идеальные ответы на них, но про этом в целом зависимость сильно отличается от истинной. Поэтому если мы попробуем применить эту модель на новых данных, ответы будут расходиться с правильными. Такое явление и называется __переобучением__. Алгоритм слишком сильно подогнан под обучающую выборку, и за счет этого будет давать неадекватные ответы на новых точках."
   ]
  },
  {
   "cell_type": "markdown",
   "metadata": {
    "id": "CErR0qKOiquk"
   },
   "source": [
    "Таким образом, недообучение несет за собой плохое качество на обучении и на новых данных, а переобучение - хорошее качество на обучении и плохое на новых данных.\n",
    "\n",
    "Понятно, как бороться с недообучением - усложнять семейство алгоритмов. Возникает вопрос, как выявить переобучение и его избежать. В случае переобучения, как было сказано ранее, данные из обучающей выборки алгоритмом будут описываться хорошо, а новые данные - плохо, поэтому используя только обучающую выборку, невозможно заключить, хорошо обучен алгоритм или переобучен, так как оба они будут хорошо описывать известные данные."
   ]
  },
  {
   "cell_type": "markdown",
   "metadata": {
    "id": "g9MMDQHDiqul"
   },
   "source": [
    "Есть несколько методов оценки качества алгоритма и выявления переобучения:\n",
    "\n",
    "1. Не использовать всю выборку для обучения, а откладывать часть данных для проверки полученного алгоритма. Это называется _отложенной выборкой_. Данные делятся на обучающую и тестовую выборку в соотношении, например, 0.7 к 0.3, и затем на первой части алгоритм обучается, а на второй проверяется. Размер отложенной выборки в данном случае нужно подбирать с осторожностью, так как слишком маленькая тестовая выборка не будет обеспечивать должной точности оценки качества обучения, а слишком маленькия обучающая выборка приведет к снижению качества обучения, так как будет малорепрезентативна. Таким образом, главный минус этого метода - сильная зависимость результата от того, как мы выбираем отложенную выборку. Например, в пространстве объектов могут быть какие-то особые, отличающиеся от остальных по какому-то свойству объекты, и может так произойти, что после разбиения они не попадут в обучающую выборку, алгоритм на них не обучится, и качество обучения после проверки на этих объектах, попавших в тестовую выборку, будет плохим. Один из путей решения этой проблемы - многократное случайное разбиение выборки на тестовую и обучающую и использование в качестве оценки качества среднего значения ошибки полученной после каждого разбиения. Но и этот метод не гарантирует, что каждый объект побывает в обучающей выборке, так как разбиения случайные.\n",
    "\n",
    "\n",
    "2. _Кросс-валидация_ (усложненная версия метода отложенной выборки). Этот метод как раз вытекает из проблемы, описанной выше. Он является более системным подходом. В этом случае выборка разбивается на $k$ блоков, и затем каждый из них по очереди используется в качестве тестового, а остальная часть - в качестве обучающей выборки. После прохождения всей выборки таким образом получается $k$ показателей качества, и итоговая оценка качества обучения по кросс-валидации оценивается как средняя из этих $k$. В этом случае мы гарантируем, что все данные поучаствуют в обучении. Выбор количества блоков $k$ обычно зависит от размера выборки. Чем больше данных, тем меньше нужно блоков, так как во-первых в этом случае после разбиения даже на малое количество блоков у нас остается большой объем данных в обучающей выборке, что обеспечивает хорошее качество обучения, а во-вторых, разбиение на $k$ блоков означает обучение алгоритма $k$ раз, соответственно, чем их больше, тем больше получается вычислительная сложность процесса обучения модели. Обычно $k$ принимает значение от 3 до 10.\n",
    "\n",
    "\n",
    "3. Использовать меры сложности модели, позволяющие без дополнительной выборки выявить переобучение."
   ]
  },
  {
   "cell_type": "markdown",
   "metadata": {
    "id": "_I6dPoI0iqum"
   },
   "source": [
    "Одним из знаков, что произошло переобучение модели, или _мерой сложности_ является получение больших по модулю весов при признаках. Посмотрим, что получилось в нашей последней модели."
   ]
  },
  {
   "cell_type": "code",
   "execution_count": 33,
   "metadata": {
    "colab": {
     "base_uri": "https://localhost:8080/"
    },
    "executionInfo": {
     "elapsed": 7,
     "status": "ok",
     "timestamp": 1649361800228,
     "user": {
      "displayName": "Maxim Gasilin",
      "userId": "15501735730920561422"
     },
     "user_tz": -180
    },
    "id": "H4vCY2DJiqum",
    "outputId": "90914ccd-ef06-41db-bc4c-b0d12f8eaf5d"
   },
   "outputs": [
    {
     "name": "stdout",
     "output_type": "stream",
     "text": [
      "[ 0.00000000e+00  1.07116178e+03  8.76325214e+02  4.03130193e+01\n",
      " -5.61701731e+01 -9.81320833e+00  9.56286203e-02  1.16554743e-01\n",
      "  6.21060017e-03]\n",
      "-1536.793905494531\n"
     ]
    }
   ],
   "source": [
    "# выведем полученные веса при признаках и свободный коэффициент\n",
    "print(eighth_degree_regressor.named_steps.linearregression.coef_)\n",
    "print(eighth_degree_regressor.named_steps.linearregression.intercept_)"
   ]
  },
  {
   "cell_type": "markdown",
   "metadata": {
    "id": "3CveLhp1iqup"
   },
   "source": [
    "Видим веса 2 и 3 порядков в то время как в кубичесой модели и в исходной зависимости ничего подобного не было. Это и говорит нам о том, что в данном случае имеет место переобучение."
   ]
  },
  {
   "cell_type": "code",
   "execution_count": 34,
   "metadata": {
    "colab": {
     "base_uri": "https://localhost:8080/",
     "height": 0
    },
    "executionInfo": {
     "elapsed": 333,
     "status": "ok",
     "timestamp": 1649361800555,
     "user": {
      "displayName": "Maxim Gasilin",
      "userId": "15501735730920561422"
     },
     "user_tz": -180
    },
    "id": "Q4nYmrErn2zW",
    "outputId": "1aa95c67-309b-4036-87c4-a6d958e17f0e"
   },
   "outputs": [
    {
     "data": {
      "image/png": "[encoded data removed]",
      "text/plain": [
       "<Figure size 432x288 with 1 Axes>"
      ]
     },
     "metadata": {
      "needs_background": "light"
     },
     "output_type": "display_data"
    },
    {
     "data": {
      "image/png": "[encoded data removed]",
      "text/plain": [
       "<Figure size 432x288 with 1 Axes>"
      ]
     },
     "metadata": {
      "needs_background": "light"
     },
     "output_type": "display_data"
    }
   ],
   "source": [
    "# сгенерируем набор данных\n",
    "data2, target2, coef = datasets.make_regression(n_samples=1000, n_features = 2, n_informative = 2, n_targets = 1, \n",
    "                                              noise = 0.5, coef = True, random_state = 2)\n",
    "target2 = target2 ** 2 + 1\n",
    "\n",
    "\n",
    "plt.plot(data2[:,0],data2[:,1], '.')\n",
    "plt.xlim((-4,4))\n",
    "plt.ylim((-4,4))\n",
    "plt.xlabel('x1')\n",
    "plt.ylabel('x2')\n",
    "plt.grid(True)\n",
    "plt.show()\n",
    "plt.plot(data2[:,0],target2, '.')\n",
    "plt.xlim((-4,4))\n",
    "plt.xlabel('x1')\n",
    "plt.ylabel('y')\n",
    "plt.grid(True)\n",
    "plt.show()"
   ]
  },
  {
   "cell_type": "code",
   "execution_count": 35,
   "metadata": {
    "colab": {
     "base_uri": "https://localhost:8080/",
     "height": 0
    },
    "executionInfo": {
     "elapsed": 399,
     "status": "ok",
     "timestamp": 1649361800952,
     "user": {
      "displayName": "Maxim Gasilin",
      "userId": "15501735730920561422"
     },
     "user_tz": -180
    },
    "id": "q5G1dSbnn2zW",
    "outputId": "090266e1-6697-432b-8f16-f59a08a53c43"
   },
   "outputs": [
    {
     "data": {
      "image/png": "[encoded data removed]",
      "text/plain": [
       "<Figure size 1152x360 with 1 Axes>"
      ]
     },
     "metadata": {
      "needs_background": "light"
     },
     "output_type": "display_data"
    }
   ],
   "source": [
    "# отложенная выборка\n",
    "N_split = 80\n",
    "\n",
    "s = ('or','^g','.b','+k','or')\n",
    "n = 1\n",
    "plt.figure(figsize = (16,5))\n",
    "for i,n in enumerate([2,3,4]):\n",
    "    degree_regressor = make_pipeline(PolynomialFeatures(degree=n), LinearRegression())\n",
    "    # обучим ее\n",
    "    degree_regressor.fit(data2[:N_split,:], target2[:N_split])\n",
    "\n",
    "    y = degree_regressor.predict(data2[N_split:,:])\n",
    "\n",
    "\n",
    "    plt.plot(y,target2[N_split:],s[i], label = 'degree='+str(n))\n",
    "plt.legend()\n",
    "plt.grid(True)\n",
    "plt.show()"
   ]
  },
  {
   "cell_type": "code",
   "execution_count": 36,
   "metadata": {
    "colab": {
     "base_uri": "https://localhost:8080/"
    },
    "executionInfo": {
     "elapsed": 9,
     "status": "ok",
     "timestamp": 1649361800953,
     "user": {
      "displayName": "Maxim Gasilin",
      "userId": "15501735730920561422"
     },
     "user_tz": -180
    },
    "id": "B7JKxM2bn2zW",
    "outputId": "609d0d33-3f03-4afd-9265-d21e22463ec0"
   },
   "outputs": [
    {
     "data": {
      "text/plain": [
       "(63.9555995912633, 12434.490127664485, 0.077368859520486)"
      ]
     },
     "execution_count": 36,
     "metadata": {},
     "output_type": "execute_result"
    }
   ],
   "source": [
    "e1 = np.mean(np.abs(y-target2[N_split:]))\n",
    "e2 = np.mean((y-target2[N_split:])**2)\n",
    "e3 = np.mean(np.abs(y-target2[N_split:])/target2[N_split:])\n",
    "e1,e2,e3"
   ]
  },
  {
   "cell_type": "markdown",
   "metadata": {
    "id": "H_sCR6rXiqup"
   },
   "source": [
    "На этой особенности и основывается метод _регуляризации_ для борьбы с переобучением."
   ]
  },
  {
   "cell_type": "markdown",
   "metadata": {
    "id": "Ws1-N-_Qiqus"
   },
   "source": [
    "### Регуляризация"
   ]
  },
  {
   "cell_type": "markdown",
   "metadata": {
    "id": "8Zgvr4aEiqut"
   },
   "source": [
    "Метод регуляризации заключается в \"штрафовании\" модели за слишком большие веса путем добавления нового члена к среднеквадратичной ошибке:\n",
    "\n",
    "$$Q(w, X) + \\lambda ||w||^{2} \\rightarrow \\underset{w}{\\text{min}}.$$\n",
    "\n",
    "добавленный член $\\lambda ||w||^{2}$ - _квадратичный регуляризатор_, который представляет собой $L_{2}$-норму вектора весов, то есть сумму квадратов весов $\\sum^{d}_{j=1}w_{j}^{2}$, коэффицент $\\lambda$ при нем - коэффициент регуляризации. Чем больше его значение, тем меньшая сложность модели будет получаться в процессе такого обучения. Если увеличивать его, в какой-то момент оптимальным для модели окажется зануление всех весов. В то же время при слишком низких его значениях появляется вероятность чрезмерного усложнения модели и переобучения. Выбор оптимального значения этого коэфициента является отдельной задачей и заключается в многократном обучении модели с разными его значениями и сравнении их качества."
   ]
  },
  {
   "cell_type": "markdown",
   "metadata": {
    "id": "yP69lwhriqut"
   },
   "source": [
    "По сути, смысл регуляризации заключается, как и в обычном обучении, в минимизации функционала ошибки, только в данном случае добавляется условие непревышения нормой вектора весов некоторого значения $||w||^{2}\\leq C$, то есть ограничение весов, что и будет залогом избежания переобучения."
   ]
  },
  {
   "cell_type": "markdown",
   "metadata": {
    "id": "-OTMLxupiquu"
   },
   "source": [
    "Описанный выше метод с использованием $L_{2}$-нормы вектора весов в качестве регуляризатора называется _$L_{2}$-регуляризацией_. По аналогии существует также _$L_{1}$-регуляризация_, использующая в качестве регуляризатора $L_{1}$-норму вектора весов, то есть сумму модулей весов.\n",
    "\n",
    "$$||w||_{1} = \\sum^{d}_{j=1}|w_{j}|.$$"
   ]
  },
  {
   "cell_type": "markdown",
   "metadata": {
    "id": "EJFR2HDliqu1"
   },
   "source": [
    "$L_{2}$-регуляризатор представляет собой непрерывную гладкую функцию, поэтому его добавление не усложняет использование градиентных методов оптимизации, так как в каждой его точке существует производная. $L_{1}$-регуляризатор уже не является гладкой функцией, так как в нем есть модуль, у которого не существует производной в нуле. То есть его использование усложняет градиентные методы оптимизации, но в свою очередь он обладает интересной особенностью, заключающейся в занулении некоторых весов при его применении. Иными словами, он производит отбор признаков, позволяя оставлять только самые важные, отбрасывая остальные."
   ]
  },
  {
   "cell_type": "markdown",
   "metadata": {
    "id": "IjeEm_Geiqu2"
   },
   "source": [
    "$L_{1}$-регуляризация также называется Lasso, $L_{2}$-регуляризация иногда называется Ridge. По этим именам регуляризаторы можно найти в модуле `sklearn.linear_models`."
   ]
  },
  {
   "cell_type": "code",
   "execution_count": 37,
   "metadata": {
    "executionInfo": {
     "elapsed": 7,
     "status": "ok",
     "timestamp": 1649361800953,
     "user": {
      "displayName": "Maxim Gasilin",
      "userId": "15501735730920561422"
     },
     "user_tz": -180
    },
    "id": "9gjrf5hS87FO"
   },
   "outputs": [],
   "source": [
    "from sklearn.linear_model import Ridge, Lasso, ElasticNet"
   ]
  },
  {
   "cell_type": "code",
   "execution_count": 38,
   "metadata": {
    "executionInfo": {
     "elapsed": 8,
     "status": "ok",
     "timestamp": 1649361800954,
     "user": {
      "displayName": "Maxim Gasilin",
      "userId": "15501735730920561422"
     },
     "user_tz": -180
    },
    "id": "Uw0TNcQ0n2zY"
   },
   "outputs": [],
   "source": [
    "data2, target2, coef = datasets.make_regression(n_samples=1000, n_features = 2, n_informative = 2, n_targets = 1, \n",
    "                                              noise = 0.5, coef = True, random_state = 2)\n",
    "target3 = np.sum(data2 ** 2,1) + 1\n",
    "target3 =target3.reshape(-1,1)\n",
    "n = 3\n",
    "data3 = PolynomialFeatures(degree=n).fit_transform(data2)\n"
   ]
  },
  {
   "cell_type": "code",
   "execution_count": 39,
   "metadata": {
    "colab": {
     "base_uri": "https://localhost:8080/"
    },
    "executionInfo": {
     "elapsed": 8,
     "status": "ok",
     "timestamp": 1649361800954,
     "user": {
      "displayName": "Maxim Gasilin",
      "userId": "15501735730920561422"
     },
     "user_tz": -180
    },
    "id": "sloLs0G2n2zZ",
    "outputId": "c778a8aa-9e88-4377-b72a-eb97b275a53f"
   },
   "outputs": [
    {
     "data": {
      "text/plain": [
       "array([[ 0.37879447, -0.61837549],\n",
       "       [-0.65293115, -1.06706712],\n",
       "       [-1.06581629, -0.34682333]])"
      ]
     },
     "execution_count": 39,
     "metadata": {},
     "output_type": "execute_result"
    }
   ],
   "source": [
    "data2[:3,:]"
   ]
  },
  {
   "cell_type": "code",
   "execution_count": 40,
   "metadata": {
    "colab": {
     "base_uri": "https://localhost:8080/"
    },
    "executionInfo": {
     "elapsed": 7,
     "status": "ok",
     "timestamp": 1649361800954,
     "user": {
      "displayName": "Maxim Gasilin",
      "userId": "15501735730920561422"
     },
     "user_tz": -180
    },
    "id": "ze4RzpVsn2zZ",
    "outputId": "4a098b6d-4f26-4486-d8b3-48b8df23dbc5"
   },
   "outputs": [
    {
     "data": {
      "text/plain": [
       "array([[ 1.        ,  0.37879447, -0.61837549,  0.14348525, -0.23423721,\n",
       "         0.38238824,  0.05435142, -0.08872776,  0.14484655, -0.23645951],\n",
       "       [ 1.        , -0.65293115, -1.06706712,  0.42631908,  0.69672136,\n",
       "         1.13863225, -0.27835701, -0.45491107, -0.74344846, -1.21499704],\n",
       "       [ 1.        , -1.06581629, -0.34682333,  1.13596436,  0.36964996,\n",
       "         0.12028643, -1.21072932, -0.39397895, -0.12820323, -0.04171814]])"
      ]
     },
     "execution_count": 40,
     "metadata": {},
     "output_type": "execute_result"
    }
   ],
   "source": [
    "data3[:3,:]"
   ]
  },
  {
   "cell_type": "code",
   "execution_count": 41,
   "metadata": {
    "colab": {
     "base_uri": "https://localhost:8080/"
    },
    "executionInfo": {
     "elapsed": 6,
     "status": "ok",
     "timestamp": 1649361800954,
     "user": {
      "displayName": "Maxim Gasilin",
      "userId": "15501735730920561422"
     },
     "user_tz": -180
    },
    "id": "fgHoJ781n2zZ",
    "outputId": "84fe9325-15fc-4b4c-9414-dbd8db265929"
   },
   "outputs": [
    {
     "data": {
      "text/plain": [
       "(1000, 10)"
      ]
     },
     "execution_count": 41,
     "metadata": {},
     "output_type": "execute_result"
    }
   ],
   "source": [
    "data3.shape"
   ]
  },
  {
   "cell_type": "code",
   "execution_count": 42,
   "metadata": {
    "colab": {
     "base_uri": "https://localhost:8080/"
    },
    "executionInfo": {
     "elapsed": 289,
     "status": "ok",
     "timestamp": 1649361801237,
     "user": {
      "displayName": "Maxim Gasilin",
      "userId": "15501735730920561422"
     },
     "user_tz": -180
    },
    "id": "HEGz-vp-n2zZ",
    "outputId": "9a808156-6ed6-42bc-ec9f-f5a2e535af04"
   },
   "outputs": [
    {
     "name": "stdout",
     "output_type": "stream",
     "text": [
      "В случае использования стохастического градиентного спуска функционал ошибки составляет 11.4801\n"
     ]
    }
   ],
   "source": [
    "# инициализируем начальный вектор весов\n",
    "w = np.random.randn(data3.shape[1]).reshape(-1,1) # Это частный случай\n",
    " \n",
    "# список векторов весов после каждой итерации\n",
    "w_list = [w.copy().T]\n",
    " \n",
    "# список значений ошибок после каждой итерации\n",
    "errors = []\n",
    " \n",
    "# шаг градиентного спуска\n",
    "eta = 0.15/100\n",
    " \n",
    "# максимальное число итераций\n",
    "max_iter = 1e2\n",
    " \n",
    "# критерий сходимости (разница весов, при которой алгоритм останавливается)\n",
    "min_weight_dist = 1e-8\n",
    " \n",
    "# зададим начальную разницу весов большим числом\n",
    "weight_dist = np.inf\n",
    " \n",
    "# счетчик итераций\n",
    "iter_num = 0\n",
    "lamb = 0.01 \n",
    "q = 10.5/100\n",
    "np.random.seed(1234)\n",
    "\n",
    "Q = [mserror(data3, w, target3)[0]]  \n",
    "# ход градиентного спуска\n",
    "while weight_dist > min_weight_dist and iter_num < max_iter:\n",
    "    \n",
    "    # генерируем случайный индекс объекта выборки\n",
    "    train_ind = np.random.randint(data3.shape[0])\n",
    "    #производная потерь\n",
    "    \n",
    "    dQ = np.dot(data3[train_ind:train_ind+1,:].T, (np.dot(data3[train_ind:train_ind+1,:], w) - target3[train_ind,0]))\n",
    "    dL1 = np.sign(w) # производная для штрафа сложности\n",
    "    \n",
    "    new_w = w - 2 * eta * (dQ + q*dL1) #/ target3.shape[0] - нужно ставить небольшое значение скорости обучения\n",
    "     \n",
    "    weight_dist = np.linalg.norm(new_w - w, ord=2)\n",
    "    \n",
    "    w_list.append(new_w.copy())\n",
    "    errors.append(mserror(data3, new_w, target3)[0])\n",
    "    Q.append(Q[-1]*(1-lamb)+lamb*(np.dot(data3[train_ind,:], w) - target3[train_ind])**2)\n",
    "    iter_num += 1\n",
    "    w = new_w\n",
    "    \n",
    "w_list = np.array(w_list)\n",
    " \n",
    "print(f'В случае использования стохастического градиентного спуска функционал ошибки составляет {round(errors[-1], 4)}')"
   ]
  },
  {
   "cell_type": "code",
   "execution_count": 43,
   "metadata": {
    "colab": {
     "base_uri": "https://localhost:8080/"
    },
    "executionInfo": {
     "elapsed": 4,
     "status": "ok",
     "timestamp": 1649361801238,
     "user": {
      "displayName": "Maxim Gasilin",
      "userId": "15501735730920561422"
     },
     "user_tz": -180
    },
    "id": "yzRK2kvIn2za",
    "outputId": "3a20e89a-1642-4828-b4eb-282384322a49"
   },
   "outputs": [
    {
     "data": {
      "text/plain": [
       "array([[-0.57370521],\n",
       "       [ 2.01250027],\n",
       "       [-0.08529163],\n",
       "       [ 0.35000974],\n",
       "       [-0.06226685],\n",
       "       [ 1.78488174],\n",
       "       [-0.02837507],\n",
       "       [ 0.94463534],\n",
       "       [-0.06655489],\n",
       "       [ 0.05963689]])"
      ]
     },
     "execution_count": 43,
     "metadata": {},
     "output_type": "execute_result"
    }
   ],
   "source": [
    "w"
   ]
  },
  {
   "cell_type": "markdown",
   "metadata": {
    "id": "Lq5zA2Itiqu3"
   },
   "source": [
    "### Коэффициент детерминации"
   ]
  },
  {
   "cell_type": "code",
   "execution_count": 44,
   "metadata": {
    "executionInfo": {
     "elapsed": 3,
     "status": "ok",
     "timestamp": 1649361801238,
     "user": {
      "displayName": "Maxim Gasilin",
      "userId": "15501735730920561422"
     },
     "user_tz": -180
    },
    "id": "90g8hTP0n2za"
   },
   "outputs": [],
   "source": [
    "from sklearn.metrics import r2_score"
   ]
  },
  {
   "cell_type": "markdown",
   "metadata": {
    "id": "1e7sgEO5iqu3"
   },
   "source": [
    "_Коэффициент детерминации_ $R^{2}$ является еще одной метрикой качества в задачах регрессии. Ранее мы говорили о средней абсолютной и среднеквадратичной ошибке. Коэффициент детерминации позволяет развить тему среднеквадратичной ошибки, интерпретируя ее. \n",
    "\n",
    "MSE не позволяет сама по себе сделать вывод о том, как хорошо модель решает задачу. Например, если целевая переманная принимает значения от 0 до 1, а MSE равняется 10, это плохой показатель, а когда целевая переменная варьируется от 1000 до 10000, такое же значение уже является очень хорошим. Для избавления от такой неясности и был введен коэффициент детерминации, который по сути является нормированной среднеквадратичной ошибкой и принимает значения от 0 до 1.\n",
    "\n",
    "$$R^{2} = 1 - \\frac{\\sum^{l}_{i=1}(a(x_{i}) - y_{i})^{2}}{\\sum^{l}_{i=1}(y_{i} - \\bar{y})^{2}},$$\n",
    "\n",
    "где $\\bar{y}=\\frac{1}{l}\\sum^{l}_{i=1}y_{i}$ - среднее значение целевой переменной.\n",
    "\n",
    "Коэффициент детерминации характеризует, какую долю дисперсии ответов объясняет модель. Если $R^{2}=1$, то модель идеально описывает данные, если же $R^{2}$ близко к нулю, то предсказания сопоставимы по качеству с константной моделью."
   ]
  },
  {
   "cell_type": "code",
   "execution_count": 45,
   "metadata": {
    "executionInfo": {
     "elapsed": 301,
     "status": "ok",
     "timestamp": 1649361801536,
     "user": {
      "displayName": "Maxim Gasilin",
      "userId": "15501735730920561422"
     },
     "user_tz": -180
    },
    "id": "CtSDJXLJn2zb"
   },
   "outputs": [],
   "source": [
    "degree_regressor = make_pipeline(PolynomialFeatures(degree=2), LinearRegression())\n",
    "# обучим ее\n",
    "degree_regressor.fit(data2[:N_split,:], target2[:N_split])\n",
    "y = degree_regressor.predict(data2[N_split:,:])"
   ]
  },
  {
   "cell_type": "code",
   "execution_count": 46,
   "metadata": {
    "colab": {
     "base_uri": "https://localhost:8080/"
    },
    "executionInfo": {
     "elapsed": 8,
     "status": "ok",
     "timestamp": 1649361801538,
     "user": {
      "displayName": "Maxim Gasilin",
      "userId": "15501735730920561422"
     },
     "user_tz": -180
    },
    "id": "5uWCjLF6n2zb",
    "outputId": "73c0af4f-bad2-478f-e34b-348ecf98b502"
   },
   "outputs": [
    {
     "data": {
      "text/plain": [
       "267.6839997520778"
      ]
     },
     "execution_count": 46,
     "metadata": {},
     "output_type": "execute_result"
    }
   ],
   "source": [
    "np.sum((y - target2[N_split:] )**2)"
   ]
  },
  {
   "cell_type": "code",
   "execution_count": 47,
   "metadata": {
    "colab": {
     "base_uri": "https://localhost:8080/"
    },
    "executionInfo": {
     "elapsed": 7,
     "status": "ok",
     "timestamp": 1649361801538,
     "user": {
      "displayName": "Maxim Gasilin",
      "userId": "15501735730920561422"
     },
     "user_tz": -180
    },
    "id": "POQ8ZbHrn2zb",
    "outputId": "0beb5310-03fc-4423-9d76-6f76654e9fbc"
   },
   "outputs": [
    {
     "data": {
      "text/plain": [
       "7468537.841785819"
      ]
     },
     "execution_count": 47,
     "metadata": {},
     "output_type": "execute_result"
    }
   ],
   "source": [
    "np.sum((target2[N_split:]- np.mean(target2[N_split:]))**2)"
   ]
  },
  {
   "cell_type": "code",
   "execution_count": 48,
   "metadata": {
    "colab": {
     "base_uri": "https://localhost:8080/",
     "height": 0
    },
    "executionInfo": {
     "elapsed": 303,
     "status": "ok",
     "timestamp": 1649361801835,
     "user": {
      "displayName": "Maxim Gasilin",
      "userId": "15501735730920561422"
     },
     "user_tz": -180
    },
    "id": "iZMM41fbn2zb",
    "outputId": "09c278e9-ec73-4ecf-eae4-1dc8292a46de",
    "scrolled": true
   },
   "outputs": [
    {
     "data": {
      "image/png": "[encoded data removed]",
      "text/plain": [
       "<Figure size 432x288 with 1 Axes>"
      ]
     },
     "metadata": {
      "needs_background": "light"
     },
     "output_type": "display_data"
    },
    {
     "name": "stdout",
     "output_type": "stream",
     "text": [
      "Коэффициент детерминации 0.9999641584463489\n",
      "Коэффициент детерминации 0.9999641584463489\n"
     ]
    }
   ],
   "source": [
    "plt.plot(y,target2[N_split:],'or')\n",
    "\n",
    "plt.grid(True)\n",
    "plt.show()\n",
    "\n",
    "\n",
    "r2 = 1 - np.sum((y - target2[N_split:] )**2)/np.sum((target2[N_split:]- np.mean(target2[N_split:]))**2)\n",
    "print('Коэффициент детерминации', r2)\n",
    "print('Коэффициент детерминации', r2_score( target2[N_split:],y))"
   ]
  },
  {
   "cell_type": "markdown",
   "metadata": {
    "id": "esNMM7hXiqu4"
   },
   "source": [
    "## Литература"
   ]
  },
  {
   "cell_type": "markdown",
   "metadata": {
    "id": "vPQPnl--iqu4"
   },
   "source": [
    "1. [Стохастический градиентный спуск](http://www.machinelearning.ru/wiki/index.php?title=%D0%A1%D1%82%D0%BE%D1%85%D0%B0%D1%81%D1%82%D0%B8%D1%87%D0%B5%D1%81%D0%BA%D0%B8%D0%B9_%D0%B3%D1%80%D0%B0%D0%B4%D0%B8%D0%B5%D0%BD%D1%82%D0%BD%D1%8B%D0%B9_%D1%81%D0%BF%D1%83%D1%81%D0%BA)\n",
    "2. [sklearn.datasets.make_regression](https://scikit-learn.org/stable/modules/generated/sklearn.datasets.make_regression.html)\n",
    "3. [numpy.mean](https://docs.scipy.org/doc/numpy-1.14.0/reference/generated/numpy.mean.html)\n",
    "4. [sklearn.linear_model.LinearRegression](https://scikit-learn.org/stable/modules/generated/sklearn.linear_model.LinearRegression.html)\n",
    "5. [sklearn.preprocessing.PolynomialFeatures](https://scikit-learn.org/stable/modules/generated/sklearn.preprocessing.PolynomialFeatures.html)\n",
    "6. [sklearn.pipeline.make_pipeline](https://scikit-learn.org/stable/modules/generated/sklearn.pipeline.make_pipeline.html)"
   ]
  },
  {
   "cell_type": "markdown",
   "metadata": {
    "id": "pv-pdIHpiqu5"
   },
   "source": [
    "## Для самостоятельной работы"
   ]
  },
  {
   "cell_type": "markdown",
   "metadata": {
    "id": "osNM_LLkiqu6"
   },
   "source": [
    "1. Сгенерировать датасет при помощи `sklearn.datasets.make_regression` и обучить линейную модель при помощи градиентного и стохастического градиентного спуска. Нанести среднеквадратичную ошибку для обоих методов на один график, сделать выводы о разнице скорости сходимости каждого из методов."
   ]
  },
  {
   "cell_type": "code",
   "execution_count": 49,
   "metadata": {
    "executionInfo": {
     "elapsed": 2030,
     "status": "ok",
     "timestamp": 1649603995568,
     "user": {
      "displayName": "Maxim Gasilin",
      "userId": "15501735730920561422"
     },
     "user_tz": -180
    },
    "id": "R2bweyvtJkQK"
   },
   "outputs": [],
   "source": [
    "from sklearn.datasets import make_regression\n",
    "import numpy as np\n",
    "import pandas as pd\n",
    "import matplotlib.pyplot as plt\n",
    "import time\n",
    "import datetime"
   ]
  },
  {
   "cell_type": "code",
   "execution_count": 50,
   "metadata": {
    "executionInfo": {
     "elapsed": 253,
     "status": "ok",
     "timestamp": 1649604044845,
     "user": {
      "displayName": "Maxim Gasilin",
      "userId": "15501735730920561422"
     },
     "user_tz": -180
    },
    "id": "N55jxAaYJpqK"
   },
   "outputs": [],
   "source": [
    "datar,target = make_regression(1000,2)"
   ]
  },
  {
   "cell_type": "code",
   "execution_count": 51,
   "metadata": {
    "colab": {
     "base_uri": "https://localhost:8080/",
     "height": 295
    },
    "executionInfo": {
     "elapsed": 436,
     "status": "ok",
     "timestamp": 1649604046611,
     "user": {
      "displayName": "Maxim Gasilin",
      "userId": "15501735730920561422"
     },
     "user_tz": -180
    },
    "id": "VYQIrYNaJy8U",
    "outputId": "35b8351a-1f51-4fa6-b60d-29eee09e25a4"
   },
   "outputs": [
    {
     "data": {
      "image/png": "[encoded data removed]",
      "text/plain": [
       "<Figure size 1080x288 with 2 Axes>"
      ]
     },
     "metadata": {
      "needs_background": "light"
     },
     "output_type": "display_data"
    }
   ],
   "source": [
    "fig, axs = plt.subplots(1, 2, figsize=(15, 4))\n",
    "ax1, ax2 = axs\n",
    "\n",
    "ax1.plot(datar[:,0],target,'b.')\n",
    "ax1.title.set_text('Распределение target в зависимости от 1-го признака')\n",
    "ax1.set_xlabel('Признак 1')\n",
    "ax1.set_ylabel('Значение');\n",
    "\n",
    "ax2.plot(datar[:,1],target,'b.')\n",
    "ax2.title.set_text('Распределение target в зависимости от 2-го признака')\n",
    "ax2.set_xlabel('Признак 2')\n",
    "ax2.set_ylabel('Значение');\n"
   ]
  },
  {
   "cell_type": "code",
   "execution_count": 52,
   "metadata": {
    "executionInfo": {
     "elapsed": 272,
     "status": "ok",
     "timestamp": 1649604051483,
     "user": {
      "displayName": "Maxim Gasilin",
      "userId": "15501735730920561422"
     },
     "user_tz": -180
    },
    "id": "ufSgdxGvwO28"
   },
   "outputs": [],
   "source": [
    "X = datar.copy().astype(np.float64)\n",
    "# X"
   ]
  },
  {
   "cell_type": "markdown",
   "metadata": {
    "id": "-ShuksvirSsU"
   },
   "source": [
    "Проведем стандартизацию:"
   ]
  },
  {
   "cell_type": "code",
   "execution_count": 53,
   "metadata": {
    "executionInfo": {
     "elapsed": 246,
     "status": "ok",
     "timestamp": 1649604053273,
     "user": {
      "displayName": "Maxim Gasilin",
      "userId": "15501735730920561422"
     },
     "user_tz": -180
    },
    "id": "hXX_l1xOpXYl"
   },
   "outputs": [],
   "source": [
    "def calc_std_fit(x):\n",
    "    for i in range(len(x[0])):\n",
    "        x[:,i] = (x[:,i] - x[:,i].mean()) / x[:,i].std()\n",
    "    return x\n",
    "\n",
    "X = calc_std_fit(X)\n",
    "# print(X) "
   ]
  },
  {
   "cell_type": "markdown",
   "metadata": {
    "id": "qAuJicXfwK7F"
   },
   "source": [
    "Проведем нормализацию:"
   ]
  },
  {
   "cell_type": "code",
   "execution_count": 54,
   "metadata": {
    "executionInfo": {
     "elapsed": 1,
     "status": "ok",
     "timestamp": 1649604054464,
     "user": {
      "displayName": "Maxim Gasilin",
      "userId": "15501735730920561422"
     },
     "user_tz": -180
    },
    "id": "ode-aJjasRIt"
   },
   "outputs": [],
   "source": [
    "def calc_norm_fit(x):\n",
    "    for i in range(len(x[0])):\n",
    "        x[:,i]= (x[:,i] - x[:,i].min()) / (x[:,i].max() - x[:,i].min())\n",
    "    return x\n",
    "\n",
    "X = calc_norm_fit(X)\n",
    "# print(X) "
   ]
  },
  {
   "cell_type": "code",
   "execution_count": 55,
   "metadata": {
    "colab": {
     "base_uri": "https://localhost:8080/"
    },
    "executionInfo": {
     "elapsed": 398,
     "status": "ok",
     "timestamp": 1649604055800,
     "user": {
      "displayName": "Maxim Gasilin",
      "userId": "15501735730920561422"
     },
     "user_tz": -180
    },
    "id": "xrjcbSFHsHjN",
    "outputId": "e324c40e-a4b9-4f20-d036-658ec92fc5b7"
   },
   "outputs": [
    {
     "data": {
      "text/plain": [
       "array([[-1.11022302e-16,  0.00000000e+00],\n",
       "       [-1.11022302e-16,  0.00000000e+00],\n",
       "       [ 0.00000000e+00,  0.00000000e+00],\n",
       "       ...,\n",
       "       [-1.11022302e-16, -1.11022302e-16],\n",
       "       [ 0.00000000e+00,  0.00000000e+00],\n",
       "       [-1.11022302e-16,  1.11022302e-16]])"
      ]
     },
     "execution_count": 55,
     "metadata": {},
     "output_type": "execute_result"
    }
   ],
   "source": [
    "# Код, написанный ниже нужен, чтобы проверить корректность нормализации и стандартизации\n",
    "# выполненных выше. Создается еще один \"датасет\" и нормализуется/стандартизуется\n",
    "# теми же инструментами, что и на лекции. Затем результаты сравниваются.\n",
    "\n",
    "test_X = datar.copy().astype(np.float64)\n",
    "\n",
    "means = np.mean(test_X, axis=0)\n",
    "stds = np.std(test_X, axis=0)\n",
    "# параметр axis указывается для вычисления значений по столбцам, а не по всему массиву\n",
    "#(см. документацию в разделе источников)\n",
    "# вычтем каждое значение признака из среднего и поделим на стандартное отклонение\n",
    "for i in range(test_X.shape[0]):\n",
    "    for j in range(test_X.shape[1]):\n",
    "        test_X[i][j] = (test_X[i][j] - means[j])/stds[j]\n",
    "\n",
    "\n",
    "min = np.min(test_X, axis=0)\n",
    "max = np.max(test_X, axis=0)\n",
    "# параметр axis указывается для вычисления значений по столбцам, а не по всему массиву\n",
    "#(см. документацию в разделе источников)\n",
    "\n",
    "# нормализуем каждое значение\n",
    "for i in range(test_X.shape[0]):\n",
    "    for j in range(test_X.shape[1]):\n",
    "        test_X[i][j] = (test_X[i][j] - min[j])/(max[j] - min[j])\n",
    " \n",
    "X-test_X"
   ]
  },
  {
   "cell_type": "markdown",
   "metadata": {
    "id": "orxhMOSD2qQl"
   },
   "source": [
    "Расчет MSE"
   ]
  },
  {
   "cell_type": "code",
   "execution_count": 56,
   "metadata": {
    "executionInfo": {
     "elapsed": 271,
     "status": "ok",
     "timestamp": 1649604058165,
     "user": {
      "displayName": "Maxim Gasilin",
      "userId": "15501735730920561422"
     },
     "user_tz": -180
    },
    "id": "Z8g8KKKgpXZk"
   },
   "outputs": [],
   "source": [
    "def calc_mse(y, y_pred):\n",
    "    err = np.mean((y - y_pred) ** 2)\n",
    "    return err\n",
    "\n",
    "# Вариант из лекции, для проверки и тестирования\n",
    "def mserror(y, y_pred):\n",
    "    return (sum((y - y_pred)**2)) / len(y)"
   ]
  },
  {
   "cell_type": "markdown",
   "metadata": {
    "id": "EU9kTB7z21E8"
   },
   "source": [
    "Расчет при помощи метода градиентного спуска"
   ]
  },
  {
   "cell_type": "code",
   "execution_count": 57,
   "metadata": {
    "executionInfo": {
     "elapsed": 249,
     "status": "ok",
     "timestamp": 1649604060059,
     "user": {
      "displayName": "Maxim Gasilin",
      "userId": "15501735730920561422"
     },
     "user_tz": -180
    },
    "id": "wBQnC4NYKFO2"
   },
   "outputs": [],
   "source": [
    "def custom_gradient_descent(X, y, W=None, alpha=1e-04, eps=0.0):\n",
    "\n",
    "    start_time = time.time()\n",
    "\n",
    "    n = X.shape[0]\n",
    "    if W is None:\n",
    "      W = np.random.randn(X.shape[1], ) \n",
    "\n",
    "    errors = []  # ошибка для кривой обучения\n",
    "    min_err = float('inf') \n",
    "    i = 0  \n",
    "    iter_flag = True  \n",
    "    while iter_flag:\n",
    "        i += 1\n",
    "        y_pred = W @ X.T\n",
    "        err = calc_mse(y, y_pred)\n",
    "        errors.append(err)\n",
    "        if np.abs(min_err - err) > eps:  \n",
    "            min_err = err\n",
    "        else:            \n",
    "            iter_flag = False\n",
    "        # W -= alpha * (1 / n * 2 * np.sum(X.T * (y_pred - y), axis = 1))\n",
    "        W -= alpha * (1 / n * 2 * X.T @ (y_pred - y) )\n",
    "        # if n_iter % 100 == 0:\n",
    "        #     print(n_iter, W, err)\n",
    "\n",
    "    finish_time = time.time()    \n",
    "    time_spent = finish_time - start_time\n",
    "    \n",
    "    print(f'Выполнено итераций: {i}, веса: {W}, ошибка: {min_err}, время выполнения: {datetime.timedelta(seconds=time_spent)}')\n",
    "\n",
    "    return W.copy(), min_err, errors.copy(), time_spent"
   ]
  },
  {
   "cell_type": "code",
   "execution_count": 58,
   "metadata": {
    "colab": {
     "base_uri": "https://localhost:8080/"
    },
    "executionInfo": {
     "elapsed": 258,
     "status": "ok",
     "timestamp": 1649604061938,
     "user": {
      "displayName": "Maxim Gasilin",
      "userId": "15501735730920561422"
     },
     "user_tz": -180
    },
    "id": "20yXe5yduK5d",
    "outputId": "7bfd471f-0dd2-4ef7-8f24-61af89c7cbca"
   },
   "outputs": [
    {
     "data": {
      "text/plain": [
       "array([-0.6882387 ,  0.21327923])"
      ]
     },
     "execution_count": 58,
     "metadata": {},
     "output_type": "execute_result"
    }
   ],
   "source": [
    "W_begin = np.random.randn(X.shape[1], )  # начальное значение. Чтобы было одинаковое начальное значение для всех экспериментов.\n",
    "W_begin"
   ]
  },
  {
   "cell_type": "code",
   "execution_count": 59,
   "metadata": {
    "colab": {
     "base_uri": "https://localhost:8080/"
    },
    "executionInfo": {
     "elapsed": 3599,
     "status": "ok",
     "timestamp": 1649604066611,
     "user": {
      "displayName": "Maxim Gasilin",
      "userId": "15501735730920561422"
     },
     "user_tz": -180
    },
    "id": "Nl31M42I385s",
    "outputId": "57ee538f-c49a-4f3b-cb8f-35d62037b6c3"
   },
   "outputs": [
    {
     "name": "stdout",
     "output_type": "stream",
     "text": [
      "Выполнено итераций: 129313, веса: [-151.20046866  186.73345605], ошибка: 1965.6731062398803, время выполнения: 0:00:11.578925\n"
     ]
    }
   ],
   "source": [
    "W_gd, mse_gd, errors_gd, time_gd = custom_gradient_descent(X, target, W=W_begin, alpha=0.001, eps=0.000001)\n",
    "y_pred = W_gd @ X.T"
   ]
  },
  {
   "cell_type": "code",
   "execution_count": 60,
   "metadata": {
    "colab": {
     "base_uri": "https://localhost:8080/",
     "height": 295
    },
    "executionInfo": {
     "elapsed": 698,
     "status": "ok",
     "timestamp": 1649604072555,
     "user": {
      "displayName": "Maxim Gasilin",
      "userId": "15501735730920561422"
     },
     "user_tz": -180
    },
    "id": "jlVK7u67YVZR",
    "outputId": "f62fc86c-4ec7-4f79-a2af-2bdfb9d4ce6a"
   },
   "outputs": [
    {
     "data": {
      "image/png": "[encoded data removed]",
      "text/plain": [
       "<Figure size 1080x288 with 2 Axes>"
      ]
     },
     "metadata": {
      "needs_background": "light"
     },
     "output_type": "display_data"
    }
   ],
   "source": [
    "fig, axs = plt.subplots(1, 2, figsize=(15, 4))\n",
    "ax1, ax2 = axs\n",
    "\n",
    "ax1.plot(X[:,0], target, 'b.', label='source')\n",
    "ax1.plot(X[:,0], y_pred, 'go', label='predict')\n",
    "ax1.title.set_text('Распределение в зависимости от 1-го признака')\n",
    "ax1.set_xlabel('Признак 1')\n",
    "ax1.set_ylabel('Значение');\n",
    "\n",
    "ax2.plot(X[:,1],target,'b.', label='source')\n",
    "ax2.plot(X[:,1],y_pred,'go', label='predict')\n",
    "ax2.title.set_text('Распределение в зависимости от 2-го признака')\n",
    "ax2.set_xlabel('Признак 2')\n",
    "ax2.set_ylabel('Значение');"
   ]
  },
  {
   "cell_type": "markdown",
   "metadata": {
    "id": "S0evm64YMRjJ"
   },
   "source": [
    "Расчет при помощи метода стохастического градиентного спуска (СГС)."
   ]
  },
  {
   "cell_type": "code",
   "execution_count": 61,
   "metadata": {
    "executionInfo": {
     "elapsed": 253,
     "status": "ok",
     "timestamp": 1649604075952,
     "user": {
      "displayName": "Maxim Gasilin",
      "userId": "15501735730920561422"
     },
     "user_tz": -180
    },
    "id": "grkpqEBZMZtS"
   },
   "outputs": [],
   "source": [
    "def custom_stochastic_gradient_descent(X, y, W=None, alpha=1e-04, batch_size=1, n_epoch=1e+06, eps=0.0):\n",
    "\n",
    "    start_time = time.time()\n",
    "\n",
    "    n = X.shape[0]\n",
    "    if W is None:\n",
    "      W = np.random.randn(X.shape[1], ) \n",
    "\n",
    "    n_batch = n // batch_size  \n",
    "    if n % batch_size != 0:\n",
    "        n_batch += 1\n",
    "\n",
    "    min_err = float('inf') \n",
    "    err = 0.0\n",
    "    i = 0  \n",
    "    iter_flag = True  \n",
    "    errors = []  # добавлено для визуализации кривой обучения\n",
    "    while iter_flag:\n",
    "        i += 1\n",
    "        for b in range(n_batch):\n",
    "            start_ = batch_size * b\n",
    "            end_ = batch_size * (b + 1)\n",
    "            X_tmp = X.T[:, start_: end_]\n",
    "            y_tmp = y[start_: end_]\n",
    "            y_pred = W @ X_tmp\n",
    "            err = calc_mse(y_tmp, y_pred)\n",
    "            W -= alpha * (1 / n * 2 * X_tmp @ (y_pred - y_tmp))\n",
    "        errors.append(err)\n",
    "\n",
    "        if np.abs(min_err - err) > eps:          \n",
    "            min_err = err\n",
    "        else:                                    \n",
    "            iter_flag = False\n",
    "\n",
    "        if i==n_epoch:                               \n",
    "            iter_flag = False\n",
    "\n",
    "        if i % 10000 == 0:\n",
    "            print(i, W, err)\n",
    "\n",
    "    finish_time = time.time()\n",
    "    time_spent = finish_time - start_time\n",
    "    \n",
    "    print(f'Выполнено итераций: {i}, веса: {W}, ошибка: {min_err}, время выполнения: {datetime.timedelta(seconds=time_spent)}')\n",
    "\n",
    "    return W.copy(), min_err, errors.copy(), time_spent"
   ]
  },
  {
   "cell_type": "code",
   "execution_count": 62,
   "metadata": {
    "colab": {
     "base_uri": "https://localhost:8080/"
    },
    "executionInfo": {
     "elapsed": 71113,
     "status": "ok",
     "timestamp": 1649604150039,
     "user": {
      "displayName": "Maxim Gasilin",
      "userId": "15501735730920561422"
     },
     "user_tz": -180
    },
    "id": "qe2rjHQ8OtTe",
    "outputId": "a21b80ef-55e5-4602-ba21-b8c6c4b4e20a"
   },
   "outputs": [
    {
     "name": "stdout",
     "output_type": "stream",
     "text": [
      "10000 [-151.37055019  186.92285164] 724.6490423547702\n",
      "20000 [-151.47920313  187.04313916] 724.4637853757339\n",
      "30000 [-151.54839081  187.11973546] 724.3461073672604\n",
      "40000 [-151.59244792  187.16851022] 724.2712900653644\n",
      "50000 [-151.62050247  187.19956886] 724.2236957148036\n",
      "60000 [-151.63836695  187.21934628] 724.1934080250879\n",
      "70000 [-151.64974265  187.23194008] 724.1741293475964\n",
      "Выполнено итераций: 79349, веса: [-151.65660776  187.23954031], ошибка: 724.1624988108454, время выполнения: 0:05:25.667421\n"
     ]
    }
   ],
   "source": [
    "W_sgd, mse_sgd, errors_sgd, time_sgd = custom_stochastic_gradient_descent(X, target, W=W_begin, alpha=0.001, batch_size=10, eps=0.000001)\n",
    "y_pred = W_sgd @ X.T"
   ]
  },
  {
   "cell_type": "code",
   "execution_count": 63,
   "metadata": {
    "colab": {
     "base_uri": "https://localhost:8080/",
     "height": 295
    },
    "executionInfo": {
     "elapsed": 814,
     "status": "ok",
     "timestamp": 1649604159745,
     "user": {
      "displayName": "Maxim Gasilin",
      "userId": "15501735730920561422"
     },
     "user_tz": -180
    },
    "id": "29VZKOGcPHMM",
    "outputId": "8eba32ad-733b-4530-f3ac-8ea16f6bc789"
   },
   "outputs": [
    {
     "data": {
      "image/png": "[encoded data removed]",
      "text/plain": [
       "<Figure size 1080x288 with 2 Axes>"
      ]
     },
     "metadata": {
      "needs_background": "light"
     },
     "output_type": "display_data"
    }
   ],
   "source": [
    "fig, axs = plt.subplots(1, 2, figsize=(15, 4))\n",
    "ax1, ax2 = axs\n",
    "\n",
    "ax1.plot(X[:,0], target, 'b.', label='source')\n",
    "ax1.plot(X[:,0], y_pred, 'ro', label='predict')\n",
    "ax1.title.set_text('Распределение в зависимости от 1-го признака')\n",
    "ax1.set_xlabel('Признак 1')\n",
    "ax1.set_ylabel('Значение');\n",
    "\n",
    "ax2.plot(X[:,1], target,'b.', label='source')\n",
    "ax2.plot(X[:,1], y_pred,'ro', label='predict')\n",
    "ax2.title.set_text('Распределение в зависимости от 2-го признака')\n",
    "ax2.set_xlabel('Признак 2')\n",
    "ax2.set_ylabel('Значение');"
   ]
  },
  {
   "cell_type": "code",
   "execution_count": 64,
   "metadata": {
    "colab": {
     "base_uri": "https://localhost:8080/",
     "height": 606
    },
    "executionInfo": {
     "elapsed": 1062,
     "status": "ok",
     "timestamp": 1649604163206,
     "user": {
      "displayName": "Maxim Gasilin",
      "userId": "15501735730920561422"
     },
     "user_tz": -180
    },
    "id": "KF2a6cqKYdIh",
    "outputId": "3087fabd-9066-4ddd-f943-0a25751f41cb"
   },
   "outputs": [
    {
     "data": {
      "image/png": "[encoded data removed]",
      "text/plain": [
       "<Figure size 1152x720 with 1 Axes>"
      ]
     },
     "metadata": {
      "needs_background": "light"
     },
     "output_type": "display_data"
    }
   ],
   "source": [
    "plt.figure(figsize=(16, 10))\n",
    "plt.xlim((0,len(errors_gd)-1000))\n",
    "plt.plot([x for x in range(len(errors_gd))], errors_gd, c='g', label='GD-method')\n",
    "plt.plot([x for x in range(len(errors_sgd))], errors_sgd, c='r', label='SGD-method')\n",
    "plt.xlabel('iteratoin number')\n",
    "plt.xticks(list(plt.xticks()[0])+[len(errors_gd), len(errors_sgd)])\n",
    "plt.ylabel(r'$MSE$')\n",
    "plt.legend()\n",
    "plt.show()"
   ]
  },
  {
   "cell_type": "code",
   "execution_count": 65,
   "metadata": {
    "colab": {
     "base_uri": "https://localhost:8080/",
     "height": 610
    },
    "executionInfo": {
     "elapsed": 778,
     "status": "ok",
     "timestamp": 1649604298478,
     "user": {
      "displayName": "Maxim Gasilin",
      "userId": "15501735730920561422"
     },
     "user_tz": -180
    },
    "id": "Plw18zszyz9Q",
    "outputId": "19c9e21f-e30a-4e7b-c8e9-3bb1170a89be"
   },
   "outputs": [
    {
     "data": {
      "image/png": "[encoded data removed]",
      "text/plain": [
       "<Figure size 1152x720 with 1 Axes>"
      ]
     },
     "metadata": {
      "needs_background": "light"
     },
     "output_type": "display_data"
    }
   ],
   "source": [
    "x_lim = 500\n",
    "plt.figure(figsize=(16, 10))\n",
    "plt.ylim((1050, 1100))\n",
    "plt.xlim((0, x_lim))\n",
    "plt.plot([x for x in range(x_lim)], errors_gd[:x_lim], c='g', label='GD-method')\n",
    "plt.plot([x for x in range(x_lim)], errors_sgd[:x_lim], c='r', label='SGD-method')\n",
    "plt.xlabel('iteratoin number')\n",
    "plt.ylabel(r'$MSE$')\n",
    "plt.legend()\n",
    "plt.show()"
   ]
  },
  {
   "cell_type": "code",
   "execution_count": 66,
   "metadata": {
    "colab": {
     "base_uri": "https://localhost:8080/",
     "height": 616
    },
    "executionInfo": {
     "elapsed": 553,
     "status": "ok",
     "timestamp": 1649604306978,
     "user": {
      "displayName": "Maxim Gasilin",
      "userId": "15501735730920561422"
     },
     "user_tz": -180
    },
    "id": "0D3Ct7Ri1l3s",
    "outputId": "8c67d2bd-8cf7-4bf8-eddd-0182a610e977"
   },
   "outputs": [
    {
     "data": {
      "image/png": "[encoded data removed]",
      "text/plain": [
       "<Figure size 1152x720 with 1 Axes>"
      ]
     },
     "metadata": {
      "needs_background": "light"
     },
     "output_type": "display_data"
    }
   ],
   "source": [
    "# x_lim = 100000\n",
    "plt.figure(figsize=(16, 10))\n",
    "# plt.ylim((9500, 10000))\n",
    "# plt.xlim((0, x_lim))\n",
    "# plt.plot([x for x in range(x_lim)], errors_gd[:x_lim], c='g', label='GD-method')\n",
    "plt.plot([x for x in range(len(errors_sgd))], errors_sgd, c='r', label='SGD-method')\n",
    "plt.xlabel('iteratoin number')\n",
    "plt.ylabel(r'$MSE$')\n",
    "plt.legend()\n",
    "plt.show()"
   ]
  },
  {
   "cell_type": "markdown",
   "metadata": {
    "id": "rEeaQTX13Isc"
   },
   "source": [
    "2. Модифицировать решение первого задания путем добавления $L_{2}$-регуляризации (в функцию, считающую MSE добавить норму весов, а в поправку нужно добавить производную для нормы вектора весов по весам) и сравнить результаты."
   ]
  },
  {
   "cell_type": "code",
   "execution_count": 67,
   "metadata": {
    "executionInfo": {
     "elapsed": 246,
     "status": "ok",
     "timestamp": 1649604313786,
     "user": {
      "displayName": "Maxim Gasilin",
      "userId": "15501735730920561422"
     },
     "user_tz": -180
    },
    "id": "nDCGlM2_3CP0"
   },
   "outputs": [],
   "source": [
    "# L2 (Евклидова) норма вектора\n",
    "def l2_euclid(vec):\n",
    "    norm=0\n",
    "    for i in vec:\n",
    "        norm+=i**2\n",
    "    return norm**0.5"
   ]
  },
  {
   "cell_type": "code",
   "execution_count": 68,
   "metadata": {
    "executionInfo": {
     "elapsed": 242,
     "status": "ok",
     "timestamp": 1649604315367,
     "user": {
      "displayName": "Maxim Gasilin",
      "userId": "15501735730920561422"
     },
     "user_tz": -180
    },
    "id": "IwDAcfhe3SG8"
   },
   "outputs": [],
   "source": [
    "def custom_gradient_descent_l2(X, y, W=None, alpha=1e-04, eps=0.0, lambda_=0.0000001):\n",
    "\n",
    "    start_time = time.time()\n",
    "\n",
    "    n = X.shape[0]\n",
    "    if W is None:\n",
    "      W = np.random.randn(X.shape[1], ) \n",
    "\n",
    "    errors = []  # ошибка для кривой обучения\n",
    "    min_err = float('inf') \n",
    "    i = 0  \n",
    "    iter_flag = True  \n",
    "    while iter_flag:\n",
    "        i += 1\n",
    "        y_pred = W @ X.T\n",
    "        err = calc_mse(y, y_pred) + lambda_ * l2_euclid(W) # добавляем в расчет ошибки фактор L2 регуляризации\n",
    "        errors.append(err)\n",
    "        if np.abs(min_err - err) > eps:  \n",
    "            min_err = err\n",
    "        else:            \n",
    "            iter_flag = False\n",
    "        # W -= alpha * (1 / n * 2 * np.sum(X.T * (y_pred - y), axis = 1))\n",
    "        W -= alpha * (1 / n * 2 * X.T @ (y_pred - y)) + lambda_ * W # добавим коэфф. лямбда для расчёта \n",
    "        # if n_iter % 100 == 0:\n",
    "        #     print(n_iter, W, err)\n",
    "\n",
    "    finish_time = time.time()    \n",
    "    time_spent = finish_time - start_time\n",
    "    \n",
    "    print(f'Выполнено итераций: {i}, веса: {W}, ошибка: {min_err}, время выполнения: {datetime.timedelta(seconds=time_spent)}')\n",
    "\n",
    "    return W.copy(), min_err, errors.copy(), time_spent"
   ]
  },
  {
   "cell_type": "code",
   "execution_count": 69,
   "metadata": {
    "colab": {
     "base_uri": "https://localhost:8080/"
    },
    "executionInfo": {
     "elapsed": 5421,
     "status": "ok",
     "timestamp": 1649604323322,
     "user": {
      "displayName": "Maxim Gasilin",
      "userId": "15501735730920561422"
     },
     "user_tz": -180
    },
    "id": "cYP44BEl34ll",
    "outputId": "ded722c4-8e7c-428b-823b-efb8b6eba998"
   },
   "outputs": [
    {
     "name": "stdout",
     "output_type": "stream",
     "text": [
      "Выполнено итераций: 153500, веса: [-122.49320702  154.80819269], ошибка: 2008.636648770772, время выполнения: 0:00:17.402942\n"
     ]
    }
   ],
   "source": [
    "W_gd_l2, mse_gd_l2, errors_gd_l2, time_gd_l2 = custom_gradient_descent_l2(X, target, W=W_begin, alpha=0.001, eps=0.000001, lambda_=0.00001)\n",
    "y_pred = W_gd_l2 @ X.T"
   ]
  },
  {
   "cell_type": "code",
   "execution_count": 70,
   "metadata": {
    "colab": {
     "base_uri": "https://localhost:8080/",
     "height": 295
    },
    "executionInfo": {
     "elapsed": 893,
     "status": "ok",
     "timestamp": 1649604327815,
     "user": {
      "displayName": "Maxim Gasilin",
      "userId": "15501735730920561422"
     },
     "user_tz": -180
    },
    "id": "AHYRPZJm4Ggt",
    "outputId": "d469c535-22bc-438f-d39f-7dfefa9fafd1"
   },
   "outputs": [
    {
     "data": {
      "image/png": "[encoded data removed]",
      "text/plain": [
       "<Figure size 1080x288 with 2 Axes>"
      ]
     },
     "metadata": {
      "needs_background": "light"
     },
     "output_type": "display_data"
    }
   ],
   "source": [
    "ig, axs = plt.subplots(1, 2, figsize=(15, 4))\n",
    "ax1, ax2 = axs\n",
    "\n",
    "ax1.plot(X[:,0], target, 'b.', label='source')\n",
    "ax1.plot(X[:,0], y_pred, 'go', label='predict')\n",
    "ax1.title.set_text('Распределение в зависимости от 1-го признака')\n",
    "ax1.set_xlabel('Признак 1')\n",
    "ax1.set_ylabel('Значение');\n",
    "\n",
    "ax2.plot(X[:,1],target,'b.', label='source')\n",
    "ax2.plot(X[:,1],y_pred,'go', label='predict')\n",
    "ax2.title.set_text('Распределение в зависимости от 2-го признака')\n",
    "ax2.set_xlabel('Признак 2')\n",
    "ax2.set_ylabel('Значение');"
   ]
  },
  {
   "cell_type": "code",
   "execution_count": 71,
   "metadata": {
    "executionInfo": {
     "elapsed": 309,
     "status": "ok",
     "timestamp": 1649604330865,
     "user": {
      "displayName": "Maxim Gasilin",
      "userId": "15501735730920561422"
     },
     "user_tz": -180
    },
    "id": "kv72MPQf4gJb"
   },
   "outputs": [],
   "source": [
    "def custom_stochastic_gradient_descent_l2(X, y, W=None, alpha=1e-04, batch_size=1, n_epoch=1e+06, eps=0.0, lambda_=0.0):\n",
    "\n",
    "    start_time = time.time()\n",
    "\n",
    "    n = X.shape[0]\n",
    "    if W is None:\n",
    "      W = np.random.randn(X.shape[1], ) \n",
    "\n",
    "    n_batch = n // batch_size  \n",
    "    if n % batch_size != 0:\n",
    "        n_batch += 1\n",
    "\n",
    "    min_err = float('inf') \n",
    "    err = 0.0\n",
    "    i = 0  \n",
    "    iter_flag = True  \n",
    "    errors = []  # добавлено для визуализации кривой обучения\n",
    "    while iter_flag:\n",
    "        i += 1\n",
    "        for b in range(n_batch):\n",
    "            start_ = batch_size * b\n",
    "            end_ = batch_size * (b + 1)\n",
    "            X_tmp = X.T[:, start_: end_]\n",
    "            y_tmp = y[start_: end_]\n",
    "            y_pred = W @ X_tmp\n",
    "            err = calc_mse(y_tmp, y_pred) + lambda_ * l2_euclid(W) # добавляем в расчет ошибки фактор L2 регуляризации\n",
    "            W -= alpha * (1 / n * 2 * X_tmp @ (y_pred - y_tmp)) + lambda_ * W # добавим коэфф. лямбда для расчёта\n",
    "        errors.append(err)\n",
    "\n",
    "        if np.abs(min_err - err) > eps:          \n",
    "            min_err = err\n",
    "        else:                                    \n",
    "            iter_flag = False\n",
    "\n",
    "        if i==n_epoch:                               \n",
    "            iter_flag = False\n",
    "\n",
    "        # if i % 10000 == 0:\n",
    "        #     print(i, W, err)\n",
    "\n",
    "    finish_time = time.time()\n",
    "    time_spent = finish_time - start_time\n",
    "    \n",
    "    print(f'Выполнено итераций: {i}, веса: {W}, ошибка: {min_err}, время выполнения: {datetime.timedelta(seconds=time_spent)}')\n",
    "\n",
    "    return W.copy(), min_err, errors.copy(), time_spent"
   ]
  },
  {
   "cell_type": "code",
   "execution_count": 72,
   "metadata": {
    "colab": {
     "base_uri": "https://localhost:8080/"
    },
    "executionInfo": {
     "elapsed": 38069,
     "status": "ok",
     "timestamp": 1649604372221,
     "user": {
      "displayName": "Maxim Gasilin",
      "userId": "15501735730920561422"
     },
     "user_tz": -180
    },
    "id": "tECqo7rf5AtF",
    "outputId": "a2c864c3-a4a1-4362-8eda-008a8a6612fc"
   },
   "outputs": [
    {
     "name": "stdout",
     "output_type": "stream",
     "text": [
      "Выполнено итераций: 6684, веса: [0.23864469 0.94603619], ошибка: 1196.1372538106077, время выполнения: 0:01:11.695266\n"
     ]
    }
   ],
   "source": [
    "W_sgd_l2, mse_sgd_l2, errors_sgd_l2, time_sgd_l2 = custom_stochastic_gradient_descent_l2(X, target, W=W_begin, alpha=0.0001, batch_size=5, eps=0.000001, lambda_=0.00001)\n",
    "y_pred = W_sgd_l2 @ X.T"
   ]
  },
  {
   "cell_type": "code",
   "execution_count": 73,
   "metadata": {
    "colab": {
     "base_uri": "https://localhost:8080/",
     "height": 295
    },
    "executionInfo": {
     "elapsed": 802,
     "status": "ok",
     "timestamp": 1649604378259,
     "user": {
      "displayName": "Maxim Gasilin",
      "userId": "15501735730920561422"
     },
     "user_tz": -180
    },
    "id": "8G_sohAF5n1N",
    "outputId": "b5f3bb5a-04cd-4f09-92b3-3d869a765b20"
   },
   "outputs": [
    {
     "data": {
      "image/png": "[encoded data removed]",
      "text/plain": [
       "<Figure size 1080x288 with 2 Axes>"
      ]
     },
     "metadata": {
      "needs_background": "light"
     },
     "output_type": "display_data"
    }
   ],
   "source": [
    "fig, axs = plt.subplots(1, 2, figsize=(15, 4))\n",
    "ax1, ax2 = axs\n",
    "\n",
    "ax1.plot(X[:,0], target, 'b.', label='source')\n",
    "ax1.plot(X[:,0], y_pred, 'ro', label='predict')\n",
    "ax1.title.set_text('Распределение в зависимости от 1-го признака')\n",
    "ax1.set_xlabel('Признак 1')\n",
    "ax1.set_ylabel('Значение');\n",
    "\n",
    "ax2.plot(X[:,1],target,'b.',label='source')\n",
    "ax2.plot(X[:,1],y_pred,'ro',label='predict')\n",
    "ax2.title.set_text('Распределение в зависимости от 2-го признака')\n",
    "ax2.set_xlabel('Признак 2')\n",
    "ax2.set_ylabel('Значение');"
   ]
  },
  {
   "cell_type": "code",
   "execution_count": 74,
   "metadata": {
    "colab": {
     "base_uri": "https://localhost:8080/",
     "height": 175
    },
    "executionInfo": {
     "elapsed": 252,
     "status": "ok",
     "timestamp": 1649604415783,
     "user": {
      "displayName": "Maxim Gasilin",
      "userId": "15501735730920561422"
     },
     "user_tz": -180
    },
    "id": "g6s3khwA569s",
    "outputId": "40ab2bce-b654-486c-f8cc-28e0991778ed"
   },
   "outputs": [
    {
     "data": {
      "text/html": [
       "<div>\n",
       "<style scoped>\n",
       "    .dataframe tbody tr th:only-of-type {\n",
       "        vertical-align: middle;\n",
       "    }\n",
       "\n",
       "    .dataframe tbody tr th {\n",
       "        vertical-align: top;\n",
       "    }\n",
       "\n",
       "    .dataframe thead th {\n",
       "        text-align: right;\n",
       "    }\n",
       "</style>\n",
       "<table border=\"1\" class=\"dataframe\">\n",
       "  <thead>\n",
       "    <tr style=\"text-align: right;\">\n",
       "      <th></th>\n",
       "      <th>methods</th>\n",
       "      <th>lambda-coeff</th>\n",
       "      <th>eps-value</th>\n",
       "      <th>iterations</th>\n",
       "      <th>err-value</th>\n",
       "      <th>time</th>\n",
       "    </tr>\n",
       "  </thead>\n",
       "  <tbody>\n",
       "    <tr>\n",
       "      <th>0</th>\n",
       "      <td>GD</td>\n",
       "      <td>NaN</td>\n",
       "      <td>0.00001</td>\n",
       "      <td>129313</td>\n",
       "      <td>1965.673105</td>\n",
       "      <td>11.578925</td>\n",
       "    </tr>\n",
       "    <tr>\n",
       "      <th>1</th>\n",
       "      <td>SGD</td>\n",
       "      <td>NaN</td>\n",
       "      <td>0.00001</td>\n",
       "      <td>79349</td>\n",
       "      <td>724.162498</td>\n",
       "      <td>325.667421</td>\n",
       "    </tr>\n",
       "    <tr>\n",
       "      <th>2</th>\n",
       "      <td>GD + L2</td>\n",
       "      <td>0.00001</td>\n",
       "      <td>0.00001</td>\n",
       "      <td>153500</td>\n",
       "      <td>2008.636650</td>\n",
       "      <td>17.402942</td>\n",
       "    </tr>\n",
       "    <tr>\n",
       "      <th>3</th>\n",
       "      <td>SGD + L2</td>\n",
       "      <td>0.00001</td>\n",
       "      <td>0.00001</td>\n",
       "      <td>6684</td>\n",
       "      <td>1196.137255</td>\n",
       "      <td>71.695266</td>\n",
       "    </tr>\n",
       "  </tbody>\n",
       "</table>\n",
       "</div>"
      ],
      "text/plain": [
       "    methods  lambda-coeff  eps-value  iterations    err-value        time\n",
       "0        GD           NaN    0.00001      129313  1965.673105   11.578925\n",
       "1       SGD           NaN    0.00001       79349   724.162498  325.667421\n",
       "2   GD + L2       0.00001    0.00001      153500  2008.636650   17.402942\n",
       "3  SGD + L2       0.00001    0.00001        6684  1196.137255   71.695266"
      ]
     },
     "execution_count": 74,
     "metadata": {},
     "output_type": "execute_result"
    }
   ],
   "source": [
    "df=pd.DataFrame(\n",
    "    {\n",
    "        'methods':['GD', 'SGD','GD + L2','SGD + L2']\n",
    "        ,'lambda-coeff':[None,None,0.00001,0.00001]\n",
    "        ,'eps-value': 0.00001\n",
    "        ,'iterations': [len(it) for it in [errors_gd, errors_sgd, errors_gd_l2, errors_sgd_l2]]\n",
    "        ,'err-value': [it[-1] for it in [errors_gd, errors_sgd, errors_gd_l2, errors_sgd_l2]]\n",
    "        ,'time': [time_gd, time_sgd, time_gd_l2, time_sgd_l2]\n",
    "    }\n",
    ")\n",
    "df"
   ]
  },
  {
   "cell_type": "code",
   "execution_count": 75,
   "metadata": {
    "colab": {
     "base_uri": "https://localhost:8080/",
     "height": 112
    },
    "executionInfo": {
     "elapsed": 500,
     "status": "ok",
     "timestamp": 1649604420530,
     "user": {
      "displayName": "Maxim Gasilin",
      "userId": "15501735730920561422"
     },
     "user_tz": -180
    },
    "id": "yRd4WfMMBNxm",
    "outputId": "f27450fe-d989-4d74-ae39-22676b7212af"
   },
   "outputs": [
    {
     "data": {
      "text/html": [
       "<div>\n",
       "<style scoped>\n",
       "    .dataframe tbody tr th:only-of-type {\n",
       "        vertical-align: middle;\n",
       "    }\n",
       "\n",
       "    .dataframe tbody tr th {\n",
       "        vertical-align: top;\n",
       "    }\n",
       "\n",
       "    .dataframe thead th {\n",
       "        text-align: right;\n",
       "    }\n",
       "</style>\n",
       "<table border=\"1\" class=\"dataframe\">\n",
       "  <thead>\n",
       "    <tr style=\"text-align: right;\">\n",
       "      <th></th>\n",
       "      <th>GD</th>\n",
       "      <th>SGD</th>\n",
       "      <th>GD + L2</th>\n",
       "      <th>SGD + L2</th>\n",
       "    </tr>\n",
       "  </thead>\n",
       "  <tbody>\n",
       "    <tr>\n",
       "      <th>вес_0</th>\n",
       "      <td>-151.200469</td>\n",
       "      <td>-151.656608</td>\n",
       "      <td>-122.493207</td>\n",
       "      <td>0.238645</td>\n",
       "    </tr>\n",
       "    <tr>\n",
       "      <th>вес_1</th>\n",
       "      <td>186.733456</td>\n",
       "      <td>187.239540</td>\n",
       "      <td>154.808193</td>\n",
       "      <td>0.946036</td>\n",
       "    </tr>\n",
       "  </tbody>\n",
       "</table>\n",
       "</div>"
      ],
      "text/plain": [
       "               GD         SGD     GD + L2  SGD + L2\n",
       "вес_0 -151.200469 -151.656608 -122.493207  0.238645\n",
       "вес_1  186.733456  187.239540  154.808193  0.946036"
      ]
     },
     "execution_count": 75,
     "metadata": {},
     "output_type": "execute_result"
    }
   ],
   "source": [
    "df2=pd.DataFrame({'GD':W_gd, 'SGD':W_sgd,'GD + L2':W_gd_l2,'SGD + L2':W_sgd_l2}, index=['вес_'+str(i) for i in range(len(X[0]))])\n",
    "df2"
   ]
  },
  {
   "cell_type": "markdown",
   "metadata": {
    "id": "adQa9QyPFhU8"
   },
   "source": [
    "Выводы, которые можно сделать:\n",
    "1) Стохастический градиентный спуск работает медленнее обычного градиентного спуска по времени, зато проходит меньше итераций.\n",
    "2) Странное поведение стохастического градиентного спуска с применением l2-регуляризации."
   ]
  }
 ],
 "metadata": {
  "colab": {
   "collapsed_sections": [
    "JLVfsJXviqs1",
    "SMcddg8niqs5",
    "pZXExx-Yiqth",
    "Ws1-N-_Qiqus",
    "Lq5zA2Itiqu3",
    "esNMM7hXiqu4"
   ],
   "name": "Lesson_2_31_08.ipynb",
   "provenance": [
    {
     "file_id": "1nEC_D2y-maMuvbN-5iYFAjzLUw0eGOir",
     "timestamp": 1630424772666
    }
   ]
  },
  "kernelspec": {
   "display_name": "Python 3 (ipykernel)",
   "language": "python",
   "name": "python3"
  },
  "language_info": {
   "codemirror_mode": {
    "name": "ipython",
    "version": 3
   },
   "file_extension": ".py",
   "mimetype": "text/x-python",
   "name": "python",
   "nbconvert_exporter": "python",
   "pygments_lexer": "ipython3",
   "version": "3.9.12"
  }
 },
 "nbformat": 4,
 "nbformat_minor": 1
}
